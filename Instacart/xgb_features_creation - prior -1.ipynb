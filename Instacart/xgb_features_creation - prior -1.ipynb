{
 "cells": [
  {
   "cell_type": "markdown",
   "metadata": {},
   "source": [
    "### 1. Importing packages"
   ]
  },
  {
   "cell_type": "code",
   "execution_count": null,
   "metadata": {
    "collapsed": true
   },
   "outputs": [],
   "source": [
    "import pandas as pd\n",
    "import numpy as np\n",
    "import gc\n",
    "import warnings\n",
    "import matplotlib.pyplot as plt\n",
    "import time\n",
    "\n",
    "%matplotlib inline\n",
    "warnings.filterwarnings(\"ignore\")"
   ]
  },
  {
   "cell_type": "code",
   "execution_count": null,
   "metadata": {},
   "outputs": [],
   "source": [
    "gc.collect()"
   ]
  },
  {
   "cell_type": "markdown",
   "metadata": {},
   "source": [
    "### 2. Features creation"
   ]
  },
  {
   "cell_type": "markdown",
   "metadata": {},
   "source": [
    "###### Loading initial data"
   ]
  },
  {
   "cell_type": "code",
   "execution_count": null,
   "metadata": {
    "collapsed": true
   },
   "outputs": [],
   "source": [
    "path = 'C:/Users/AM000110/Desktop/ML/Kaggle/Instacart_Market_Basket_Analysis/input_data/'"
   ]
  },
  {
   "cell_type": "code",
   "execution_count": null,
   "metadata": {
    "collapsed": true
   },
   "outputs": [],
   "source": [
    "# Load Data ---------------------------------------------------------------\n",
    "\n",
    "aisles = pd.read_csv(path + 'aisles.csv')\n",
    "departments = pd.read_csv(path + 'departments.csv')\n",
    "orderp = pd.read_csv(path + 'order_products__prior.csv')\n",
    "ordert = pd.read_csv(path + 'order_products__train.csv')\n",
    "orders = pd.read_csv(path + 'orders.csv')\n",
    "products = pd.read_csv(path + 'products.csv')"
   ]
  },
  {
   "cell_type": "markdown",
   "metadata": {},
   "source": [
    "###### Joining to product aisle and department names"
   ]
  },
  {
   "cell_type": "code",
   "execution_count": null,
   "metadata": {
    "collapsed": true
   },
   "outputs": [],
   "source": [
    "products = pd.merge(products, aisles, on='aisle_id')\n",
    "products = pd.merge(products, departments, on='department_id')\n",
    "products = products[['product_id', 'aisle_id', 'department_id']]\n",
    "\n",
    "del aisles, departments\n",
    "gc.collect()"
   ]
  },
  {
   "cell_type": "markdown",
   "metadata": {},
   "source": [
    "###### Adding user_ids to order_train"
   ]
  },
  {
   "cell_type": "code",
   "execution_count": null,
   "metadata": {
    "collapsed": true
   },
   "outputs": [],
   "source": [
    "orders_users = orders[['order_id', 'user_id']]\n",
    "orders_users = orders_users[orders_users['order_id'].isin(ordert.order_id.values)]\n",
    "ordert = pd.merge(ordert, orders_users, on='order_id')\n",
    "\n",
    "orders_users\n",
    "gc.collect()"
   ]
  },
  {
   "cell_type": "markdown",
   "metadata": {},
   "source": [
    "###### Joining orders data with prior data"
   ]
  },
  {
   "cell_type": "code",
   "execution_count": null,
   "metadata": {
    "collapsed": true
   },
   "outputs": [],
   "source": [
    "orders_products = pd.merge(orders, orderp, on='order_id')\n",
    "orders_products = pd.merge(orders_products, products, on='product_id')\n",
    "\n",
    "del orderp, products\n",
    "gc.collect()"
   ]
  },
  {
   "cell_type": "code",
   "execution_count": null,
   "metadata": {
    "collapsed": true
   },
   "outputs": [],
   "source": [
    "f1_score = pd.read_csv('C:/Users/AM000110/Desktop/ML/Kaggle/Instacart_Market_Basket_Analysis/reordered_basket_size_prediction/f1_score.csv')\n",
    "f1_score = f1_score[['order_id', 'average_f1_score']]\n",
    "\n",
    "orders_products = pd.merge(orders_products, f1_score, on='order_id')\n",
    "del f1_score\n",
    "gc.collect()"
   ]
  },
  {
   "cell_type": "code",
   "execution_count": null,
   "metadata": {
    "collapsed": true
   },
   "outputs": [],
   "source": [
    "temp = pd.DataFrame(orders_products.groupby('user_id', as_index=False)['order_number'].max())\n",
    "temp.rename(columns={'order_number' : 'max_order_number'}, inplace=True)\n",
    "\n",
    "orders_products = pd.merge(orders_products, temp, on='user_id')\n",
    "del temp\n",
    "gc.collect()"
   ]
  },
  {
   "cell_type": "code",
   "execution_count": null,
   "metadata": {
    "collapsed": true
   },
   "outputs": [],
   "source": [
    "orders_products['dif'] = orders_products.max_order_number - orders_products.order_number\n",
    "prior_train = orders_products[orders_products.dif == 0]\n",
    "prior_train = prior_train[['user_id', 'order_id', 'product_id', 'reordered', 'days_since_prior_order', 'order_dow', 'order_hour_of_day']]\n",
    "prior_train.rename(columns={'days_since_prior_order' : 'time_since_last_order'}, inplace=True)"
   ]
  },
  {
   "cell_type": "code",
   "execution_count": null,
   "metadata": {
    "collapsed": true
   },
   "outputs": [],
   "source": [
    "orders_products = orders_products[orders_products.dif > 0]\n",
    "gc.collect()"
   ]
  },
  {
   "cell_type": "markdown",
   "metadata": {},
   "source": [
    "###### Product general features"
   ]
  },
  {
   "cell_type": "markdown",
   "metadata": {},
   "source": [
    "for each product:\n",
    "* total number of orders (prod_orders)\n",
    "* sum of reorders (prod_reorders)\n",
    "* number of unique users who buy it (prod_first_orders)\n",
    "* number of unque users who buy it more than 1 time (prod_second_orders)\n",
    "* product reorder probability = prod_second_orders / prod_first_orders\n",
    "* prod_reorder_times = 1 + prod_reorders / prod_first_orders\n",
    "* prod_reorder_ratio = prod_reorders / prod_orders\n",
    "* prod_average_order_hour_of_day (from me)\n",
    "* prod_average_order_dow (from me)\n",
    "* prod_frequency = prod_orders / total number of orders (from me)\n",
    "* prod_reorder_frequency = prod_reorders / sum of total reorders (from me)\n",
    "* prod_most_frequent_reoder_day (from me)\n",
    "* product second reorder probability (from me)\n",
    "* product aisle market share = aisle_orders / total_orders (from me)\n",
    "* product deparment market share = department orders / total orders (from me)\n",
    "* product market share in aisle = prod_orders / aisle_orders (from me)\n",
    "* product market share in department = prod_orders / department_orders (from me)\n",
    "* product order mean size (from me)\n",
    "* product mean share within order (from me)\n",
    "* product reorder std within users"
   ]
  },
  {
   "cell_type": "code",
   "execution_count": null,
   "metadata": {
    "collapsed": true
   },
   "outputs": [],
   "source": [
    "prd = pd.DataFrame()"
   ]
  },
  {
   "cell_type": "code",
   "execution_count": null,
   "metadata": {
    "collapsed": true
   },
   "outputs": [],
   "source": [
    "prd['prod_orders'] = orders_products.groupby('product_id')['order_id'].size()\n",
    "prd['prod_reorders'] = orders_products.groupby('product_id')['reordered'].sum()\n",
    "prd['prod_first_orders'] = orders_products.groupby('product_id')['user_id'].nunique()\n",
    "prd['aisle_id'] = orders_products.groupby('product_id')['aisle_id'].min().astype(int)\n",
    "prd['department_id'] = orders_products.groupby('product_id')['department_id'].min().astype(int)\n",
    "prd['prod_average_order_hour_of_day'] = orders_products.groupby('product_id')['order_hour_of_day'].mean()\n",
    "prd['prod_average_order_dow'] = orders_products.groupby('product_id')['order_dow'].mean()\n",
    "prd['prod_period'] = orders_products.groupby('product_id')['days_since_prior_order'].sum()\n",
    "# prd['prod_average_f1_score'] = orders_products.groupby('product_id')['average_f1_score'].mean()\n",
    "# prd['prod_max_f1_score'] = orders_products.groupby('product_id')['average_f1_score'].max()\n",
    "# prd['prod_std_f1_score'] = orders_products.groupby('product_id')['average_f1_score'].std()\n",
    "prd['prod_reoreder_mean_days'] = orders_products[orders_products.reordered > 0].groupby('product_id')['days_since_prior_order'].mean() \n",
    "prd['prod_reoreder_mean_hours'] = orders_products[orders_products.reordered > 0].groupby('product_id')['order_hour_of_day'].mean()\n",
    "prd['prod_reoreder_mean_dow'] = orders_products[orders_products.reordered > 0].groupby('product_id')['order_dow'].mean()\n",
    "prd['prod_mean_order_number'] = orders_products.groupby('product_id')['order_number'].mean()\n",
    "prd['prod_reorder_mean_order_number'] = orders_products[orders_products.reordered > 0].groupby('product_id')['order_number'].mean()\n",
    "prd['prod_reorder_user_share'] = orders_products[orders_products.reordered > 0].groupby('product_id')['user_id'].nunique() / orders_products.user_id.nunique()\n",
    "prd['prod_reorder_mean_add_to_cart_order'] = orders_products[orders_products.reordered > 0].groupby('product_id')['add_to_cart_order'].mean()"
   ]
  },
  {
   "cell_type": "code",
   "execution_count": null,
   "metadata": {
    "collapsed": true
   },
   "outputs": [],
   "source": [
    "temp = pd.DataFrame(orders_products.groupby('product_id')['user_id'].value_counts())\n",
    "temp.rename(columns={'user_id' : 'counts'}, inplace=True)\n",
    "temp.reset_index(inplace=True)\n",
    "\n",
    "prd['prod_second_orders'] = temp[temp['counts'] > 1].groupby('product_id')['counts'].size()\n",
    "prd['prod_third_orders'] = temp[temp['counts'] > 2].groupby('product_id')['counts'].size()\n",
    "\n",
    "del temp\n",
    "gc.collect()"
   ]
  },
  {
   "cell_type": "code",
   "execution_count": null,
   "metadata": {
    "collapsed": true
   },
   "outputs": [],
   "source": [
    "prd['prod_reorder_probability'] = prd.prod_second_orders / prd.prod_first_orders\n",
    "prd['prod_reorder_times'] = 1 + prd.prod_reorders / prd.prod_first_orders\n",
    "prd['prod_reorder_ratio'] = prd.prod_reorders / prd.prod_orders\n",
    "prd['prod_second_reorder_probability'] = prd.prod_third_orders / prd.prod_second_orders\n",
    "prd['prod_frequency'] = prd.prod_orders / len(np.unique(orders_products.order_id.values))\n",
    "prd['prod_reorder_frequency'] = prd.prod_reorders / orders_products.reordered.sum()"
   ]
  },
  {
   "cell_type": "code",
   "execution_count": null,
   "metadata": {
    "collapsed": true
   },
   "outputs": [],
   "source": [
    "temp = orders_products[orders_products['reordered'] != 0]\n",
    "temp = pd.DataFrame(temp.groupby('product_id')['order_dow'].value_counts())\n",
    "temp.rename(columns={'order_dow' : 'order_dow_counts'}, inplace=True)\n",
    "temp.reset_index(inplace=True)\n",
    "temp['max'] = temp.groupby(['product_id'])['order_dow_counts'].transform(max)\n",
    "temp['dif'] = temp['max'] - temp['order_dow_counts']\n",
    "temp = temp[temp['dif'] == 0]\n",
    "temp = pd.DataFrame(temp.groupby('product_id')['order_dow'].min())\n",
    "temp.rename(columns={'order_dow' : 'prod_most_frequent_reroder_order_dow'}, inplace=True)\n",
    "\n",
    "prd = prd.join(temp)\n",
    "\n",
    "del temp\n",
    "gc.collect()"
   ]
  },
  {
   "cell_type": "code",
   "execution_count": null,
   "metadata": {
    "collapsed": true
   },
   "outputs": [],
   "source": [
    "temp = orders_products[orders_products['reordered'] != 0]\n",
    "temp = pd.DataFrame(temp.groupby('product_id')['order_hour_of_day'].value_counts())\n",
    "temp.rename(columns={'order_hour_of_day' : 'order_hour_of_day_counts'}, inplace=True)\n",
    "temp.reset_index(inplace=True)\n",
    "temp['max'] = temp.groupby(['product_id'])['order_hour_of_day'].transform(max)\n",
    "temp['dif'] = temp['max'] - temp['order_hour_of_day_counts']\n",
    "temp = temp[temp['dif'] == 0]\n",
    "temp = pd.DataFrame(temp.groupby('product_id')['order_hour_of_day'].min())\n",
    "temp.rename(columns={'order_hour_of_day' : 'prod_most_frequent_reroder_order_hour_of_day'}, inplace=True)\n",
    "\n",
    "prd = prd.join(temp)\n",
    "\n",
    "del temp\n",
    "gc.collect()"
   ]
  },
  {
   "cell_type": "code",
   "execution_count": null,
   "metadata": {
    "collapsed": true
   },
   "outputs": [],
   "source": [
    "temp_temp = pd.DataFrame()\n",
    "temp = orders_products[['product_id','user_id', 'order_id', 'order_number', 'reordered']]\n",
    "\n",
    "temp_temp['first_order'] = temp.groupby(['product_id', 'user_id'])['order_number'].min()\n",
    "temp_temp['last_order'] = temp.groupby(['product_id', 'user_id'])['order_number'].max()\n",
    "temp_temp['dif'] = temp_temp.last_order - temp_temp.first_order\n",
    "temp_temp['reorder_order_numbers'] = temp[temp.reordered > 0].groupby(['product_id', 'user_id'])['order_number'].apply(list)\n",
    "\n",
    "del temp\n",
    "gc.collect()"
   ]
  },
  {
   "cell_type": "code",
   "execution_count": null,
   "metadata": {
    "collapsed": true
   },
   "outputs": [],
   "source": [
    "a = temp_temp.dropna().copy()    \n",
    "a['mean'] = a['dif']"
   ]
  },
  {
   "cell_type": "code",
   "execution_count": null,
   "metadata": {
    "collapsed": true,
    "scrolled": true
   },
   "outputs": [],
   "source": [
    "means = []\n",
    "i = 1\n",
    "\n",
    "t = time.time()\n",
    "for row in a[a.reorder_order_numbers.map(len) > 1].iterrows():\n",
    "\n",
    "    row[1].reorder_order_numbers.insert(0, row[1].first_order)\n",
    "    means.append(np.mean(np.array(row[1].reorder_order_numbers)[1:] - np.array(row[1].reorder_order_numbers)[:-1]))\n",
    "\n",
    "print(time.time() - t)\n",
    "a.loc[a.reorder_order_numbers.map(len) > 1, 'mean'] = means"
   ]
  },
  {
   "cell_type": "code",
   "execution_count": null,
   "metadata": {
    "collapsed": true
   },
   "outputs": [],
   "source": [
    "temp_temp.reset_index(inplace=True)\n",
    "a.reset_index(inplace=True)\n",
    "\n",
    "a = a[['product_id', 'user_id', 'mean']]\n",
    "temp_temp = pd.merge(temp_temp, a, on=['product_id', 'user_id'], how='left')\n",
    "temp_temp.fillna(value=0, inplace=True)"
   ]
  },
  {
   "cell_type": "code",
   "execution_count": null,
   "metadata": {
    "collapsed": true
   },
   "outputs": [],
   "source": [
    "prd['prod_average_first_last_orders_dif'] = temp_temp.groupby('product_id')['dif'].mean()\n",
    "prd['prod_reorder_order_since_prior_mean'] = temp_temp.groupby('product_id')['mean'].mean()"
   ]
  },
  {
   "cell_type": "code",
   "execution_count": null,
   "metadata": {
    "collapsed": true
   },
   "outputs": [],
   "source": [
    "data = pd.DataFrame()\n",
    "data['up_reorder_order_since_prior_mean'] = temp_temp.groupby(['user_id', 'product_id'])['mean'].min()"
   ]
  },
  {
   "cell_type": "code",
   "execution_count": null,
   "metadata": {
    "collapsed": true
   },
   "outputs": [],
   "source": [
    "temp.reset_index(inplace=True)\n",
    "data = pd.merge(data, temp, on = ['user_id', 'product_id'], how = 'left')"
   ]
  },
  {
   "cell_type": "code",
   "execution_count": null,
   "metadata": {
    "collapsed": true,
    "scrolled": true
   },
   "outputs": [],
   "source": [
    "del temp_temp, a, means\n",
    "gc.collect()"
   ]
  },
  {
   "cell_type": "code",
   "execution_count": null,
   "metadata": {
    "collapsed": true
   },
   "outputs": [],
   "source": [
    "temp = orders_products[['user_id', 'aisle_id', 'reordered']]\n",
    "\n",
    "temp_temp = pd.DataFrame()\n",
    "temp_temp['aisle_first_orders'] = temp.groupby('aisle_id')['user_id'].nunique()\n",
    "temp_temp['aisle_second_orders'] = temp[temp.reordered > 0].groupby('aisle_id')['user_id'].nunique()\n",
    "temp_temp['aisle_reorder_probability'] = temp_temp.aisle_second_orders / temp_temp.aisle_first_orders\n",
    "temp_temp = temp_temp[['aisle_reorder_probability']]\n",
    "temp_temp.reset_index(inplace=True)\n",
    "\n",
    "del temp\n",
    "gc.collect()"
   ]
  },
  {
   "cell_type": "code",
   "execution_count": null,
   "metadata": {
    "collapsed": true,
    "scrolled": true
   },
   "outputs": [],
   "source": [
    "temp = orders_products[['product_id', 'aisle_id']]\n",
    "temp.drop_duplicates(inplace=True)\n",
    "\n",
    "temp = pd.merge(temp, temp_temp, on = 'aisle_id', how = 'left')\n",
    "prd['prod_aisle_reorder_probability'] = temp.groupby('product_id')['aisle_reorder_probability'].min()\n",
    "\n",
    "del temp\n",
    "gc.collect()"
   ]
  },
  {
   "cell_type": "code",
   "execution_count": null,
   "metadata": {
    "collapsed": true
   },
   "outputs": [],
   "source": [
    "temp = orders_products[['user_id', 'department_id', 'reordered']]\n",
    "\n",
    "temp_temp = pd.DataFrame()\n",
    "temp_temp['department_first_orders'] = temp.groupby('department_id')['user_id'].nunique()\n",
    "temp_temp['department_second_orders'] = temp[temp.reordered > 0].groupby('department_id')['user_id'].nunique()\n",
    "temp_temp['department_reorder_probability'] = temp_temp.department_second_orders / temp_temp.department_first_orders\n",
    "temp_temp = temp_temp[['department_reorder_probability']]\n",
    "temp_temp.reset_index(inplace=True)\n",
    "\n",
    "del temp\n",
    "gc.collect()"
   ]
  },
  {
   "cell_type": "code",
   "execution_count": null,
   "metadata": {
    "collapsed": true,
    "scrolled": true
   },
   "outputs": [],
   "source": [
    "temp = orders_products[['product_id', 'department_id']]\n",
    "temp.drop_duplicates(inplace=True)\n",
    "\n",
    "temp = pd.merge(temp, temp_temp, on = 'department_id', how = 'left')\n",
    "prd['prod_department_reorder_probability'] = temp.groupby('product_id')['department_reorder_probability'].min()\n",
    "\n",
    "del temp\n",
    "gc.collect()"
   ]
  },
  {
   "cell_type": "code",
   "execution_count": null,
   "metadata": {
    "collapsed": true
   },
   "outputs": [],
   "source": [
    "temp = pd.DataFrame()\n",
    "temp['aisle_orders'] = orders_products.groupby('aisle_id', as_index=False)['order_id'].size()\n",
    "temp['prod_aisle_market_share'] = temp.aisle_orders / len(np.unique(orders_products.order_id.values))\n",
    "temp.reset_index(inplace = True)\n",
    "temp_temp = pd.DataFrame(orders_products.groupby('product_id')['aisle_id'].min())\n",
    "temp_temp.reset_index(inplace=True)\n",
    "temp_temp = temp_temp.merge(temp, on='aisle_id')\n",
    "\n",
    "prd['prod_aisle_market_share']  = temp_temp.groupby('product_id')['prod_aisle_market_share'].min()\n",
    "prd['prod_aisle_orders']  = temp_temp.groupby('product_id')['aisle_orders'].min()\n",
    "\n",
    "del temp, temp_temp\n",
    "gc.collect()"
   ]
  },
  {
   "cell_type": "code",
   "execution_count": null,
   "metadata": {
    "collapsed": true
   },
   "outputs": [],
   "source": [
    "temp = pd.DataFrame()\n",
    "temp['department_orders'] = orders_products.groupby('department_id', as_index=False)['order_id'].size()\n",
    "temp['prod_department_market_share'] = temp.department_orders / len(np.unique(orders_products.order_id.values))\n",
    "temp.reset_index(inplace = True)\n",
    "temp_temp = pd.DataFrame(orders_products.groupby('product_id')['department_id'].min())\n",
    "temp_temp.reset_index(inplace=True)\n",
    "temp_temp = temp_temp.merge(temp, on='department_id')\n",
    "\n",
    "prd['prod_department_market_share']  = temp_temp.groupby('product_id')['prod_department_market_share'].min()\n",
    "prd['prod_department_orders']  = temp_temp.groupby('product_id')['department_orders'].min()\n",
    "\n",
    "del temp, temp_temp\n",
    "gc.collect()"
   ]
  },
  {
   "cell_type": "code",
   "execution_count": null,
   "metadata": {
    "collapsed": true
   },
   "outputs": [],
   "source": [
    "prd['prod_market_share_in_aisle'] = prd.prod_orders / prd.prod_aisle_orders\n",
    "prd['prod_market_share_in_department'] = prd.prod_orders / prd.prod_department_orders"
   ]
  },
  {
   "cell_type": "code",
   "execution_count": null,
   "metadata": {
    "collapsed": true,
    "scrolled": true
   },
   "outputs": [],
   "source": [
    "temp = pd.DataFrame(orders_products.groupby(['product_id', 'user_id'], as_index=False)['reordered'].sum())\n",
    "temp = pd.DataFrame(temp.groupby(['product_id'])['reordered'].apply(list))\n",
    "\n",
    "std_var = []\n",
    "N = orders_products.user_id.nunique()\n",
    "for row in temp.iterrows():\n",
    "    all_users_data = row[1][0] + [0]*(N - len(row[1][0]))\n",
    "    std_var.append((row[0], np.std(all_users_data), np.var(all_users_data)))\n",
    "\n",
    "std_var = pd.DataFrame(std_var, columns=['product_id', 'prod_reorder_std', 'prod_reorder_var'])\n",
    "prd['prod_reorder_std'] = std_var.groupby('product_id')['prod_reorder_std'].min()\n",
    "prd['prod_reorder_variance'] = std_var.groupby('product_id')['prod_reorder_var'].min()\n",
    "\n",
    "del temp, std_var\n",
    "gc.collect()"
   ]
  },
  {
   "cell_type": "code",
   "execution_count": null,
   "metadata": {
    "collapsed": true
   },
   "outputs": [],
   "source": [
    "temp = pd.DataFrame(orders_products.groupby('order_id', as_index=False)['product_id'].size())\n",
    "temp.columns = ['order_size']\n",
    "temp['product_share'] = 1 / temp.order_size\n",
    "temp.reset_index(inplace=True)\n",
    "\n",
    "temp_temp = orders_products[['order_id', 'product_id']]\n",
    "temp_temp = pd.merge(temp_temp, temp, on='order_id')\n",
    "\n",
    "prd['prod_mean_order_size'] = temp_temp.groupby('product_id')['order_size'].mean()\n",
    "prd['prod_mean_order_share'] = temp_temp.groupby('product_id')['product_share'].mean()\n",
    "\n",
    "del temp, temp_temp\n",
    "gc.collect()"
   ]
  },
  {
   "cell_type": "code",
   "execution_count": null,
   "metadata": {
    "collapsed": true
   },
   "outputs": [],
   "source": [
    "# prd.drop(['prod_reorders', 'prod_first_orders', 'prod_second_orders', 'prod_aisle_orders', 'prod_department_orders'], axis=1, inplace=True)"
   ]
  },
  {
   "cell_type": "markdown",
   "metadata": {},
   "source": [
    "###### User general features"
   ]
  },
  {
   "cell_type": "markdown",
   "metadata": {},
   "source": [
    "for each user:\n",
    "* total number of orders (user_orders)\n",
    "* sum of days_since_prior_order (user_period)\n",
    "* mean of days_since_prior_order (user_mean_days_since_prior)\n",
    "* total number of ordered products (user_total_products)\n",
    "* user_reorder_ratio = sum(user_reordered_products) / (total number of products without first order)\n",
    "* total number of ordered unique products (user_distinct_products)\n",
    "* user max reorder rate (from me)\n",
    "* user mean reorder rate (from me)\n",
    "* user average reorder (from me)\n",
    "* user average hour of order (from me)\n",
    "* user average order dow (from me)\n"
   ]
  },
  {
   "cell_type": "code",
   "execution_count": null,
   "metadata": {
    "collapsed": true
   },
   "outputs": [],
   "source": [
    "users = pd.DataFrame()"
   ]
  },
  {
   "cell_type": "code",
   "execution_count": null,
   "metadata": {
    "collapsed": true
   },
   "outputs": [],
   "source": [
    "users['user_distinct_aisles'] = orders_products.groupby('user_id')['aisle_id'].nunique()\n",
    "users['user_distinct_departments'] = orders_products.groupby('user_id')['department_id'].nunique()\n",
    "users['user_average_order_hour_of_day'] = orders_products.groupby('user_id')['order_hour_of_day'].mean()\n",
    "users['user_average_order_dow'] = orders_products.groupby('user_id')['order_dow'].mean()\n",
    "\n",
    "# users['user_average_f1_score'] = orders_products.groupby('user_id')['average_f1_score'].mean()\n",
    "# users['user_max_f1_score'] = orders_products.groupby('user_id')['average_f1_score'].max()\n",
    "# users['user_std_f1_score'] = orders_products.groupby('user_id')['average_f1_score'].std()\n",
    "users['user_reoreder_mean_days'] = orders_products[orders_products.reordered > 0].groupby('user_id')['days_since_prior_order'].mean() \n",
    "users['user_reoreder_mean_hours'] = orders_products[orders_products.reordered > 0].groupby('user_id')['order_hour_of_day'].mean()\n",
    "users['user_reoreder_mean_dow'] = orders_products[orders_products.reordered > 0].groupby('user_id')['order_dow'].mean()\n",
    "\n",
    "users['user_reorder_distinct_products'] = orders_products[orders_products.reordered > 0].groupby('user_id')['product_id'].nunique()\n",
    "users['user_reorder_distinct_aisles'] = orders_products[orders_products.reordered > 0].groupby('user_id')['aisle_id'].nunique()\n",
    "users['user_reorder_distinct_departments'] = orders_products[orders_products.reordered > 0].groupby('user_id')['department_id'].nunique()\n"
   ]
  },
  {
   "cell_type": "code",
   "execution_count": null,
   "metadata": {
    "collapsed": true
   },
   "outputs": [],
   "source": [
    "temp = orders[orders['eval_set'] == 'prior']\n",
    "users['user_orders'] = temp.groupby('user_id')['order_number'].max()\n",
    "users['user_period'] = temp.groupby('user_id')['days_since_prior_order'].sum()\n",
    "users['user_mean_days_since_prior'] = temp.groupby('user_id')['days_since_prior_order'].mean()\n",
    "\n",
    "del temp\n",
    "gc.collect()"
   ]
  },
  {
   "cell_type": "code",
   "execution_count": null,
   "metadata": {
    "collapsed": true
   },
   "outputs": [],
   "source": [
    "temp = pd.DataFrame(orders_products.groupby(['user_id', 'order_id'])['reordered'].sum())\n",
    "temp.reset_index(inplace=True)\n",
    "\n",
    "temp_products = pd.DataFrame(orders_products.groupby('order_id')['product_id'].apply(list))\n",
    "temp_products.reset_index(inplace=True)\n",
    "temp_products.columns = ['order_id', 'products_list']\n",
    "temp_products['order_size'] = temp_products['products_list'].str.len() # defining order size\n",
    "temp_products.drop(['products_list'], axis=1, inplace=True)\n",
    "\n",
    "temp = pd.merge(temp, temp_products, on = 'order_id') \n",
    "temp['reorder_ratio'] = temp.reordered / temp.order_size\n",
    "\n",
    "users['user_max_reorder_rate'] = temp.groupby('user_id')['reorder_ratio'].max()\n",
    "users['user_mean_reorder_rate'] = temp.groupby('user_id')['reorder_ratio'].mean()\n",
    "users['user_average_reorder'] = temp.groupby('user_id')['reordered'].mean()\n",
    "\n",
    "del temp, temp_products\n",
    "gc.collect()"
   ]
  },
  {
   "cell_type": "code",
   "execution_count": null,
   "metadata": {
    "collapsed": true
   },
   "outputs": [],
   "source": [
    "us = pd.DataFrame()\n",
    "us['user_total_products'] = orders_products.groupby('user_id')['product_id'].size()\n",
    "us['user_distinct_products'] = orders_products.groupby('user_id')['product_id'].nunique()"
   ]
  },
  {
   "cell_type": "code",
   "execution_count": null,
   "metadata": {
    "collapsed": true
   },
   "outputs": [],
   "source": [
    "temp = orders_products[orders_products['order_number'] > 1]\n",
    "us['user_reorder_ratio'] = (orders_products.groupby('user_id')['reordered'].sum()\n",
    "                           / temp.groupby('user_id')['product_id'].size())\n",
    "\n",
    "del temp\n",
    "gc.collect()"
   ]
  },
  {
   "cell_type": "code",
   "execution_count": null,
   "metadata": {
    "collapsed": true
   },
   "outputs": [],
   "source": [
    "users = users.join(us)\n",
    "users['user_average_basket'] = users.user_total_products / users.user_orders\n",
    "\n",
    "del us\n",
    "gc.collect()"
   ]
  },
  {
   "cell_type": "markdown",
   "metadata": {},
   "source": [
    "###### Joining test and train orders data"
   ]
  },
  {
   "cell_type": "code",
   "execution_count": null,
   "metadata": {
    "collapsed": true
   },
   "outputs": [],
   "source": [
    "temp = orders[orders['eval_set'] != 'prior'][['user_id', 'order_id', 'eval_set', 'days_since_prior_order', 'order_dow', 'order_hour_of_day']]  \n",
    "temp.rename(columns={'days_since_prior_order' : 'time_since_last_order'}, inplace=True)\n",
    "temp.set_index('user_id', inplace=True)\n",
    "\n",
    "users = users.join(temp)\n",
    "\n",
    "del temp\n",
    "gc.collect()"
   ]
  },
  {
   "cell_type": "markdown",
   "metadata": {},
   "source": [
    "###### Database for training"
   ]
  },
  {
   "cell_type": "markdown",
   "metadata": {},
   "source": [
    "for each user + product pair:\n",
    "* total number of orders by user ordered the product (up_orders)\n",
    "* first order number of the product for user (up_first_order)\n",
    "* last order number of the product for user (up_last_order)\n",
    "* mean add_to_cart_order of product for user (up_average_cart_position)\n",
    "* up_order_rate = up_orders / user_orders\n",
    "* up_orders_since_last_order = user_orders - up_last_order\n",
    "* up_order_rate_since_first_order = up_orders/(user_orders - up_first_order + 1)\n",
    "* up_sum_cart_position (from me)\n",
    "* up_reoreder_frequency (from me)\n",
    "* up_porduct_score (form me)"
   ]
  },
  {
   "cell_type": "code",
   "execution_count": null,
   "metadata": {
    "collapsed": true
   },
   "outputs": [],
   "source": [
    "# data = pd.DataFrame()"
   ]
  },
  {
   "cell_type": "code",
   "execution_count": null,
   "metadata": {
    "collapsed": true
   },
   "outputs": [],
   "source": [
    "data['up_orders'] = orders_products.groupby(['user_id', 'product_id'])['order_number'].size()\n",
    "data['up_first_order'] = orders_products.groupby(['user_id', 'product_id'])['order_number'].min()\n",
    "data['up_last_order'] = orders_products.groupby(['user_id', 'product_id'])['order_number'].max()\n",
    "data['up_average_cart_position'] = orders_products.groupby(['user_id', 'product_id'])['add_to_cart_order'].mean()\n",
    "data['up_sum_cart_position'] = orders_products.groupby(['user_id', 'product_id'])['add_to_cart_order'].sum()\n",
    "data['up_product_period'] = orders_products.groupby(['user_id', 'product_id'])['days_since_prior_order'].sum()\n",
    "data['up_product_sum_order_number'] = orders_products.groupby(['user_id', 'product_id'])['order_number'].sum()\n",
    "# data['up_average_f1_scorer'] = orders_products.groupby(['user_id', 'product_id'])['average_f1_score'].mean()\n"
   ]
  },
  {
   "cell_type": "code",
   "execution_count": null,
   "metadata": {
    "collapsed": true
   },
   "outputs": [],
   "source": [
    "temp = pd.DataFrame(orders_products.groupby(['user_id', 'product_id'])['reordered'].sum())\n",
    "temp['total_reordered'] = temp.groupby('user_id')['reordered'].transform(sum)\n",
    "temp['up_reoreder_frequency'] = temp.reordered / temp.total_reordered\n",
    "temp = temp[['up_reoreder_frequency']]\n",
    "data = data.join(temp)\n",
    "\n",
    "del temp\n",
    "gc.collect()"
   ]
  },
  {
   "cell_type": "code",
   "execution_count": null,
   "metadata": {
    "collapsed": true
   },
   "outputs": [],
   "source": [
    "temp = orders_products[['user_id', 'product_id', 'order_number', 'reordered', 'days_since_prior_order', 'add_to_cart_order' ]]\n",
    "temp.fillna(value=1, inplace=True)\n",
    "temp['num_orders'] = temp.groupby(['user_id'])['order_number'].transform(max)\n",
    "temp['days_since_prior_order'] = np.power(temp['days_since_prior_order'], 1/6)\n",
    "temp['add_to_cart_order'] = np.power(temp['add_to_cart_order'], 1/6)\n",
    "temp['up_product_score'] = (temp['reordered'] * temp['order_number'] * temp['days_since_prior_order']\n",
    "                             / (temp['add_to_cart_order'] * temp['num_orders']))\n",
    "\n",
    "data['up_product_score'] = temp.groupby(['user_id', 'product_id'])['up_product_score'].sum()\n",
    "\n",
    "del temp\n",
    "gc.collect()"
   ]
  },
  {
   "cell_type": "code",
   "execution_count": null,
   "metadata": {
    "collapsed": true
   },
   "outputs": [],
   "source": [
    "temp = orders_products[['user_id', 'product_id', 'order_number', 'days_since_prior_order', 'add_to_cart_order' ]]\n",
    "temp.fillna(value=1, inplace=True)\n",
    "temp['num_orders'] = temp.groupby(['user_id'])['order_number'].transform(max)\n",
    "temp['days_since_prior_order'] = np.power(temp['days_since_prior_order'], 1/6)\n",
    "temp['add_to_cart_order'] = np.power(temp['add_to_cart_order'], 1/6)\n",
    "temp['up_product_score2'] = (temp['order_number'] * temp['days_since_prior_order']\n",
    "                             / (temp['add_to_cart_order'] * temp['num_orders']))\n",
    "\n",
    "data['up_product_score2'] = temp.groupby(['user_id', 'product_id'])['up_product_score2'].sum()\n",
    "\n",
    "del temp\n",
    "gc.collect()"
   ]
  },
  {
   "cell_type": "code",
   "execution_count": null,
   "metadata": {
    "collapsed": true
   },
   "outputs": [],
   "source": [
    "temp = pd.DataFrame(orders_products.groupby(['user_id'])['product_id'].size())\n",
    "temp_temp = pd.DataFrame(orders_products.groupby(['user_id', 'product_id'])['order_id'].size())\n",
    "\n",
    "temp.rename(columns={'product_id' : 'order_size'}, inplace=True)\n",
    "temp_temp.reset_index(inplace=True)\n",
    "temp.reset_index(inplace=True)\n",
    "temp_temp = pd.merge(temp_temp, temp, on = 'user_id')\n",
    "temp_temp['up_product_user_share'] = temp_temp.order_id / temp_temp.order_size\n",
    "\n",
    "data['up_product_user_share'] = temp_temp.groupby(['user_id', 'product_id'])['up_product_user_share'].min()\n",
    "\n",
    "del temp, temp_temp\n",
    "gc.collect()"
   ]
  },
  {
   "cell_type": "code",
   "execution_count": null,
   "metadata": {
    "collapsed": true
   },
   "outputs": [],
   "source": [
    "del orders_products, orders\n",
    "gc.collect()"
   ]
  },
  {
   "cell_type": "markdown",
   "metadata": {},
   "source": [
    "###### Joining data with prd and users"
   ]
  },
  {
   "cell_type": "code",
   "execution_count": null,
   "metadata": {
    "collapsed": true
   },
   "outputs": [],
   "source": [
    "data.reset_index(inplace=True)\n",
    "prd.reset_index(inplace=True)\n",
    "users.reset_index(inplace=True)"
   ]
  },
  {
   "cell_type": "code",
   "execution_count": null,
   "metadata": {
    "collapsed": true
   },
   "outputs": [],
   "source": [
    "data = pd.merge(data, prd, on='product_id')\n",
    "\n",
    "del prd\n",
    "gc.collect()\n",
    "\n",
    "data = pd.merge(data, users, on='user_id')\n",
    "\n",
    "del users\n",
    "gc.collect()"
   ]
  },
  {
   "cell_type": "code",
   "execution_count": null,
   "metadata": {
    "collapsed": true
   },
   "outputs": [],
   "source": [
    "data['up_order_rate'] = data.up_orders / data.user_orders\n",
    "data['up_orders_since_last_order'] = data.user_orders - data.up_last_order\n",
    "data['up_order_rate_since_first_order'] = data.up_orders / (data.user_orders - data.up_first_order + 1)\n",
    "data['up_days_since_last_order'] = data.user_period - data.up_product_period\n",
    "data['up_product_average_sum_order_numbers'] = data.up_product_sum_order_number / (data.user_orders * data.up_orders)\n",
    "# data['user_mean_f1_average_basket'] = data.user_average_f1_score * data.user_average_basket"
   ]
  },
  {
   "cell_type": "code",
   "execution_count": null,
   "metadata": {
    "collapsed": true
   },
   "outputs": [],
   "source": [
    "data = pd.merge(data, prior_train, how='left', on=['user_id', 'product_id'])\n",
    "\n",
    "del ordert, prior_train\n",
    "gc.collect()"
   ]
  },
  {
   "cell_type": "markdown",
   "metadata": {},
   "source": [
    "###### Changing data types for memory optimization"
   ]
  },
  {
   "cell_type": "code",
   "execution_count": null,
   "metadata": {
    "collapsed": true
   },
   "outputs": [],
   "source": [
    "data_dtypes = pd.read_csv(path + 'xgb_dtype_columns.csv', names=['column', 'dtype'], header=None)"
   ]
  },
  {
   "cell_type": "code",
   "execution_count": null,
   "metadata": {
    "collapsed": true
   },
   "outputs": [],
   "source": [
    "data.fillna(value=0, inplace=True)\n",
    "for row in data_dtypes.itertuples():\n",
    "    if row.dtype != 'np.float64':\n",
    "        data[row.column] = data[row.column].astype(eval(row.dtype))\n",
    "        print(row.column, row.dtype)"
   ]
  },
  {
   "cell_type": "markdown",
   "metadata": {},
   "source": [
    "###### Saving created features"
   ]
  },
  {
   "cell_type": "code",
   "execution_count": null,
   "metadata": {
    "collapsed": true
   },
   "outputs": [],
   "source": [
    "del orders, orders_products, orders_users, ordert\n",
    "gc.collect()"
   ]
  },
  {
   "cell_type": "code",
   "execution_count": null,
   "metadata": {
    "collapsed": true
   },
   "outputs": [],
   "source": [
    "data.to_pickle(path + 'xgb_prior_train')"
   ]
  },
  {
   "cell_type": "code",
   "execution_count": null,
   "metadata": {
    "collapsed": true
   },
   "outputs": [],
   "source": [
    "# train = pd.read_pickle(path + 'xgb_prior_train')"
   ]
  },
  {
   "cell_type": "code",
   "execution_count": null,
   "metadata": {},
   "outputs": [],
   "source": [
    "# orders = pd.read_csv(path + 'orders.csv')\n",
    "# orders = orders[orders.eval_set == 'test']\n",
    "# test_users = orders.user_id.values\n",
    "\n",
    "# del orders\n",
    "# gc.collect()"
   ]
  },
  {
   "cell_type": "code",
   "execution_count": null,
   "metadata": {
    "collapsed": true
   },
   "outputs": [],
   "source": [
    "# test_user_data = train[train.user_id.isin(test_users)][['user_id', 'order_id', 'product_id', 'reordered']]\n",
    "# test_user_data.to_pickle(path + 'xgb_prior_train_test')\n",
    "\n",
    "# del test_user_data\n",
    "# gc.collect()"
   ]
  },
  {
   "cell_type": "code",
   "execution_count": null,
   "metadata": {},
   "outputs": [],
   "source": [
    "# # test_user_test = train[train.user_id.isin(test_users)]\n",
    "# test_user_test.to_pickle(path + 'xgb_prior_train_test_data')\n",
    "\n",
    "# del test_user_data\n",
    "# gc.collect()"
   ]
  },
  {
   "cell_type": "code",
   "execution_count": null,
   "metadata": {
    "collapsed": true
   },
   "outputs": [],
   "source": []
  }
 ],
 "metadata": {
  "kernelspec": {
   "display_name": "Python 3",
   "language": "python",
   "name": "python3"
  },
  "language_info": {
   "codemirror_mode": {
    "name": "ipython",
    "version": 3
   },
   "file_extension": ".py",
   "mimetype": "text/x-python",
   "name": "python",
   "nbconvert_exporter": "python",
   "pygments_lexer": "ipython3",
   "version": "3.6.1"
  }
 },
 "nbformat": 4,
 "nbformat_minor": 2
}
