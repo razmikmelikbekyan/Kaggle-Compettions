{
 "cells": [
  {
   "cell_type": "markdown",
   "metadata": {},
   "source": [
    "### 1. Importing packages"
   ]
  },
  {
   "cell_type": "code",
   "execution_count": null,
   "metadata": {
    "collapsed": true
   },
   "outputs": [],
   "source": [
    "import pandas as pd\n",
    "import numpy as np\n",
    "import gc\n",
    "import warnings\n",
    "import matplotlib.pyplot as plt\n",
    "\n",
    "%matplotlib inline\n",
    "warnings.filterwarnings(\"ignore\")"
   ]
  },
  {
   "cell_type": "markdown",
   "metadata": {},
   "source": [
    "### 2. Features creation"
   ]
  },
  {
   "cell_type": "markdown",
   "metadata": {},
   "source": [
    "###### Loading initial data"
   ]
  },
  {
   "cell_type": "code",
   "execution_count": 2,
   "metadata": {
    "collapsed": true
   },
   "outputs": [],
   "source": [
    "path = 'C:/Users/AM000110/Desktop/ML/Kaggle/Instacart_Market_Basket_Analysis/input_data/'"
   ]
  },
  {
   "cell_type": "code",
   "execution_count": 3,
   "metadata": {
    "collapsed": true
   },
   "outputs": [],
   "source": [
    "# Load Data ---------------------------------------------------------------\n",
    "\n",
    "aisles = pd.read_csv(path + 'aisles.csv')\n",
    "departments = pd.read_csv(path + 'departments.csv')\n",
    "orderp = pd.read_csv(path + 'order_products__prior.csv')\n",
    "ordert = pd.read_csv(path + 'order_products__train.csv')\n",
    "orders = pd.read_csv(path + 'orders.csv')\n",
    "products = pd.read_csv(path + 'products.csv')"
   ]
  },
  {
   "cell_type": "markdown",
   "metadata": {},
   "source": [
    "###### Joining to product aisle and department names"
   ]
  },
  {
   "cell_type": "code",
   "execution_count": 4,
   "metadata": {},
   "outputs": [
    {
     "data": {
      "text/plain": [
       "53"
      ]
     },
     "execution_count": 4,
     "metadata": {},
     "output_type": "execute_result"
    }
   ],
   "source": [
    "products = pd.merge(products, aisles, on='aisle_id')\n",
    "products = pd.merge(products, departments, on='department_id')\n",
    "products = products[['product_id', 'aisle_id', 'department_id']]\n",
    "\n",
    "del aisles, departments\n",
    "gc.collect()"
   ]
  },
  {
   "cell_type": "markdown",
   "metadata": {},
   "source": [
    "###### Adding user_ids to order_train"
   ]
  },
  {
   "cell_type": "code",
   "execution_count": 5,
   "metadata": {},
   "outputs": [
    {
     "data": {
      "text/plain": [
       "14"
      ]
     },
     "execution_count": 5,
     "metadata": {},
     "output_type": "execute_result"
    }
   ],
   "source": [
    "orders_users = orders[['order_id', 'user_id']]\n",
    "orders_users = orders_users[orders_users['order_id'].isin(ordert.order_id.values)]\n",
    "ordert = pd.merge(ordert, orders_users, on='order_id')\n",
    "\n",
    "orders_users\n",
    "gc.collect()"
   ]
  },
  {
   "cell_type": "markdown",
   "metadata": {},
   "source": [
    "###### Joining orders data with prior data"
   ]
  },
  {
   "cell_type": "code",
   "execution_count": 6,
   "metadata": {},
   "outputs": [
    {
     "data": {
      "text/plain": [
       "35"
      ]
     },
     "execution_count": 6,
     "metadata": {},
     "output_type": "execute_result"
    }
   ],
   "source": [
    "orders_products = pd.merge(orders, orderp, on='order_id')\n",
    "orders_products = pd.merge(orders_products, products, on='product_id')\n",
    "\n",
    "del orderp, products\n",
    "gc.collect()"
   ]
  },
  {
   "cell_type": "markdown",
   "metadata": {},
   "source": [
    "###### Product general features"
   ]
  },
  {
   "cell_type": "markdown",
   "metadata": {},
   "source": [
    "for each product:\n",
    "* total number of orders (prod_orders)\n",
    "* sum of reorders (prod_reorders)\n",
    "* number of unique users who buy it (prod_first_orders)\n",
    "* number of unque users who buy it more than 1 time (prod_second_orders)\n",
    "* product reorder probability = prod_second_orders / prod_first_orders\n",
    "* prod_reorder_times = 1 + prod_reorders / prod_first_orders\n",
    "* prod_reorder_ratio = prod_reorders / prod_orders\n",
    "* prod_average_order_hour_of_day (from me)\n",
    "* prod_average_order_dow (from me)\n",
    "* prod_frequency = prod_orders / total number of orders (from me)\n",
    "* prod_reorder_frequency = prod_reorders / sum of total reorders (from me)\n",
    "* prod_most_frequent_reoder_day (from me)\n",
    "* product second reorder probability (from me)\n",
    "* product aisle market share = aisle_orders / total_orders (from me)\n",
    "* product deparment market share = department orders / total orders (from me)\n",
    "* product market share in aisle = prod_orders / aisle_orders (from me)\n",
    "* product market share in department = prod_orders / department_orders (from me)\n",
    "* product order mean size (from me)\n",
    "* product mean share within order (from me)\n",
    "* product reorder std within users"
   ]
  },
  {
   "cell_type": "code",
   "execution_count": 7,
   "metadata": {
    "collapsed": true
   },
   "outputs": [],
   "source": [
    "prd = pd.DataFrame()"
   ]
  },
  {
   "cell_type": "code",
   "execution_count": 8,
   "metadata": {
    "collapsed": true
   },
   "outputs": [],
   "source": [
    "prd['prod_orders'] = orders_products.groupby('product_id')['order_id'].size()\n",
    "prd['prod_reorders'] = orders_products.groupby('product_id')['reordered'].sum()\n",
    "prd['prod_first_orders'] = orders_products.groupby('product_id')['user_id'].nunique()\n",
    "prd['aisle_id'] = orders_products.groupby('product_id')['aisle_id'].min().astype(int)\n",
    "prd['department_id'] = orders_products.groupby('product_id')['department_id'].min().astype(int)\n",
    "prd['prod_average_order_hour_of_day'] = orders_products.groupby('product_id')['order_hour_of_day'].mean()\n",
    "prd['prod_average_order_dow'] = orders_products.groupby('product_id')['order_dow'].mean()\n",
    "prd['prod_period'] = orders_products.groupby('product_id')['days_since_prior_order'].sum()"
   ]
  },
  {
   "cell_type": "code",
   "execution_count": 9,
   "metadata": {},
   "outputs": [
    {
     "data": {
      "text/plain": [
       "70"
      ]
     },
     "execution_count": 9,
     "metadata": {},
     "output_type": "execute_result"
    }
   ],
   "source": [
    "temp = pd.DataFrame(orders_products.groupby('product_id')['user_id'].value_counts())\n",
    "temp.rename(columns={'user_id' : 'counts'}, inplace=True)\n",
    "temp.reset_index(inplace=True)\n",
    "\n",
    "prd['prod_second_orders'] = temp[temp['counts'] > 1].groupby('product_id')['counts'].size()\n",
    "prd['prod_third_orders'] = temp[temp['counts'] > 2].groupby('product_id')['counts'].size()\n",
    "\n",
    "del temp\n",
    "gc.collect()"
   ]
  },
  {
   "cell_type": "code",
   "execution_count": 10,
   "metadata": {
    "collapsed": true
   },
   "outputs": [],
   "source": [
    "prd['prod_reorder_probability'] = prd.prod_second_orders / prd.prod_first_orders\n",
    "prd['prod_reorder_times'] = 1 + prd.prod_reorders / prd.prod_first_orders\n",
    "prd['prod_reorder_ratio'] = prd.prod_reorders / prd.prod_orders\n",
    "prd['prod_second_reorder_probability'] = prd.prod_third_orders / prd.prod_second_orders\n",
    "prd['prod_frequency'] = prd.prod_orders / len(np.unique(orders_products.order_id.values))\n",
    "prd['prod_reorder_frequency'] = prd.prod_reorders / orders_products.reordered.sum()"
   ]
  },
  {
   "cell_type": "code",
   "execution_count": 11,
   "metadata": {},
   "outputs": [
    {
     "data": {
      "text/plain": [
       "76"
      ]
     },
     "execution_count": 11,
     "metadata": {},
     "output_type": "execute_result"
    }
   ],
   "source": [
    "temp = orders_products[orders_products['reordered'] != 0]\n",
    "temp = pd.DataFrame(temp.groupby('product_id')['order_dow'].value_counts())\n",
    "temp.rename(columns={'order_dow' : 'order_dow_counts'}, inplace=True)\n",
    "temp.reset_index(inplace=True)\n",
    "temp['max'] = temp.groupby(['product_id'])['order_dow_counts'].transform(max)\n",
    "temp['dif'] = temp['max'] - temp['order_dow_counts']\n",
    "temp = temp[temp['dif'] == 0]\n",
    "temp = pd.DataFrame(temp.groupby('product_id')['order_dow'].min())\n",
    "temp.rename(columns={'order_dow' : 'prod_most_frequent_reroder_order_dow'}, inplace=True)\n",
    "\n",
    "prd = prd.join(temp)\n",
    "\n",
    "del temp\n",
    "gc.collect()"
   ]
  },
  {
   "cell_type": "code",
   "execution_count": 12,
   "metadata": {},
   "outputs": [
    {
     "data": {
      "text/plain": [
       "84"
      ]
     },
     "execution_count": 12,
     "metadata": {},
     "output_type": "execute_result"
    }
   ],
   "source": [
    "temp = pd.DataFrame()\n",
    "temp['aisle_orders'] = orders_products.groupby('aisle_id', as_index=False)['order_id'].size()\n",
    "temp['prod_aisle_market_share'] = temp.aisle_orders / len(np.unique(orders_products.order_id.values))\n",
    "temp.reset_index(inplace = True)\n",
    "temp_temp = pd.DataFrame(orders_products.groupby('product_id')['aisle_id'].min())\n",
    "temp_temp.reset_index(inplace=True)\n",
    "temp_temp = temp_temp.merge(temp, on='aisle_id')\n",
    "\n",
    "prd['prod_aisle_market_share']  = temp_temp.groupby('product_id')['prod_aisle_market_share'].min()\n",
    "prd['prod_aisle_orders']  = temp_temp.groupby('product_id')['aisle_orders'].min()\n",
    "\n",
    "del temp, temp_temp\n",
    "gc.collect()"
   ]
  },
  {
   "cell_type": "code",
   "execution_count": 13,
   "metadata": {},
   "outputs": [
    {
     "data": {
      "text/plain": [
       "84"
      ]
     },
     "execution_count": 13,
     "metadata": {},
     "output_type": "execute_result"
    }
   ],
   "source": [
    "temp = pd.DataFrame()\n",
    "temp['department_orders'] = orders_products.groupby('department_id', as_index=False)['order_id'].size()\n",
    "temp['prod_department_market_share'] = temp.department_orders / len(np.unique(orders_products.order_id.values))\n",
    "temp.reset_index(inplace = True)\n",
    "temp_temp = pd.DataFrame(orders_products.groupby('product_id')['department_id'].min())\n",
    "temp_temp.reset_index(inplace=True)\n",
    "temp_temp = temp_temp.merge(temp, on='department_id')\n",
    "\n",
    "prd['prod_department_market_share']  = temp_temp.groupby('product_id')['prod_department_market_share'].min()\n",
    "prd['prod_department_orders']  = temp_temp.groupby('product_id')['department_orders'].min()\n",
    "\n",
    "del temp, temp_temp\n",
    "gc.collect()"
   ]
  },
  {
   "cell_type": "code",
   "execution_count": 14,
   "metadata": {
    "collapsed": true
   },
   "outputs": [],
   "source": [
    "prd['prod_market_share_in_aisle'] = prd.prod_orders / prd.prod_aisle_orders\n",
    "prd['prod_market_share_in_department'] = prd.prod_orders / prd.prod_department_orders"
   ]
  },
  {
   "cell_type": "code",
   "execution_count": 25,
   "metadata": {
    "scrolled": true
   },
   "outputs": [
    {
     "data": {
      "text/plain": [
       "787"
      ]
     },
     "execution_count": 25,
     "metadata": {},
     "output_type": "execute_result"
    }
   ],
   "source": [
    "temp = pd.DataFrame(orders_products.groupby(['product_id', 'user_id'], as_index=False)['reordered'].sum())\n",
    "temp = pd.DataFrame(temp.groupby(['product_id'])['reordered'].apply(list))\n",
    "\n",
    "std_var = []\n",
    "N = orders_products.user_id.nunique()\n",
    "for row in temp.iterrows():\n",
    "    all_users_data = row[1][0] + [0]*(N - len(row[1][0]))\n",
    "    std_var.append((row[0], np.std(all_users_data), np.var(all_users_data)))\n",
    "\n",
    "std_median = pd.DataFrame(std_var, columns=['product_id', 'prod_reorder_std', 'prod_reorder_var'])\n",
    "prd['prod_reorder_std'] = std_var.groupby('product_id')['prod_reorder_std'].min()\n",
    "prd['prod_reorder_variance'] = std_var.groupby('product_id')['prod_reorder_var'].min()\n",
    "\n",
    "del temp, std_var\n",
    "gc.collect()"
   ]
  },
  {
   "cell_type": "code",
   "execution_count": 59,
   "metadata": {},
   "outputs": [
    {
     "ename": "NameError",
     "evalue": "name 'orders_products' is not defined",
     "output_type": "error",
     "traceback": [
      "\u001b[0;31m---------------------------------------------------------------------------\u001b[0m",
      "\u001b[0;31mNameError\u001b[0m                                 Traceback (most recent call last)",
      "\u001b[0;32m<ipython-input-59-d0cc864bbadd>\u001b[0m in \u001b[0;36m<module>\u001b[0;34m()\u001b[0m\n\u001b[0;32m----> 1\u001b[0;31m \u001b[0mtemp\u001b[0m \u001b[1;33m=\u001b[0m \u001b[0mpd\u001b[0m\u001b[1;33m.\u001b[0m\u001b[0mDataFrame\u001b[0m\u001b[1;33m(\u001b[0m\u001b[0morders_products\u001b[0m\u001b[1;33m.\u001b[0m\u001b[0mgroupby\u001b[0m\u001b[1;33m(\u001b[0m\u001b[1;34m'order_id'\u001b[0m\u001b[1;33m,\u001b[0m \u001b[0mas_index\u001b[0m\u001b[1;33m=\u001b[0m\u001b[1;32mFalse\u001b[0m\u001b[1;33m)\u001b[0m\u001b[1;33m[\u001b[0m\u001b[1;34m'product_id'\u001b[0m\u001b[1;33m]\u001b[0m\u001b[1;33m.\u001b[0m\u001b[0msize\u001b[0m\u001b[1;33m(\u001b[0m\u001b[1;33m)\u001b[0m\u001b[1;33m)\u001b[0m\u001b[1;33m\u001b[0m\u001b[0m\n\u001b[0m\u001b[1;32m      2\u001b[0m \u001b[0mtemp\u001b[0m\u001b[1;33m.\u001b[0m\u001b[0mcolumns\u001b[0m \u001b[1;33m=\u001b[0m \u001b[1;33m[\u001b[0m\u001b[1;34m'order_size'\u001b[0m\u001b[1;33m]\u001b[0m\u001b[1;33m\u001b[0m\u001b[0m\n\u001b[1;32m      3\u001b[0m \u001b[0mtemp\u001b[0m\u001b[1;33m[\u001b[0m\u001b[1;34m'product_share'\u001b[0m\u001b[1;33m]\u001b[0m \u001b[1;33m=\u001b[0m \u001b[1;36m1\u001b[0m \u001b[1;33m/\u001b[0m \u001b[0mtemp\u001b[0m\u001b[1;33m.\u001b[0m\u001b[0morder_size\u001b[0m\u001b[1;33m\u001b[0m\u001b[0m\n\u001b[1;32m      4\u001b[0m \u001b[0mtemp\u001b[0m\u001b[1;33m.\u001b[0m\u001b[0mreset_index\u001b[0m\u001b[1;33m(\u001b[0m\u001b[0minplace\u001b[0m\u001b[1;33m=\u001b[0m\u001b[1;32mTrue\u001b[0m\u001b[1;33m)\u001b[0m\u001b[1;33m\u001b[0m\u001b[0m\n\u001b[1;32m      5\u001b[0m \u001b[1;33m\u001b[0m\u001b[0m\n",
      "\u001b[0;31mNameError\u001b[0m: name 'orders_products' is not defined"
     ]
    }
   ],
   "source": [
    "temp = pd.DataFrame(orders_products.groupby('order_id', as_index=False)['product_id'].size())\n",
    "temp.columns = ['order_size']\n",
    "temp['product_share'] = 1 / temp.order_size\n",
    "temp.reset_index(inplace=True)\n",
    "\n",
    "temp_temp = orders_products[['order_id', 'product_id']]\n",
    "temp_temp = pd.merge(temp_temp, temp, on='order_id')\n",
    "\n",
    "prd['prod_mean_order_size'] = temp_temp.groupby('product_id')['order_size'].mean()\n",
    "prd['prod_mean_order_share'] = temp_temp.groupby('product_id')['product_share'].mean()\n",
    "\n",
    "del temp, temp_temp\n",
    "gc.collect()"
   ]
  },
  {
   "cell_type": "code",
   "execution_count": 28,
   "metadata": {},
   "outputs": [],
   "source": [
    "prd.drop(['prod_reorders', 'prod_first_orders', 'prod_second_orders', 'prod_aisle_orders', 'prod_department_orders'], axis=1, inplace=True)"
   ]
  },
  {
   "cell_type": "markdown",
   "metadata": {},
   "source": [
    "###### User general features"
   ]
  },
  {
   "cell_type": "markdown",
   "metadata": {},
   "source": [
    "for each user:\n",
    "* total number of orders (user_orders)\n",
    "* sum of days_since_prior_order (user_period)\n",
    "* mean of days_since_prior_order (user_mean_days_since_prior)\n",
    "* total number of ordered products (user_total_products)\n",
    "* user_reorder_ratio = sum(user_reordered_products) / (total number of products without first order)\n",
    "* total number of ordered unique products (user_distinct_products)\n",
    "* user max reorder rate (from me)\n",
    "* user mean reorder rate (from me)\n",
    "* user average reorder (from me)\n",
    "* user average hour of order (from me)\n",
    "* user average order dow (from me)\n"
   ]
  },
  {
   "cell_type": "code",
   "execution_count": 29,
   "metadata": {
    "collapsed": true
   },
   "outputs": [],
   "source": [
    "users = pd.DataFrame()"
   ]
  },
  {
   "cell_type": "code",
   "execution_count": 30,
   "metadata": {
    "collapsed": true
   },
   "outputs": [],
   "source": [
    "users['user_distinct_aisles'] = orders_products.groupby('user_id')['aisle_id'].nunique()\n",
    "users['user_distinct_departments'] = orders_products.groupby('user_id')['department_id'].nunique()\n",
    "users['user_average_order_hour_of_day'] = orders_products.groupby('user_id')['order_hour_of_day'].mean()\n",
    "users['user_average_order_dow'] = orders_products.groupby('user_id')['order_dow'].mean()"
   ]
  },
  {
   "cell_type": "code",
   "execution_count": 31,
   "metadata": {},
   "outputs": [
    {
     "data": {
      "text/plain": [
       "206"
      ]
     },
     "execution_count": 31,
     "metadata": {},
     "output_type": "execute_result"
    }
   ],
   "source": [
    "temp = orders[orders['eval_set'] == 'prior']\n",
    "users['user_orders'] = temp.groupby('user_id')['order_number'].max()\n",
    "users['user_period'] = temp.groupby('user_id')['days_since_prior_order'].sum()\n",
    "users['user_mean_days_since_prior'] = temp.groupby('user_id')['days_since_prior_order'].mean()\n",
    "\n",
    "del temp\n",
    "gc.collect()"
   ]
  },
  {
   "cell_type": "code",
   "execution_count": 32,
   "metadata": {},
   "outputs": [
    {
     "data": {
      "text/plain": [
       "77"
      ]
     },
     "execution_count": 32,
     "metadata": {},
     "output_type": "execute_result"
    }
   ],
   "source": [
    "temp = pd.DataFrame(orders_products.groupby(['user_id', 'order_id'])['reordered'].sum())\n",
    "temp.reset_index(inplace=True)\n",
    "\n",
    "temp_products = pd.DataFrame(orders_products.groupby('order_id')['product_id'].apply(list))\n",
    "temp_products.reset_index(inplace=True)\n",
    "temp_products.columns = ['order_id', 'products_list']\n",
    "temp_products['order_size'] = temp_products['products_list'].str.len() # defining order size\n",
    "temp_products.drop(['products_list'], axis=1, inplace=True)\n",
    "\n",
    "temp = pd.merge(temp, temp_products, on = 'order_id') \n",
    "temp['reorder_ratio'] = temp.reordered / temp.order_size\n",
    "\n",
    "users['user_max_reorder_rate'] = temp.groupby('user_id')['reorder_ratio'].max()\n",
    "users['user_mean_reorder_rate'] = temp.groupby('user_id')['reorder_ratio'].mean()\n",
    "users['user_average_reorder'] = temp.groupby('user_id')['reordered'].mean()\n",
    "\n",
    "del temp, temp_products\n",
    "gc.collect()"
   ]
  },
  {
   "cell_type": "code",
   "execution_count": 33,
   "metadata": {
    "collapsed": true
   },
   "outputs": [],
   "source": [
    "us = pd.DataFrame()\n",
    "us['user_total_products'] = orders_products.groupby('user_id')['product_id'].size()\n",
    "us['user_distinct_products'] = orders_products.groupby('user_id')['product_id'].nunique()"
   ]
  },
  {
   "cell_type": "code",
   "execution_count": 34,
   "metadata": {},
   "outputs": [
    {
     "data": {
      "text/plain": [
       "35"
      ]
     },
     "execution_count": 34,
     "metadata": {},
     "output_type": "execute_result"
    }
   ],
   "source": [
    "temp = orders_products[orders_products['order_number'] > 1]\n",
    "us['user_reorder_ratio'] = (orders_products.groupby('user_id')['reordered'].sum()\n",
    "                           / temp.groupby('user_id')['product_id'].size())\n",
    "\n",
    "del temp\n",
    "gc.collect()"
   ]
  },
  {
   "cell_type": "code",
   "execution_count": 35,
   "metadata": {},
   "outputs": [
    {
     "data": {
      "text/plain": [
       "28"
      ]
     },
     "execution_count": 35,
     "metadata": {},
     "output_type": "execute_result"
    }
   ],
   "source": [
    "users = users.join(us)\n",
    "users['user_average_basket'] = users.user_total_products / users.user_orders\n",
    "\n",
    "del us\n",
    "gc.collect()"
   ]
  },
  {
   "cell_type": "code",
   "execution_count": 36,
   "metadata": {
    "collapsed": true
   },
   "outputs": [],
   "source": [
    "# f1_score = pd.read_csv('C:/Users/AM000110/Desktop/ML/Kaggle/Instacart_Market_Basket_Analysis/reordered_basket_size_prediction/f1_score.csv')\n",
    "\n",
    "# users['user_mean_f1_score'] = f1_score.groupby('user_id')['average_f1_score'].mean()\n",
    "\n",
    "# del f1_score\n",
    "# gc.collect()"
   ]
  },
  {
   "cell_type": "markdown",
   "metadata": {},
   "source": [
    "###### Joining test and train orders data"
   ]
  },
  {
   "cell_type": "code",
   "execution_count": 37,
   "metadata": {},
   "outputs": [
    {
     "data": {
      "text/plain": [
       "28"
      ]
     },
     "execution_count": 37,
     "metadata": {},
     "output_type": "execute_result"
    }
   ],
   "source": [
    "temp = orders[orders['eval_set'] != 'prior'][['user_id', 'order_id', 'eval_set', 'days_since_prior_order', 'order_dow', 'order_hour_of_day']]  \n",
    "temp.rename(columns={'days_since_prior_order' : 'time_since_last_order'}, inplace=True)\n",
    "temp.set_index('user_id', inplace=True)\n",
    "\n",
    "users = users.join(temp)\n",
    "\n",
    "del temp\n",
    "gc.collect()"
   ]
  },
  {
   "cell_type": "markdown",
   "metadata": {},
   "source": [
    "###### Database for training"
   ]
  },
  {
   "cell_type": "markdown",
   "metadata": {},
   "source": [
    "for each user + product pair:\n",
    "* total number of orders by user ordered the product (up_orders)\n",
    "* first order number of the product for user (up_first_order)\n",
    "* last order number of the product for user (up_last_order)\n",
    "* mean add_to_cart_order of product for user (up_average_cart_position)\n",
    "* up_order_rate = up_orders / user_orders\n",
    "* up_orders_since_last_order = user_orders - up_last_order\n",
    "* up_order_rate_since_first_order = up_orders/(user_orders - up_first_order + 1)\n",
    "* up_sum_cart_position (from me)\n",
    "* up_reoreder_frequency (from me)\n",
    "* up_porduct_score (form me)"
   ]
  },
  {
   "cell_type": "code",
   "execution_count": 38,
   "metadata": {
    "collapsed": true
   },
   "outputs": [],
   "source": [
    "data = pd.DataFrame()"
   ]
  },
  {
   "cell_type": "code",
   "execution_count": 39,
   "metadata": {
    "collapsed": true
   },
   "outputs": [],
   "source": [
    "data['up_orders'] = orders_products.groupby(['user_id', 'product_id'])['order_number'].size()\n",
    "data['up_first_order'] = orders_products.groupby(['user_id', 'product_id'])['order_number'].min()\n",
    "data['up_last_order'] = orders_products.groupby(['user_id', 'product_id'])['order_number'].max()\n",
    "data['up_average_cart_position'] = orders_products.groupby(['user_id', 'product_id'])['add_to_cart_order'].mean()\n",
    "data['up_sum_cart_position'] = orders_products.groupby(['user_id', 'product_id'])['add_to_cart_order'].sum()\n",
    "data['up_product_period'] = orders_products.groupby(['user_id', 'product_id'])['days_since_prior_order'].sum()\n",
    "# data['up_product_sum_order_number'] = orders_products.groupby(['user_id', 'product_id'])['order_number'].sum()"
   ]
  },
  {
   "cell_type": "code",
   "execution_count": 40,
   "metadata": {},
   "outputs": [
    {
     "data": {
      "text/plain": [
       "99"
      ]
     },
     "execution_count": 40,
     "metadata": {},
     "output_type": "execute_result"
    }
   ],
   "source": [
    "temp = pd.DataFrame(orders_products.groupby(['user_id', 'product_id'])['reordered'].sum())\n",
    "temp['total_reordered'] = temp.groupby('user_id')['reordered'].transform(sum)\n",
    "temp['up_reoreder_frequency'] = temp.reordered / temp.total_reordered\n",
    "temp = temp[['up_reoreder_frequency']]\n",
    "data = data.join(temp)\n",
    "\n",
    "del temp\n",
    "gc.collect()"
   ]
  },
  {
   "cell_type": "code",
   "execution_count": 41,
   "metadata": {},
   "outputs": [
    {
     "data": {
      "text/plain": [
       "21"
      ]
     },
     "execution_count": 41,
     "metadata": {},
     "output_type": "execute_result"
    }
   ],
   "source": [
    "temp = orders_products[['user_id', 'product_id', 'order_number', 'reordered', 'days_since_prior_order', 'add_to_cart_order' ]]\n",
    "temp.fillna(value=1, inplace=True)\n",
    "temp['num_orders'] = temp.groupby(['user_id'])['order_number'].transform(max)\n",
    "temp['days_since_prior_order'] = np.power(temp['days_since_prior_order'], 1/6)\n",
    "temp['add_to_cart_order'] = np.power(temp['add_to_cart_order'], 1/6)\n",
    "temp['up_product_score'] = (temp['reordered'] * temp['order_number'] * temp['days_since_prior_order']\n",
    "                             / (temp['add_to_cart_order'] * temp['num_orders']))\n",
    "\n",
    "data['up_product_score'] = temp.groupby(['user_id', 'product_id'])['up_product_score'].sum()\n",
    "\n",
    "del temp\n",
    "gc.collect()"
   ]
  },
  {
   "cell_type": "code",
   "execution_count": 42,
   "metadata": {},
   "outputs": [
    {
     "data": {
      "text/plain": [
       "77"
      ]
     },
     "execution_count": 42,
     "metadata": {},
     "output_type": "execute_result"
    }
   ],
   "source": [
    "temp = pd.DataFrame(orders_products.groupby(['user_id'])['product_id'].size())\n",
    "temp_temp = pd.DataFrame(orders_products.groupby(['user_id', 'product_id'])['order_id'].size())\n",
    "\n",
    "temp.rename(columns={'product_id' : 'order_size'}, inplace=True)\n",
    "temp_temp.reset_index(inplace=True)\n",
    "temp.reset_index(inplace=True)\n",
    "temp_temp = pd.merge(temp_temp, temp, on = 'user_id')\n",
    "temp_temp['up_product_user_share'] = temp_temp.order_id / temp_temp.order_size\n",
    "\n",
    "data['up_product_user_share'] = temp_temp.groupby(['user_id', 'product_id'])['up_product_user_share'].min()\n",
    "\n",
    "del temp, temp_temp\n",
    "gc.collect()"
   ]
  },
  {
   "cell_type": "code",
   "execution_count": 43,
   "metadata": {},
   "outputs": [
    {
     "data": {
      "text/plain": [
       "170"
      ]
     },
     "execution_count": 43,
     "metadata": {},
     "output_type": "execute_result"
    }
   ],
   "source": [
    "del orders_products, orders\n",
    "gc.collect()"
   ]
  },
  {
   "cell_type": "markdown",
   "metadata": {},
   "source": [
    "###### Joining data with prd and users"
   ]
  },
  {
   "cell_type": "code",
   "execution_count": 44,
   "metadata": {
    "collapsed": true
   },
   "outputs": [],
   "source": [
    "data.reset_index(inplace=True)\n",
    "prd.reset_index(inplace=True)\n",
    "users.reset_index(inplace=True)"
   ]
  },
  {
   "cell_type": "code",
   "execution_count": 45,
   "metadata": {
    "collapsed": true
   },
   "outputs": [],
   "source": [
    "data = pd.merge(data, prd, on='product_id')\n",
    "data = pd.merge(data, users, on='user_id')"
   ]
  },
  {
   "cell_type": "code",
   "execution_count": 46,
   "metadata": {
    "collapsed": true
   },
   "outputs": [],
   "source": [
    "data['up_order_rate'] = data.up_orders / data.user_orders\n",
    "data['up_orders_since_last_order'] = data.user_orders - data.up_last_order\n",
    "data['up_order_rate_since_first_order'] = data.up_orders / (data.user_orders - data.up_first_order + 1)\n",
    "data['up_days_since_last_order'] = data.user_period - data.up_product_period\n",
    "# data['up_product_average_sum_order_numbers'] = data.up_product_sum_order_number / (data.user_orders * data.up_orders)"
   ]
  },
  {
   "cell_type": "code",
   "execution_count": 47,
   "metadata": {},
   "outputs": [
    {
     "data": {
      "text/plain": [
       "170"
      ]
     },
     "execution_count": 47,
     "metadata": {},
     "output_type": "execute_result"
    }
   ],
   "source": [
    "temp = ordert[['user_id', 'product_id', 'reordered']]\n",
    "data = pd.merge(data, temp, how='left', on=['user_id', 'product_id'])\n",
    "\n",
    "del ordert, prd, users, temp\n",
    "gc.collect()"
   ]
  },
  {
   "cell_type": "markdown",
   "metadata": {},
   "source": [
    "###### Train and Test Datasets"
   ]
  },
  {
   "cell_type": "code",
   "execution_count": 48,
   "metadata": {},
   "outputs": [
    {
     "data": {
      "text/plain": [
       "35"
      ]
     },
     "execution_count": 48,
     "metadata": {},
     "output_type": "execute_result"
    }
   ],
   "source": [
    "train = data[data['eval_set'] == 'train']\n",
    "train = train.fillna(value=0)\n",
    "train = train.drop(['eval_set'], axis=1)\n",
    "train_columns = train.columns\n",
    "\n",
    "test = data[data['eval_set'] == 'test']\n",
    "test = test.drop(['eval_set', 'reordered'], axis=1)\n",
    "test_columns = test.columns\n",
    "\n",
    "del data\n",
    "gc.collect()"
   ]
  },
  {
   "cell_type": "markdown",
   "metadata": {},
   "source": [
    "###### Saving crated features"
   ]
  },
  {
   "cell_type": "code",
   "execution_count": null,
   "metadata": {
    "collapsed": true
   },
   "outputs": [],
   "source": [
    "np.savetxt(path + 'xgb_train_columns.csv', train_columns, delimiter=\",\", fmt='%s', header='')\n",
    "np.savetxt(path + 'xgb_test_columns.csv', test_columns, delimiter=\",\", fmt='%s', header='')\n",
    "\n",
    "np.save(path + 'xgb_train1', train)\n",
    "np.save(path + 'xgb_test1', test)"
   ]
  },
  {
   "cell_type": "markdown",
   "metadata": {},
   "source": [
    "### 3. Model"
   ]
  },
  {
   "cell_type": "markdown",
   "metadata": {},
   "source": [
    "###### Loading saved train data"
   ]
  },
  {
   "cell_type": "code",
   "execution_count": 52,
   "metadata": {
    "collapsed": true
   },
   "outputs": [],
   "source": [
    "train_columnsw = pd.read_csv(path + 'xgb_train_columns.csv', header=None)\n",
    "train = np.load(path + 'xgb_train1.npy')"
   ]
  },
  {
   "cell_type": "code",
   "execution_count": null,
   "metadata": {
    "collapsed": true,
    "scrolled": true
   },
   "outputs": [],
   "source": [
    "train_columns = train_columns.values.flatten()\n",
    "int_columns = ['user_id', 'up_product_period', 'prod_orders', 'user_period', 'reordered', 'order_id', 'order_hour_of_day', 'order_dow', 'user_total_products', 'user_distinct_departments', 'aisle_id', 'department_id', 'prod_period', 'user_orders', 'prod_third_orders', 'prod_most_frequent_reroder_order_dow', 'product_id', 'up_orders', 'up_first_order', 'up_last_order', 'up_sum_cart_position']\n",
    "\n",
    "train = pd.DataFrame(train, columns = train_columns)\n",
    "train[int_columns] = train[int_columns].astype(int)\n",
    "\n",
    "del train_columns, int_columns\n",
    "gc.collect()"
   ]
  },
  {
   "cell_type": "markdown",
   "metadata": {},
   "source": [
    "###### Dividing into train and validation"
   ]
  },
  {
   "cell_type": "code",
   "execution_count": null,
   "metadata": {
    "collapsed": true
   },
   "outputs": [],
   "source": [
    "train_orders = np.unique(train.order_id.values)\n",
    "np.random.shuffle(train_orders)\n",
    "valid_orders = train_orders[ : 75000]\n",
    "train_orders = train_orders[75000 :]"
   ]
  },
  {
   "cell_type": "code",
   "execution_count": null,
   "metadata": {
    "collapsed": true
   },
   "outputs": [],
   "source": [
    "valid = train[train['order_id'].isin(valid_orders)]\n",
    "train = train[train['order_id'].isin(train_orders)]"
   ]
  },
  {
   "cell_type": "code",
   "execution_count": null,
   "metadata": {
    "collapsed": true
   },
   "outputs": [],
   "source": [
    "train_index = train.index.values\n",
    "subtrain_size = 0.25\n",
    "n = int(len(train_index) * subtrain_size)\n",
    "np.random.shuffle(train_index)\n",
    "\n",
    "t1_idx = train_index[: n]\n",
    "t2_idx = train_index[n : 2*n]\n",
    "t3_idx = train_index[2*n : 3*n]\n",
    "t4_idx = train_index[3*n : ]"
   ]
  },
  {
   "cell_type": "code",
   "execution_count": null,
   "metadata": {
    "collapsed": true
   },
   "outputs": [],
   "source": [
    "train_1 = train.loc[t1_idx] \n",
    "train_2 = train.loc[t2_idx] \n",
    "train_3 = train.loc[t3_idx] \n",
    "train_4 = train.loc[t4_idx] \n",
    "\n",
    "train_1 = train_1.drop(['user_id', 'product_id', 'order_id'], axis=1)\n",
    "train_2 = train_2.drop(['user_id', 'product_id', 'order_id'], axis=1)\n",
    "train_3 = train_3.drop(['user_id', 'product_id', 'order_id'], axis=1)\n",
    "train_4 = train_4.drop(['user_id', 'product_id', 'order_id'], axis=1)\n",
    "\n",
    "train_labels_1 = train_1['reordered']\n",
    "train_1 = train_1.drop('reordered', axis=1)\n",
    "\n",
    "train_labels_2 = train_2['reordered']\n",
    "train_2 = train_2.drop('reordered', axis=1)\n",
    "\n",
    "train_labels_3 = train_3['reordered']\n",
    "train_3 = train_3.drop('reordered', axis=1)\n",
    "\n",
    "train_labels_4 = train_4['reordered']\n",
    "train_4 = train_4.drop('reordered', axis=1)\n",
    "\n",
    "valid_labels = valid[['user_id', 'order_id', 'product_id', 'reordered']]\n",
    "valid = valid.drop(['user_id', 'product_id', 'order_id', 'reordered'], axis=1)"
   ]
  },
  {
   "cell_type": "code",
   "execution_count": null,
   "metadata": {
    "collapsed": true
   },
   "outputs": [],
   "source": [
    "del train, train_orders, valid_orders , train_index, t1_idx, t2_idx, t3_idx, t4_idx, \n",
    "gc.collect()"
   ]
  },
  {
   "cell_type": "markdown",
   "metadata": {},
   "source": [
    "###### Model training"
   ]
  },
  {
   "cell_type": "code",
   "execution_count": null,
   "metadata": {
    "collapsed": true
   },
   "outputs": [],
   "source": [
    "import os\n",
    "\n",
    "mingw_path = 'C:\\\\Program Files\\\\mingw-w64\\\\x86_64-7.1.0-posix-seh-rt_v5-rev0\\\\mingw64\\\\bin'\n",
    "os.environ['PATH'] = mingw_path + ';' + os.environ['PATH']\n",
    "\n",
    "import xgboost as xgb\n",
    "from xgboost import XGBRegressor\n",
    "import itertools"
   ]
  },
  {
   "cell_type": "code",
   "execution_count": null,
   "metadata": {
    "collapsed": true
   },
   "outputs": [],
   "source": [
    "params = {\n",
    "  'objective'           : 'reg:logistic',\n",
    "  'eval_metric\"'        : 'logloss',\n",
    "  'eta'                 : 0.1,\n",
    "  'max_depth'           : 6,\n",
    "  'min_child_weight'    : 10,\n",
    "  'gamma'               : 0.70,\n",
    "  'subsample'           : 0.77,\n",
    "  'colsample_bytree'    : 0.95,\n",
    "  'alpha'               : 2e-05,\n",
    "  'lambda'              : 10\n",
    "}"
   ]
  },
  {
   "cell_type": "code",
   "execution_count": null,
   "metadata": {
    "collapsed": true
   },
   "outputs": [],
   "source": [
    "train_x = xgb.DMatrix(data = train_1, label = train_labels_1)\n",
    "model = xgb.train(params = params, dtrain = train_x, num_boost_round=90)"
   ]
  },
  {
   "cell_type": "code",
   "execution_count": null,
   "metadata": {
    "collapsed": true
   },
   "outputs": [],
   "source": [
    "fig = plt.figure(figsize=(10,15))\n",
    "ax = fig.add_subplot(1,1,1)\n",
    "xgb.plot_importance(model, height=0.2, ax=ax, importance_type='gain')"
   ]
  },
  {
   "cell_type": "markdown",
   "metadata": {},
   "source": [
    "### Validation"
   ]
  },
  {
   "cell_type": "code",
   "execution_count": null,
   "metadata": {
    "collapsed": true
   },
   "outputs": [],
   "source": [
    "valid_data = xgb.DMatrix(valid)"
   ]
  },
  {
   "cell_type": "code",
   "execution_count": null,
   "metadata": {
    "collapsed": true
   },
   "outputs": [],
   "source": [
    "valid_labels['prediction'] = model.predict(valid_data)"
   ]
  },
  {
   "cell_type": "code",
   "execution_count": null,
   "metadata": {
    "collapsed": true
   },
   "outputs": [],
   "source": [
    "def fscore_data_generation(data, threshold):\n",
    "    \n",
    "    # true products\n",
    "    temp = data[data['reordered'] > 0]\n",
    "    validation_df = pd.DataFrame(temp.groupby(['user_id', 'order_id'], as_index=False)['product_id'].apply(list))\n",
    "\n",
    "    del temp\n",
    "    gc.collect()\n",
    "\n",
    "    validation_df.rename(columns={0 : 'true_products'}, inplace=True)\n",
    "    validation_df.reset_index(inplace=True)\n",
    "    \n",
    "    valid_orders = set(data['order_id'].values)\n",
    "    predicted_orders = set(validation_df.order_id.values)\n",
    "    none_orders = list(valid_orders - predicted_orders)\n",
    "    none_products = ['None'] * len(none_orders)\n",
    "    nones = data[data['order_id'].isin(none_orders)][['user_id', 'order_id']]\n",
    "    nones.drop_duplicates(inplace=True)\n",
    "    nones['true_products'] = none_products\n",
    "    validation_df = pd.concat([validation_df, nones])\n",
    "    \n",
    "    # predicted products\n",
    "    temp = data[data['prediction'] >= threshold]\n",
    "    temp = pd.DataFrame(temp.groupby(['user_id', 'order_id'])['product_id'].apply(list))\n",
    "\n",
    "    temp.rename(columns={'product_id' : 'predicted_products'}, inplace=True)\n",
    "    temp.reset_index(inplace=True)\n",
    "    \n",
    "    predicted_orders = set(temp.order_id.values)\n",
    "    none_orders = list(valid_orders - predicted_orders)\n",
    "    none_products = ['None'] *len(none_orders)\n",
    "\n",
    "    nones = data[data['order_id'].isin(none_orders)][['user_id', 'order_id']]\n",
    "    nones.drop_duplicates(inplace=True)\n",
    "    nones['predicted_products'] = none_products\n",
    "    temp = pd.concat([temp, nones])\n",
    "    temp.drop(['user_id'], axis=1, inplace=True)\n",
    "    \n",
    "    validation_df = pd.merge(validation_df, temp, on = 'order_id')\n",
    "\n",
    "    del temp, none_orders, none_products, nones\n",
    "    gc.collect()\n",
    "    \n",
    "    return validation_df"
   ]
  },
  {
   "cell_type": "code",
   "execution_count": null,
   "metadata": {
    "collapsed": true
   },
   "outputs": [],
   "source": [
    "def f1_score(y_true, y_pred):\n",
    "    \n",
    "    y_true, y_pred = set(y_true), set(y_pred)\n",
    "    p = sum([1 for i in y_pred if i in y_true]) / len(y_pred)\n",
    "    r = sum([1 for i in y_true if i in y_pred]) / len(y_true)\n",
    "    \n",
    "    if p + r == 0:\n",
    "        return 0\n",
    "    return (2 * p * r) / (p + r)"
   ]
  },
  {
   "cell_type": "code",
   "execution_count": null,
   "metadata": {
    "collapsed": true
   },
   "outputs": [],
   "source": [
    "def data_fscore(data):\n",
    "    users_scores = []\n",
    "    for row in data.iterrows():\n",
    "        users_scores.append(f1_score(row[1][2], row[1][3]))\n",
    "    data['f_score'] = users_scores\n",
    "    return data"
   ]
  },
  {
   "cell_type": "code",
   "execution_count": null,
   "metadata": {
    "collapsed": true
   },
   "outputs": [],
   "source": [
    "thresholds = [0.19]"
   ]
  },
  {
   "cell_type": "code",
   "execution_count": null,
   "metadata": {
    "collapsed": true
   },
   "outputs": [],
   "source": [
    "scores = {}\n",
    "for n in thresholds:\n",
    "    validation_df = fscore_data_generation(valid_labels, n)\n",
    "    fscore_data = data_fscore(validation_df)\n",
    "    mean_fscore = fscore_data.f_score.mean()\n",
    "    scores[n] = mean_fscore\n",
    "    print(scores)"
   ]
  },
  {
   "cell_type": "code",
   "execution_count": null,
   "metadata": {
    "collapsed": true
   },
   "outputs": [],
   "source": [
    "plt.hist(fscore_data.f_score.values, bins=60)\n",
    "plt.show()"
   ]
  },
  {
   "cell_type": "markdown",
   "metadata": {},
   "source": [
    "###### Orders with low score"
   ]
  },
  {
   "cell_type": "code",
   "execution_count": null,
   "metadata": {
    "collapsed": true
   },
   "outputs": [],
   "source": [
    "low_score_users = fscore_data[fscore_data['f_score'] <= 0.1]['user_id'].values\n",
    "low_score_labels = valid_labels[valid_labels['user_id'].isin(low_score_users)]"
   ]
  },
  {
   "cell_type": "code",
   "execution_count": null,
   "metadata": {
    "collapsed": true
   },
   "outputs": [],
   "source": [
    "low_score_thresholds = [0.07]"
   ]
  },
  {
   "cell_type": "code",
   "execution_count": null,
   "metadata": {
    "collapsed": true
   },
   "outputs": [],
   "source": [
    "scores = {}\n",
    "for n in low_score_thresholds:\n",
    "    low_fscore_data = data_fscore(fscore_data_generation(low_score_labels, n))\n",
    "    mean_fscore = low_fscore_data.f_score.mean()\n",
    "    scores[n] = mean_fscore\n",
    "    print(scores)"
   ]
  },
  {
   "cell_type": "code",
   "execution_count": null,
   "metadata": {
    "collapsed": true,
    "scrolled": false
   },
   "outputs": [],
   "source": [
    "plt.hist(low_fscore_data.f_score.values, bins=60)\n",
    "plt.show()"
   ]
  },
  {
   "cell_type": "markdown",
   "metadata": {
    "collapsed": true
   },
   "source": [
    "###### Low score users f1 score analysis"
   ]
  },
  {
   "cell_type": "code",
   "execution_count": null,
   "metadata": {
    "collapsed": true
   },
   "outputs": [],
   "source": [
    "prior = pd.read_csv(path + 'prior_data.csv')\n",
    "columns = ['user_id', 'order_id', 'order_number', 'product_id']\n",
    "prior = prior[columns]\n",
    "# prior = prior[prior['user_id'].isin(low_score_users)]\n",
    "prior = prior[prior['user_id'].isin(np.unique(validation_df.user_id))]"
   ]
  },
  {
   "cell_type": "code",
   "execution_count": null,
   "metadata": {
    "collapsed": true
   },
   "outputs": [],
   "source": [
    "prior = pd.DataFrame(prior.groupby(['user_id', 'order_id', 'order_number'])['product_id'].apply(list))\n",
    "prior.reset_index(level=['user_id', 'order_id', 'order_number'], inplace=True)\n",
    "prior.columns = ['user_id','order_id','order_number','products_list']\n",
    "prior = prior.sort_values(by=['user_id', 'order_number'])"
   ]
  },
  {
   "cell_type": "code",
   "execution_count": null,
   "metadata": {
    "collapsed": true
   },
   "outputs": [],
   "source": [
    "# temp = validation_df[validation_df.user_id.isin(low_score_users)]\n",
    "temp = validation_df[validation_df.user_id.isin(np.unique(validation_df.user_id))]\n",
    "temp = temp[['user_id', 'predicted_products']]\n",
    "prior = pd.merge(prior, temp)\n",
    "\n",
    "del temp\n",
    "gc.collect()"
   ]
  },
  {
   "cell_type": "code",
   "execution_count": null,
   "metadata": {
    "collapsed": true
   },
   "outputs": [],
   "source": [
    "users_scores = []\n",
    "\n",
    "for row in prior.iterrows():\n",
    "    users_scores.append((row[1][0], row[1][2], f1_score(row[1][3], row[1][4])))\n",
    "users_scores = pd.DataFrame(users_scores, columns=['user_id', 'order_number', 'f_score'])"
   ]
  },
  {
   "cell_type": "code",
   "execution_count": null,
   "metadata": {
    "collapsed": true
   },
   "outputs": [],
   "source": [
    "f1_score_all = pd.read_csv('C:/Users/AM000110/Desktop/ML/Kaggle/Instacart_Market_Basket_Analysis/reordered_basket_size_prediction/f1_score.csv')\n",
    "f1_score_all.drop(['Unnamed: 0'], axis=1, inplace=True)\n",
    "temp = pd.DataFrame(f1_score_all.groupby('user_id')['order_number'].max())\n",
    "temp.reset_index(inplace = True)\n",
    "f1_score_all = pd.merge(f1_score_all, temp, on='user_id')\n",
    "f1_score_all['dif'] = f1_score_all.order_number_y - f1_score_all.order_number_x\n",
    "f1_score_all = f1_score_all[f1_score_all.dif < 3]\n",
    "\n",
    "del temp\n",
    "gc.collect()\n",
    "\n",
    "f1_score_mean = pd.DataFrame(f1_score_all.groupby('user_id')['average_f1_score'].mean())\n",
    "f1_score_mean.reset_index(inplace=True)\n",
    "# f1_score_mean = f1_score_mean[f1_score_mean['user_id'].isin(low_score_users)]\n",
    "f1_score_mean = f1_score_mean[f1_score_mean['user_id'].isin(np.unique(validation_df.user_id))]\n",
    "\n",
    "del f1_score_all\n",
    "gc.collect()"
   ]
  },
  {
   "cell_type": "code",
   "execution_count": null,
   "metadata": {
    "collapsed": true
   },
   "outputs": [],
   "source": [
    "users_scores_mean = pd.DataFrame(users_scores.groupby('user_id')['f_score'].mean())\n",
    "users_scores_mean.reset_index(inplace=True)\n",
    "users_scores = pd.merge(users_scores_mean, f1_score_mean)\n",
    "users_scores['dif'] = abs(users_scores.f_score - users_scores.average_f1_score)/ users_scores.average_f1_score\n",
    "\n",
    "del users_scores_mean, f1_score_mean\n",
    "gc.collect()"
   ]
  },
  {
   "cell_type": "code",
   "execution_count": null,
   "metadata": {
    "collapsed": true
   },
   "outputs": [],
   "source": [
    "plt.hist(users_scores.dif.values, bins= 60)\n",
    "plt.show()"
   ]
  },
  {
   "cell_type": "code",
   "execution_count": null,
   "metadata": {
    "collapsed": true
   },
   "outputs": [],
   "source": [
    "plt.figure(figsize=(10,5))\n",
    "plt.hist(users_scores.average_f1_score.values, bins= 60, label='user_average_f1_score')\n",
    "plt.hist(users_scores.f_score.values, bins= 60, alpha = 0.5, label='predicted_order_average_f1_score' )\n",
    "plt.legend()\n",
    "plt.show()"
   ]
  },
  {
   "cell_type": "code",
   "execution_count": null,
   "metadata": {
    "collapsed": true
   },
   "outputs": [],
   "source": [
    "bad_users = users_scores[users_scores.dif >= 0.5]['user_id'].values"
   ]
  },
  {
   "cell_type": "code",
   "execution_count": null,
   "metadata": {
    "collapsed": true
   },
   "outputs": [],
   "source": [
    "f1_score(low_score_users, bad_users)"
   ]
  },
  {
   "cell_type": "code",
   "execution_count": null,
   "metadata": {
    "collapsed": true
   },
   "outputs": [],
   "source": [
    "sum([1 for i in low_score_users if i in bad_users]) / len(low_score_users)"
   ]
  },
  {
   "cell_type": "code",
   "execution_count": null,
   "metadata": {
    "collapsed": true
   },
   "outputs": [],
   "source": [
    "a = valid_labels[valid_labels.user_id.isin(bad_users)]\n",
    "\n",
    "scores = {}\n",
    "for n in [0.194]:\n",
    "    validation_df = fscore_data_generation(a, n)\n",
    "    fscore_data1 = data_fscore(validation_df)\n",
    "    mean_fscore = fscore_data1.f_score.mean()\n",
    "    scores[n] = mean_fscore\n",
    "    print(scores)"
   ]
  },
  {
   "cell_type": "code",
   "execution_count": null,
   "metadata": {
    "collapsed": true
   },
   "outputs": [],
   "source": [
    "plt.hist(fscore_data1.f_score.values , bins=60)\n",
    "plt.hist(fscore_data.f_score.values , bins=60, alpha = 0.5)\n",
    "plt.show()"
   ]
  },
  {
   "cell_type": "code",
   "execution_count": null,
   "metadata": {
    "collapsed": true
   },
   "outputs": [],
   "source": [
    "a = valid.join(valid_labels)\n"
   ]
  },
  {
   "cell_type": "code",
   "execution_count": null,
   "metadata": {
    "collapsed": true
   },
   "outputs": [],
   "source": [
    "a = a[a.user_id.isin(low_score_users)]"
   ]
  },
  {
   "cell_type": "code",
   "execution_count": null,
   "metadata": {
    "collapsed": true
   },
   "outputs": [],
   "source": [
    "a.columns"
   ]
  },
  {
   "cell_type": "code",
   "execution_count": null,
   "metadata": {
    "collapsed": true
   },
   "outputs": [],
   "source": [
    "plt.hist(a.prod_mean_order_share)\n",
    "plt.show()"
   ]
  },
  {
   "cell_type": "code",
   "execution_count": null,
   "metadata": {
    "collapsed": true
   },
   "outputs": [],
   "source": [
    "plt.hist(a.prod_reorder_probability)\n",
    "plt.show()"
   ]
  },
  {
   "cell_type": "code",
   "execution_count": null,
   "metadata": {
    "collapsed": true
   },
   "outputs": [],
   "source": [
    "plt.hist(a.prod_reorder_std, bins=60)\n",
    "plt.show()"
   ]
  },
  {
   "cell_type": "code",
   "execution_count": null,
   "metadata": {
    "collapsed": true
   },
   "outputs": [],
   "source": [
    "plt.hist(a.user_orders, bins=60)\n",
    "plt.show()"
   ]
  },
  {
   "cell_type": "code",
   "execution_count": null,
   "metadata": {
    "collapsed": true
   },
   "outputs": [],
   "source": [
    "plt.hist(a.up_product_score, bins=100)\n",
    "plt.show()"
   ]
  },
  {
   "cell_type": "markdown",
   "metadata": {
    "collapsed": true
   },
   "source": [
    "### 4. Users classification"
   ]
  },
  {
   "cell_type": "code",
   "execution_count": null,
   "metadata": {
    "collapsed": true
   },
   "outputs": [],
   "source": [
    "test_columns = pd.read_csv(path + 'xgb_test_columns.csv', header=None)\n",
    "test = np.load(path + 'xgb_test1.npy')"
   ]
  },
  {
   "cell_type": "code",
   "execution_count": null,
   "metadata": {
    "collapsed": true,
    "scrolled": true
   },
   "outputs": [],
   "source": [
    "test_columns = test_columns.values.flatten()\n",
    "int_columns = ['user_id', 'up_product_period', 'prod_orders', 'user_period', 'order_id', 'order_hour_of_day', 'order_dow', 'user_total_products', 'user_distinct_departments', 'aisle_id', 'department_id', 'prod_period', 'user_orders', 'prod_third_orders', 'prod_most_frequent_reroder_order_dow', 'product_id', 'up_orders', 'up_first_order', 'up_last_order', 'up_sum_cart_position']\n",
    "\n",
    "test = pd.DataFrame(test, columns = test_columns)\n",
    "# test[int_columns] = test[int_columns].astype(int)\n",
    "\n",
    "del test_columns, int_columns\n",
    "gc.collect()"
   ]
  },
  {
   "cell_type": "code",
   "execution_count": 21,
   "metadata": {
    "collapsed": true
   },
   "outputs": [],
   "source": [
    "user_features = ['user_orders','user_period', 'user_mean_days_since_prior', 'user_max_reorder_rate',                                         \n",
    "                        'user_mean_reorder_rate', 'user_average_reorder', 'user_average_order_hour_of_day',\n",
    "                        'user_average_order_dow', 'user_total_products', 'user_distinct_products', \n",
    "                        'user_reorder_ratio', 'user_average_basket', 'user_distinct_aisles', \n",
    "                        'user_distinct_departments','time_since_last_order', 'order_dow', 'order_hour_of_day']"
   ]
  },
  {
   "cell_type": "code",
   "execution_count": null,
   "metadata": {
    "collapsed": true
   },
   "outputs": [],
   "source": [
    "user_train_data = valid[user_features]\n",
    "user_train_data = user_train_data.join(valid_labels)\n",
    "user_train_data.drop(['order_id', 'product_id', 'reordered', 'prediction'], axis=1, inplace=True)\n",
    "user_train_data.drop_duplicates(inplace=True)"
   ]
  },
  {
   "cell_type": "code",
   "execution_count": null,
   "metadata": {
    "collapsed": true
   },
   "outputs": [],
   "source": [
    "user_labels = pd.DataFrame(low_score_users, columns=['user_id'])\n",
    "user_labels['user_label'] = 1\n",
    "\n",
    "temp = list(set(user_train_data.user_id.values.flatten()) - set(user_labels.user_id.values.flatten()))\n",
    "temp = pd.DataFrame(temp, columns=['user_id'])\n",
    "temp['user_label'] = 0\n",
    "user_labels = pd.concat([user_labels, temp])\n",
    "\n",
    "del temp\n",
    "gc.collect()"
   ]
  },
  {
   "cell_type": "code",
   "execution_count": null,
   "metadata": {
    "collapsed": true
   },
   "outputs": [],
   "source": [
    "user_train_data = pd.merge(user_train_data, user_labels, on = 'user_id')"
   ]
  },
  {
   "cell_type": "code",
   "execution_count": null,
   "metadata": {
    "collapsed": true
   },
   "outputs": [],
   "source": [
    "index = user_train_data.index.values\n",
    "np.random.shuffle(index)\n",
    "\n",
    "train_index = index[: 37500]\n",
    "valid_index = index[37500 : ]\n",
    "user_train = user_train_data.loc[train_index]\n",
    "user_valid = user_train_data.loc[valid_index]\n",
    "\n",
    "user_train_labels = user_train['user_label']\n",
    "user_train = user_train[user_features]\n",
    "\n",
    "user_valid_labels = user_valid[['user_id', 'user_label']]\n",
    "user_valid = user_valid[user_features]"
   ]
  },
  {
   "cell_type": "code",
   "execution_count": null,
   "metadata": {
    "collapsed": true
   },
   "outputs": [],
   "source": [
    "user_x = xgb.DMatrix(user_train, user_train_labels)\n",
    "user_model = xgb.train(params={}, dtrain=user_x, num_boost_round=30)"
   ]
  },
  {
   "cell_type": "code",
   "execution_count": null,
   "metadata": {
    "collapsed": true
   },
   "outputs": [],
   "source": [
    "user_valid_x = xgb.DMatrix(user_valid)\n",
    "user_valid_labels['prediction'] = user_model.predict(user_valid_x)"
   ]
  },
  {
   "cell_type": "code",
   "execution_count": null,
   "metadata": {
    "collapsed": true
   },
   "outputs": [],
   "source": [
    "true_label = user_valid_labels.user_label.values.flatten()\n",
    "predicted_label = user_valid_labels.prediction.values.flatten()"
   ]
  },
  {
   "cell_type": "code",
   "execution_count": null,
   "metadata": {
    "collapsed": true
   },
   "outputs": [],
   "source": [
    "for t in np.arange(.1,.8,.03):\n",
    "    cl =np.zeros_like(predicted_label)\n",
    "    score = 0\n",
    "    prec = 0\n",
    "    rec = 0\n",
    "    k = 0\n",
    "    for index, item in enumerate(predicted_label):\n",
    "        if item > t :\n",
    "            cl[index] = 1\n",
    "        if cl[index] == true_label[index] and cl[index] == 0:\n",
    "            prec += 1\n",
    "        if cl[index] == true_label[index] and cl[index] == 1:\n",
    "            rec += 1\n",
    "        if cl[index] == true_label[index]:\n",
    "            score += 1\n",
    "        if true_label[index] == 0:\n",
    "            k += 1\n",
    "            \n",
    "    score, prec, rec = score / len(user_valid_labels), prec/k, rec/sum(true_label)\n",
    "    print(t, score, prec, rec)    "
   ]
  },
  {
   "cell_type": "markdown",
   "metadata": {},
   "source": [
    "###### Test users classification"
   ]
  },
  {
   "cell_type": "code",
   "execution_count": null,
   "metadata": {
    "collapsed": true
   },
   "outputs": [],
   "source": [
    "test_columns = pd.read_csv(path + 'xgb_test_columns.csv', header=None)\n",
    "test = np.load(path + 'xgb_test1.npy')"
   ]
  },
  {
   "cell_type": "code",
   "execution_count": null,
   "metadata": {
    "collapsed": true,
    "scrolled": true
   },
   "outputs": [],
   "source": [
    "test_columns = test_columns.values.flatten()\n",
    "int_columns = ['user_id', 'up_product_period', 'prod_orders', 'user_period', 'order_id', 'order_hour_of_day', 'order_dow', 'user_total_products', 'user_distinct_departments', 'aisle_id', 'department_id', 'prod_period', 'user_orders', 'prod_third_orders', 'prod_most_frequent_reroder_order_dow', 'product_id', 'up_orders', 'up_first_order', 'up_last_order', 'up_sum_cart_position']\n",
    "\n",
    "test = pd.DataFrame(test, columns = test_columns)\n",
    "# test[int_columns] = test[int_columns].astype(int)\n",
    "\n",
    "del test_columns, int_columns\n",
    "gc.collect()"
   ]
  },
  {
   "cell_type": "code",
   "execution_count": null,
   "metadata": {
    "collapsed": true
   },
   "outputs": [],
   "source": [
    "test_users_test_data = test[user_features]\n",
    "test_users_test_data_x = xgb.DMatrix(test_users_test_data)\n",
    "test['user_prediction'] = user_model.predict(test_users_test_data_x)"
   ]
  },
  {
   "cell_type": "markdown",
   "metadata": {},
   "source": [
    "### 5. Test prediction and submission"
   ]
  },
  {
   "cell_type": "code",
   "execution_count": null,
   "metadata": {
    "collapsed": true
   },
   "outputs": [],
   "source": [
    "test_data = test.drop(['user_id', 'product_id', 'order_id', 'user_prediction'], axis=1)\n",
    "test_data_x = xgb.DMatrix(test_data)\n",
    "test['reordered'] = model.predict(test_data_x)"
   ]
  },
  {
   "cell_type": "code",
   "execution_count": null,
   "metadata": {
    "collapsed": true
   },
   "outputs": [],
   "source": [
    "submission = test[['user_id', 'order_id', 'product_id', 'reordered']]\n",
    "submission[['order_id', 'product_id']] = submission[['order_id', 'product_id']].astype(int)"
   ]
  },
  {
   "cell_type": "code",
   "execution_count": null,
   "metadata": {
    "collapsed": true
   },
   "outputs": [],
   "source": [
    "bad_users = np.unique(test[test.user_prediction > 0.6]['user_id'].values)\n",
    "good_users = list(set(test.user_id.values.flatten())- set(bad_users))"
   ]
  },
  {
   "cell_type": "code",
   "execution_count": null,
   "metadata": {
    "collapsed": true
   },
   "outputs": [],
   "source": [
    "good_user_pred = submission[submission.user_id.isin(good_users)]\n",
    "good_user_pred = good_user_pred.drop('user_id', axis=1)\n",
    "good_user_pred = good_user_pred[good_user_pred['reordered'] >= 0.21]\n",
    "good_user_pred = pd.DataFrame(good_user_pred.groupby('order_id')['product_id'].apply(list))"
   ]
  },
  {
   "cell_type": "code",
   "execution_count": null,
   "metadata": {
    "collapsed": true
   },
   "outputs": [],
   "source": [
    "bad_user_pred = submission[submission.user_id.isin(bad_users)]\n",
    "bad_user_pred = bad_user_pred.drop('user_id', axis=1)\n",
    "bad_user_pred = bad_user_pred[bad_user_pred['reordered'] >= 0.12]\n",
    "bad_user_pred = pd.DataFrame(bad_user_pred.groupby('order_id')['product_id'].apply(list))"
   ]
  },
  {
   "cell_type": "code",
   "execution_count": null,
   "metadata": {
    "collapsed": true
   },
   "outputs": [],
   "source": [
    "final_sub = pd.concat([good_user_pred, bad_user_pred])\n",
    "\n",
    "del good_user_pred, bad_user_pred, submission\n",
    "gc.collect()"
   ]
  },
  {
   "cell_type": "code",
   "execution_count": null,
   "metadata": {
    "collapsed": true
   },
   "outputs": [],
   "source": [
    "test_orders = set(test['order_id'].values)\n",
    "predicted_orders = set(final_sub.index.values)\n",
    "none_orders = list(test_orders - predicted_orders)\n",
    "none_products = ['None'] *len(none_orders)"
   ]
  },
  {
   "cell_type": "code",
   "execution_count": null,
   "metadata": {
    "collapsed": true
   },
   "outputs": [],
   "source": [
    "none_submission = pd.DataFrame(index=none_orders, data=none_products, columns=['product_id'])\n",
    "final_sub = pd.concat([final_sub, none_submission])\n",
    "\n",
    "final_sub.index.name = 'order_id'\n",
    "final_sub.rename(columns = {'product_id' : 'products'})"
   ]
  },
  {
   "cell_type": "code",
   "execution_count": null,
   "metadata": {
    "collapsed": true
   },
   "outputs": [],
   "source": [
    "final_sub.to_csv('C:/Users/AM000110/Desktop/ML/Kaggle/Instacart_Market_Basket_Analysis/models/xgb_newf_model2.csv')"
   ]
  },
  {
   "cell_type": "markdown",
   "metadata": {},
   "source": [
    "#### Test prediction and submission"
   ]
  },
  {
   "cell_type": "code",
   "execution_count": null,
   "metadata": {
    "collapsed": true
   },
   "outputs": [],
   "source": [
    "submission = submission[submission['reordered'] >= 0.194]\n",
    "submission = pd.DataFrame(submission.groupby('order_id')['product_id'].apply(list))"
   ]
  },
  {
   "cell_type": "code",
   "execution_count": null,
   "metadata": {
    "collapsed": true
   },
   "outputs": [],
   "source": [
    "test_orders = set(test['order_id'].values)\n",
    "predicted_orders = set(submission.index.values)\n",
    "none_orders = list(test_orders - predicted_orders)\n",
    "none_products = ['None'] *len(none_orders)"
   ]
  },
  {
   "cell_type": "code",
   "execution_count": null,
   "metadata": {
    "collapsed": true
   },
   "outputs": [],
   "source": [
    "none_submission = pd.DataFrame(index=none_orders, data=none_products, columns=['product_id'])\n",
    "submission = pd.concat([submission, none_submission])\n",
    "\n",
    "submission.index.name = 'order_id'\n",
    "submission.rename(columns = {'product_id' : 'products'})"
   ]
  },
  {
   "cell_type": "code",
   "execution_count": null,
   "metadata": {
    "collapsed": true
   },
   "outputs": [],
   "source": [
    "submission.to_csv('C:/Users/AM000110/Desktop/ML/Kaggle/Instacart_Market_Basket_Analysis/models/xgb_newf_model1.csv')"
   ]
  },
  {
   "cell_type": "markdown",
   "metadata": {},
   "source": [
    "### based on basket size"
   ]
  },
  {
   "cell_type": "code",
   "execution_count": null,
   "metadata": {
    "collapsed": true
   },
   "outputs": [],
   "source": [
    "reorder_size = pd.read_csv('C:/Users/AM000110/Desktop/ML/Kaggle/Instacart_Market_Basket_Analysis/reordered_basket_size_prediction/last_order_reorder_size.csv', index_col='order_id' )"
   ]
  },
  {
   "cell_type": "code",
   "execution_count": null,
   "metadata": {
    "collapsed": true
   },
   "outputs": [],
   "source": [
    "reorder_size.reset_index(inplace=True)\n",
    "reorder_size.rename(columns={'reordered' : 'reorder_size'}, inplace=True)"
   ]
  },
  {
   "cell_type": "code",
   "execution_count": null,
   "metadata": {
    "collapsed": true
   },
   "outputs": [],
   "source": [
    "submission = submission.sort_values(by=['order_id', 'reordered'])"
   ]
  },
  {
   "cell_type": "code",
   "execution_count": null,
   "metadata": {
    "collapsed": true
   },
   "outputs": [],
   "source": [
    "submission = pd.merge(submission, reorder_size, on='order_id')"
   ]
  },
  {
   "cell_type": "code",
   "execution_count": null,
   "metadata": {
    "collapsed": true
   },
   "outputs": [],
   "source": [
    "submission = pd.DataFrame(submission.groupby(['order_id', 'reorder_size'], as_index=False)['product_id'].apply(list))"
   ]
  },
  {
   "cell_type": "code",
   "execution_count": null,
   "metadata": {
    "collapsed": true
   },
   "outputs": [],
   "source": [
    "valid.dtypes"
   ]
  },
  {
   "cell_type": "code",
   "execution_count": null,
   "metadata": {
    "collapsed": true
   },
   "outputs": [],
   "source": [
    "submission.reset_index(inplace=True)\n",
    "submission.columns = ['order_id', 'reorder_size', 'product_list']"
   ]
  },
  {
   "cell_type": "code",
   "execution_count": null,
   "metadata": {
    "collapsed": true
   },
   "outputs": [],
   "source": [
    "sub = []\n",
    "for order in np.unique(submission['order_id'].values):\n",
    "    order_df = submission[submission['order_id'] == order]\n",
    "    size = order_df.reorder_size.values[0]\n",
    "    if size == 0:\n",
    "        products = ['None']\n",
    "    else:\n",
    "        products = order_df['product_list'].values[0][-size:]\n",
    "    sub.append((order, products))"
   ]
  },
  {
   "cell_type": "code",
   "execution_count": null,
   "metadata": {
    "collapsed": true
   },
   "outputs": [],
   "source": [
    "test_data = test.drop(['user_id', 'product_id', 'order_id', 'user_prediction'], axis=1)\n",
    "test_data = xgb.DMatrix(test_data)\n",
    "prediction = model.predict(test_data)"
   ]
  },
  {
   "cell_type": "code",
   "execution_count": null,
   "metadata": {
    "collapsed": true
   },
   "outputs": [],
   "source": [
    "# test['reordered'] = prediction\n",
    "submission = test[['order_id', 'product_id', 'reordered']]\n",
    "submission[['order_id', 'product_id']] = submission[['order_id', 'product_id']].astype(int)"
   ]
  },
  {
   "cell_type": "code",
   "execution_count": null,
   "metadata": {
    "collapsed": true
   },
   "outputs": [],
   "source": [
    "sub = pd.DataFrame(sub, columns=['order_id', 'products'])\n",
    "sub.set_index('order_id',inplace=True)"
   ]
  },
  {
   "cell_type": "code",
   "execution_count": null,
   "metadata": {
    "collapsed": true
   },
   "outputs": [],
   "source": [
    "sub.to_csv('C:/Users/AM000110/Desktop/ML/Kaggle/Instacart_Market_Basket_Analysis/models/xgb_lo_rs.csv')"
   ]
  }
 ],
 "metadata": {
  "kernelspec": {
   "display_name": "Python 3",
   "language": "python",
   "name": "python3"
  },
  "language_info": {
   "codemirror_mode": {
    "name": "ipython",
    "version": 3
   },
   "file_extension": ".py",
   "mimetype": "text/x-python",
   "name": "python",
   "nbconvert_exporter": "python",
   "pygments_lexer": "ipython3",
   "version": "3.6.1"
  }
 },
 "nbformat": 4,
 "nbformat_minor": 2
}
