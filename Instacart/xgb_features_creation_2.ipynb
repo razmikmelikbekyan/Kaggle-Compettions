{
 "cells": [
  {
   "cell_type": "markdown",
   "metadata": {},
   "source": [
    "### 1. Importing packages"
   ]
  },
  {
   "cell_type": "code",
   "execution_count": null,
   "metadata": {
    "collapsed": true
   },
   "outputs": [],
   "source": [
    "import pandas as pd\n",
    "import numpy as np\n",
    "import gc\n",
    "import warnings\n",
    "import time\n",
    "\n",
    "warnings.filterwarnings(\"ignore\")"
   ]
  },
  {
   "cell_type": "markdown",
   "metadata": {},
   "source": [
    "### 2. Features creation"
   ]
  },
  {
   "cell_type": "markdown",
   "metadata": {},
   "source": [
    "###### Loading initial data"
   ]
  },
  {
   "cell_type": "code",
   "execution_count": null,
   "metadata": {
    "collapsed": true
   },
   "outputs": [],
   "source": [
    "path = 'C:/Users/AM000110/Desktop/ML/Kaggle/Instacart_Market_Basket_Analysis/input_data/'"
   ]
  },
  {
   "cell_type": "code",
   "execution_count": null,
   "metadata": {
    "collapsed": true
   },
   "outputs": [],
   "source": [
    "# Load Data ---------------------------------------------------------------\n",
    "\n",
    "aisles = pd.read_csv(path + 'aisles.csv', dtype={'aisle_id': np.uint8, 'aisle': 'category'})\n",
    "departments = pd.read_csv(path + 'departments.csv',\n",
    "                              dtype={'department_id': np.uint8, 'department': 'category'})\n",
    "orderp = pd.read_csv(path + 'order_products__prior.csv', dtype={'order_id': np.uint32,\n",
    "                                                                                      'product_id': np.uint16,\n",
    "                                                                                      'add_to_cart_order': np.uint8,\n",
    "                                                                                      'reordered': bool})\n",
    "ordert = pd.read_csv(path + 'order_products__train.csv', dtype={'order_id': np.uint32,\n",
    "                                                                                      'product_id': np.uint16,\n",
    "                                                                                      'add_to_cart_order': np.uint8,\n",
    "                                                                                      'reordered': bool})\n",
    "orders = pd.read_csv(path + 'orders.csv', dtype={'order_id': np.uint32,\n",
    "                                                                  'user_id': np.uint32,\n",
    "                                                                  'eval_set': 'category',\n",
    "                                                                  'order_number': np.uint8,\n",
    "                                                                  'order_dow': np.uint8,\n",
    "                                                                  'order_hour_of_day': np.uint8\n",
    "                                                                  })\n",
    "products = pd.read_csv(path + 'products.csv', dtype={'product_id': np.uint16,\n",
    "                                                                      'aisle_id': np.uint8,\n",
    "                                                                      'department_id': np.uint8})"
   ]
  },
  {
   "cell_type": "markdown",
   "metadata": {},
   "source": [
    "###### Joining to product aisle and department names"
   ]
  },
  {
   "cell_type": "code",
   "execution_count": null,
   "metadata": {},
   "outputs": [],
   "source": [
    "products = pd.merge(products, aisles, on='aisle_id')\n",
    "products = pd.merge(products, departments, on='department_id')\n",
    "products = products[['product_id', 'aisle_id', 'department_id']]\n",
    "\n",
    "del aisles, departments\n",
    "gc.collect()"
   ]
  },
  {
   "cell_type": "markdown",
   "metadata": {},
   "source": [
    "###### Adding user_ids to order_train"
   ]
  },
  {
   "cell_type": "code",
   "execution_count": null,
   "metadata": {},
   "outputs": [],
   "source": [
    "orders_users = orders[['order_id', 'user_id']]\n",
    "orders_users = orders_users[orders_users['order_id'].isin(ordert.order_id.values)]\n",
    "ordert = pd.merge(ordert, orders_users, on='order_id')\n",
    "\n",
    "del orders_users\n",
    "gc.collect()"
   ]
  },
  {
   "cell_type": "markdown",
   "metadata": {},
   "source": [
    "###### Joining orders data with prior data"
   ]
  },
  {
   "cell_type": "code",
   "execution_count": null,
   "metadata": {
    "scrolled": true
   },
   "outputs": [],
   "source": [
    "orders_products = pd.merge(orders, orderp, on='order_id')\n",
    "orders_products = pd.merge(orders_products, products, on='product_id')\n",
    "\n",
    "del orderp, products\n",
    "gc.collect()"
   ]
  },
  {
   "cell_type": "markdown",
   "metadata": {},
   "source": [
    "###### Adding order f1_score and order_size"
   ]
  },
  {
   "cell_type": "code",
   "execution_count": null,
   "metadata": {},
   "outputs": [],
   "source": [
    "# f1_score = pd.read_csv('C:/Users/AM000110/Desktop/ML/Kaggle/Instacart_Market_Basket_Analysis/reordered_basket_size_prediction/f1_score.csv')\n",
    "# f1_score = f1_score[['order_id', 'average_f1_score']]\n",
    "\n",
    "# orders_products = pd.merge(orders_products, f1_score, on='order_id')\n",
    "# del f1_score\n",
    "# gc.collect()"
   ]
  },
  {
   "cell_type": "code",
   "execution_count": null,
   "metadata": {
    "scrolled": true
   },
   "outputs": [],
   "source": [
    "temp = pd.DataFrame(orders_products.groupby('order_id')['order_id'].size())\n",
    "temp.rename(columns={'order_id' : 'order_size'}, inplace=True)\n",
    "temp.order_size = temp.order_size.astype(np.int32)\n",
    "temp.reset_index(inplace=True)\n",
    "\n",
    "orders_products = pd.merge(orders_products, temp, on='order_id')\n",
    "\n",
    "orders_products.days_since_prior_order.fillna(value=9999, inplace=True)\n",
    "del temp\n",
    "gc.collect()"
   ]
  },
  {
   "cell_type": "markdown",
   "metadata": {},
   "source": [
    "###### Product general features"
   ]
  },
  {
   "cell_type": "markdown",
   "metadata": {},
   "source": [
    "for each product:\n",
    "* total number of orders (prod_orders)\n",
    "* sum of reorders (prod_reorders)\n",
    "* number of unique users who buy it (prod_first_orders)\n",
    "* number of unque users who buy it more than 1 time (prod_second_orders)\n",
    "* product reorder probability = prod_second_orders / prod_first_orders\n",
    "* prod_reorder_times = 1 + prod_reorders / prod_first_orders\n",
    "* prod_reorder_ratio = prod_reorders / prod_orders\n",
    "* prod_average_order_hour_of_day (from me)\n",
    "* prod_average_order_dow (from me)\n",
    "* prod_frequency = prod_orders / total number of orders (from me)\n",
    "* prod_reorder_frequency = prod_reorders / sum of total reorders (from me)\n",
    "* prod_most_frequent_reoder_day (from me)\n",
    "* product second reorder probability (from me)\n",
    "* product aisle market share = aisle_orders / total_orders (from me)\n",
    "* product deparment market share = department orders / total orders (from me)\n",
    "* product market share in aisle = prod_orders / aisle_orders (from me)\n",
    "* product market share in department = prod_orders / department_orders (from me)\n",
    "* product order mean size (from me)\n",
    "* product mean share within order (from me)\n",
    "* product reorder std within users"
   ]
  },
  {
   "cell_type": "code",
   "execution_count": null,
   "metadata": {
    "collapsed": true
   },
   "outputs": [],
   "source": [
    "prd = pd.DataFrame()"
   ]
  },
  {
   "cell_type": "code",
   "execution_count": null,
   "metadata": {
    "collapsed": true
   },
   "outputs": [],
   "source": [
    "prd['prod_total_orders'] = orders_products.groupby('product_id')['order_id'].size().astype(np.int32)\n",
    "prd['prod_total_reorders'] = orders_products.groupby('product_id')['reordered'].sum().astype(np.int32)\n",
    "prd['prod_reorder_ratio'] = prd.prod_total_reorders / prd.prod_total_orders \n",
    "prd['prod_reorder_ratio'] = prd['prod_reorder_ratio'].astype(np.float32)\n",
    "\n",
    "prd['prod_unique_users'] = orders_products.groupby('product_id')['user_id'].nunique().astype(np.int32)\n",
    "prd['prod_unique_reorder_users'] = orders_products[orders_products.reordered > 0].groupby('product_id')['user_id'].nunique().astype(np.int32)\n",
    "prd.prod_unique_reorder_users.fillna(value=0, inplace=True)\n",
    "prd['prod_unique_reorder_users'] = prd['prod_unique_reorder_users'].astype(np.int32)\n",
    "\n",
    "prd['prod_reorder_general_probability'] = prd.prod_unique_reorder_users / prd.prod_unique_users\n",
    "prd['prod_reorder_general_probability'] = prd['prod_reorder_general_probability'].astype(np.float32)\n",
    "\n",
    "prd['prod_reorder_times'] = 1 + prd.prod_total_reorders / prd.prod_unique_users\n",
    "prd['prod_reorder_times'] = prd['prod_reorder_times'].astype(np.float32)\n",
    "\n",
    "prd['prod_mean_add_to_cart_order'] = orders_products.groupby('product_id')['add_to_cart_order'].mean().astype(np.float32)\n",
    "prd['prod_median_add_to_cart_order'] = orders_products.groupby('product_id')['add_to_cart_order'].median().astype(np.float32)\n",
    "prd['prod_reorder_mean_add_to_cart_order'] = orders_products[orders_products.reordered > 0].groupby('product_id')['add_to_cart_order'].mean()\n",
    "prd['prod_reorder_mean_add_to_cart_order'] = prd['prod_reorder_mean_add_to_cart_order'].astype(np.float32)\n",
    "prd['prod_reorder_median_add_to_cart_order'] = orders_products[orders_products.reordered > 0].groupby('product_id')['add_to_cart_order'].median()\n",
    "prd['prod_reorder_median_add_to_cart_order'] = prd['prod_reorder_median_add_to_cart_order'].astype(np.float32)\n",
    "\n",
    "prd['prod_mean_days_since_prior'] = orders_products.groupby('product_id')['days_since_prior_order'].mean().astype(np.float32)\n",
    "prd['prod_median_days_since_prior'] = orders_products.groupby('product_id')['days_since_prior_order'].median().astype(np.float32)\n",
    "\n",
    "prd['prod_reoreder_mean_days_since_prior'] = orders_products[orders_products.reordered > 0].groupby('product_id')['days_since_prior_order'].mean()\n",
    "prd['prod_reoreder_mean_days_since_prior'] = prd['prod_reoreder_mean_days_since_prior'].astype(np.float32)\n",
    "\n",
    "prd['prod_reoreder_median_days_since_prior'] = orders_products[orders_products.reordered > 0].groupby('product_id')['days_since_prior_order'].median().astype(np.float32) \n",
    "prd.prod_reoreder_median_days_since_prior.fillna(value=9999, inplace=True)\n",
    "prd['prod_reoreder_median_days_since_prior'] = prd['prod_reoreder_median_days_since_prior'].astype(np.int32)\n",
    "\n",
    "prd['prod_reoreder_var_days_since_prior'] = orders_products[orders_products.reordered > 0].groupby('product_id')['days_since_prior_order'].var()\n",
    "prd['prod_reoreder_var_days_since_prior'] = prd['prod_reoreder_var_days_since_prior'].astype(np.float32)\n",
    "\n",
    "prd['prod_period'] = orders_products.groupby('product_id')['days_since_prior_order'].sum().astype(np.int32)\n",
    "\n",
    "prd['prod_mean_order_hour_of_day'] = orders_products.groupby('product_id')['order_hour_of_day'].mean().astype(np.float32)\n",
    "prd['prod_mean_order_dow'] = orders_products.groupby('product_id')['order_dow'].mean().astype(np.float32)\n",
    "\n",
    "# prd['prod_mean_f1_score'] = orders_products.groupby('product_id')['average_f1_score'].mean().astype(np.float32)\n",
    "\n",
    "prd['prod_mean_order_number'] = orders_products.groupby('product_id')['order_number'].mean().astype(np.float32)\n",
    "prd['prod_reorder_mean_order_number'] = orders_products[orders_products.reordered > 0].groupby('product_id')['order_number'].mean().astype(np.float32)\n",
    "prd['prod_reorder_mean_order_number'] = prd['prod_reorder_mean_order_number'].astype(np.float32)\n",
    "\n",
    "prd['prod_share_in_orders'] = prd.prod_total_orders / orders_products.order_id.nunique()\n",
    "prd['prod_share_in_orders'] = prd['prod_share_in_orders'].astype(np.float32)\n",
    "prd['prod_share_in_reorders'] = prd.prod_total_reorders / orders_products.reordered.sum()\n",
    "prd['prod_share_in_reorders'] = prd['prod_share_in_reorders'].astype(np.float32)\n",
    "\n",
    "prd['prod_share_in_users'] = prd.prod_unique_users / orders_products.user_id.nunique()\n",
    "prd['prod_share_in_users'] = prd['prod_share_in_users'].astype(np.float32)\n",
    "\n",
    "prd['aisle_id'] = orders_products.groupby('product_id')['aisle_id'].min().astype(np.int16)\n",
    "prd['department_id'] = orders_products.groupby('product_id')['department_id'].min().astype(np.int16)"
   ]
  },
  {
   "cell_type": "code",
   "execution_count": null,
   "metadata": {},
   "outputs": [],
   "source": [
    "temp = orders_products.groupby(['product_id', 'user_id']).agg({'reordered':'sum', 'user_id': 'size'})\n",
    "temp.rename(columns={'sum': 'reordered','user_id': 'total'}, inplace=True)\n",
    "temp['reorder_prob'] = temp.reordered / temp.total\n",
    "\n",
    "prd['prod_reorder_up_mean_probability'] = temp.groupby('product_id')['reorder_prob'].mean().astype(np.float32)\n",
    "\n",
    "del temp\n",
    "gc.collect()"
   ]
  },
  {
   "cell_type": "code",
   "execution_count": null,
   "metadata": {},
   "outputs": [],
   "source": [
    "temp = pd.DataFrame(orders_products.groupby('product_id')['user_id'].value_counts())\n",
    "temp.rename(columns={'user_id' : 'counts'}, inplace=True)\n",
    "temp.reset_index(inplace=True)\n",
    "\n",
    "prd['prod_unique_second_reorder_users'] = temp[temp['counts'] > 2].groupby('product_id')['counts'].size().astype(np.int32)\n",
    "\n",
    "del temp\n",
    "gc.collect()"
   ]
  },
  {
   "cell_type": "code",
   "execution_count": null,
   "metadata": {
    "collapsed": true
   },
   "outputs": [],
   "source": [
    "temp_temp = pd.DataFrame()\n",
    "temp = orders_products[['product_id','user_id', 'order_id', 'order_number', 'reordered']]\n",
    "\n",
    "temp_temp['first_order'] = temp.groupby(['product_id', 'user_id'])['order_number'].min()\n",
    "temp_temp['last_order'] = temp.groupby(['product_id', 'user_id'])['order_number'].max()\n",
    "temp_temp['dif'] = temp_temp.last_order - temp_temp.first_order\n",
    "temp_temp['reorder_order_numbers'] = temp[temp.reordered > 0].groupby(['product_id', 'user_id'])['order_number'].apply(list)\n",
    "\n",
    "del temp\n",
    "gc.collect()\n",
    "\n",
    "temp = temp_temp.dropna().copy()    \n",
    "temp['mean'] = temp['dif']\n",
    "\n",
    "means = []\n",
    "for row in temp[temp.reorder_order_numbers.map(len) > 1].iterrows():\n",
    "\n",
    "    row[1].reorder_order_numbers.insert(0, row[1].first_order)\n",
    "    means.append(np.mean(np.array(row[1].reorder_order_numbers)[1:] - np.array(row[1].reorder_order_numbers)[:-1]))    \n",
    "temp.loc[temp.reorder_order_numbers.map(len) > 1, 'mean'] = means\n",
    "\n",
    "temp_temp.reset_index(inplace=True)\n",
    "temp.reset_index(inplace=True)\n",
    "\n",
    "temp = temp[['product_id', 'user_id', 'mean',]]\n",
    "temp_temp = pd.merge(temp_temp, temp, on=['product_id', 'user_id'], how='left')\n",
    "temp_temp.fillna(value=0, inplace=True)\n",
    "\n",
    "prd['prod_average_first_last_orders_dif_mean'] = temp_temp.groupby('product_id')['dif'].mean().astype(np.float32)\n",
    "prd['prod_average_first_last_orders_dif_meadian'] = temp_temp.groupby('product_id')['dif'].median().astype(np.float32)\n",
    "prd['prod_reorder_order_since_prior_mean_mean'] = temp_temp.groupby('product_id')['mean'].mean().astype(np.float32)\n",
    "prd['prod_reorder_order_since_prior_mean_var'] = temp_temp.groupby('product_id')['mean'].var().astype(np.float32)"
   ]
  },
  {
   "cell_type": "code",
   "execution_count": null,
   "metadata": {},
   "outputs": [],
   "source": [
    "data = pd.DataFrame()\n",
    "\n",
    "data['up_reorder_order_since_prior_mean'] = temp_temp.groupby(['user_id', 'product_id'])['mean'].min()\n",
    "data['up_reorder_order_since_prior_mean'] = data['up_reorder_order_since_prior_mean'].astype(np.float32)\n",
    "\n",
    "data['up_prod_first_last_orders_dif'] = temp_temp.groupby(['user_id', 'product_id'])['dif'].min()\n",
    "data['up_prod_first_last_orders_dif'] = data['up_prod_first_last_orders_dif'].astype(np.float32)\n",
    "\n",
    "del temp_temp, temp, means,\n",
    "gc.collect()"
   ]
  },
  {
   "cell_type": "code",
   "execution_count": null,
   "metadata": {},
   "outputs": [],
   "source": [
    "temp = pd.DataFrame()\n",
    "temp['aisle_orders'] = orders_products.groupby('aisle_id', as_index=False)['order_id'].size()\n",
    "temp['prod_aisle_market_share'] = temp.aisle_orders / orders_products.order_id.nunique()\n",
    "temp.reset_index(inplace = True)\n",
    "temp_temp = pd.DataFrame(orders_products.groupby('product_id')['aisle_id'].min())\n",
    "temp_temp.reset_index(inplace=True)\n",
    "temp_temp = temp_temp.merge(temp, on='aisle_id')\n",
    "\n",
    "prd['prod_aisle_share_in_orders']  = temp_temp.groupby('product_id')['prod_aisle_market_share'].min().astype(np.float32)\n",
    "prd['prod_aisle_orders']  = temp_temp.groupby('product_id')['aisle_orders'].min().astype(np.int32)\n",
    "\n",
    "del temp, temp_temp\n",
    "gc.collect()"
   ]
  },
  {
   "cell_type": "code",
   "execution_count": null,
   "metadata": {},
   "outputs": [],
   "source": [
    "temp = pd.DataFrame()\n",
    "temp['department_orders'] = orders_products.groupby('department_id', as_index=False)['order_id'].size()\n",
    "temp['prod_department_market_share'] = temp.department_orders / len(np.unique(orders_products.order_id.values))\n",
    "temp.reset_index(inplace = True)\n",
    "temp_temp = pd.DataFrame(orders_products.groupby('product_id')['department_id'].min())\n",
    "temp_temp.reset_index(inplace=True)\n",
    "temp_temp = temp_temp.merge(temp, on='department_id')\n",
    "\n",
    "prd['prod_department_share_in_orders']  = temp_temp.groupby('product_id')['prod_department_market_share'].min().astype(np.float32)\n",
    "prd['prod_department_orders']  = temp_temp.groupby('product_id')['department_orders'].min().astype(np.int32)\n",
    "\n",
    "del temp, temp_temp\n",
    "gc.collect()"
   ]
  },
  {
   "cell_type": "code",
   "execution_count": null,
   "metadata": {
    "collapsed": true
   },
   "outputs": [],
   "source": [
    "prd['prod_share_in_aisle'] = prd.prod_total_orders / prd.prod_aisle_orders\n",
    "prd['prod_share_in_aisle'] = prd['prod_share_in_aisle'].astype(np.float32)\n",
    "\n",
    "prd['prod_share_in_department'] = prd.prod_total_orders / prd.prod_department_orders\n",
    "prd['prod_share_in_department'] = prd['prod_share_in_department'].astype(np.float32)"
   ]
  },
  {
   "cell_type": "code",
   "execution_count": null,
   "metadata": {},
   "outputs": [],
   "source": [
    "temp = pd.DataFrame(orders_products.groupby('order_id', as_index=False)['product_id'].size())\n",
    "temp.columns = ['order_size']\n",
    "temp.reset_index(inplace=True)\n",
    "\n",
    "temp_temp = orders_products[['order_id', 'product_id']]\n",
    "temp_temp = pd.merge(temp_temp, temp, on='order_id')\n",
    "\n",
    "prd['prod_mean_order_size'] = temp_temp.groupby('product_id')['order_size'].mean().astype(np.float32)\n",
    "\n",
    "del temp, temp_temp\n",
    "gc.collect()"
   ]
  },
  {
   "cell_type": "code",
   "execution_count": null,
   "metadata": {},
   "outputs": [],
   "source": [
    "prd.fillna(value=0, inplace=True)\n",
    "gc.collect()"
   ]
  },
  {
   "cell_type": "markdown",
   "metadata": {},
   "source": [
    "###### User general features"
   ]
  },
  {
   "cell_type": "markdown",
   "metadata": {},
   "source": [
    "for each user:\n",
    "* total number of orders (user_orders)\n",
    "* sum of days_since_prior_order (user_period)\n",
    "* mean of days_since_prior_order (user_mean_days_since_prior)\n",
    "* total number of ordered products (user_total_products)\n",
    "* user_reorder_ratio = sum(user_reordered_products) / (total number of products without first order)\n",
    "* total number of ordered unique products (user_distinct_products)\n",
    "* user max reorder rate (from me)\n",
    "* user mean reorder rate (from me)\n",
    "* user average reorder (from me)\n",
    "* user average hour of order (from me)\n",
    "* user average order dow (from me)\n"
   ]
  },
  {
   "cell_type": "code",
   "execution_count": null,
   "metadata": {
    "collapsed": true
   },
   "outputs": [],
   "source": [
    "users = pd.DataFrame()"
   ]
  },
  {
   "cell_type": "code",
   "execution_count": null,
   "metadata": {
    "collapsed": true
   },
   "outputs": [],
   "source": [
    "users['user_orders'] = orders_products.groupby('user_id')['order_number'].max().astype(np.int32)\n",
    "users['user_period'] = orders_products.groupby('user_id')['days_since_prior_order'].sum().astype(np.int32)\n",
    "users['user_days_since_prior_mean'] = orders_products.groupby('user_id')['days_since_prior_order'].mean().astype(np.float32)\n",
    "users['user_days_since_prior_median'] = orders_products.groupby('user_id')['days_since_prior_order'].median().astype(np.int32)\n",
    "\n",
    "users['user_total_products'] = orders_products.groupby('user_id')['user_id'].size().astype(np.int32)\n",
    "users['user_distinct_products'] = orders_products.groupby('user_id')['product_id'].nunique().astype(np.int32)\n",
    "users['user_distinct_aisles'] = orders_products.groupby('user_id')['aisle_id'].nunique().astype(np.int32)\n",
    "users['user_distinct_departments'] = orders_products.groupby('user_id')['department_id'].nunique().astype(np.int32)\n",
    "users['user_mean_order_hour_of_day'] = orders_products.groupby('user_id')['order_hour_of_day'].mean().astype(np.float32)\n",
    "users['user_mean_order_dow'] = orders_products.groupby('user_id')['order_dow'].mean().astype(np.float32)\n",
    "\n",
    "users['user_reorder_mean_add_to_cart_order'] = orders_products[orders_products.reordered > 0].groupby('user_id')['add_to_cart_order'].mean()\n",
    "users.user_reorder_mean_add_to_cart_order.fillna(value=9999, inplace=True)\n",
    "users['user_reorder_mean_add_to_cart_order'] = users['user_reorder_mean_add_to_cart_order'].astype(np.float32)\n",
    "\n",
    "users['user_reorder_median_add_to_cart_order'] = orders_products[orders_products.reordered > 0].groupby('user_id')['add_to_cart_order'].median()\n",
    "users.user_reorder_median_add_to_cart_order.fillna(value = 0, inplace = True)\n",
    "users['user_reorder_median_add_to_cart_order'] = users['user_reorder_median_add_to_cart_order'].astype(np.int32)\n",
    "\n",
    "users['user_reoreder_days_since_prior_mean'] = orders_products[orders_products.reordered > 0].groupby('user_id')['days_since_prior_order'].mean() \n",
    "users.user_reoreder_days_since_prior_mean.fillna(value=9999, inplace=True)\n",
    "users['user_reoreder_days_since_prior_mean'] = users['user_reoreder_days_since_prior_mean'].astype(np.float32)\n",
    "\n",
    "users['user_reorder_total_products'] = orders_products[orders_products.reordered > 0].groupby('user_id')['user_id'].size().astype(np.int32)\n",
    "users.user_reorder_total_products.fillna(value=0, inplace=True)\n",
    "users['user_reorder_total_products'] = users['user_reorder_total_products'].astype(np.int32)\n",
    "\n",
    "users['user_reorder_distinct_products'] = orders_products[orders_products.reordered > 0].groupby('user_id')['product_id'].nunique().astype(np.int32)\n",
    "users.user_reorder_distinct_products.fillna(value=0, inplace=True)\n",
    "users['user_reorder_distinct_products'] = users['user_reorder_distinct_products'].astype(np.int32)\n",
    "\n",
    "users['user_reorder_distinct_aisles'] = orders_products[orders_products.reordered > 0].groupby('user_id')['aisle_id'].nunique().astype(np.int32)\n",
    "users.user_reorder_distinct_aisles.fillna(value=0, inplace=True)\n",
    "users['user_reorder_distinct_aisles'] = users['user_reorder_distinct_aisles'].astype(np.int32)\n",
    "\n",
    "users['user_reorder_distinct_departments'] = orders_products[orders_products.reordered > 0].groupby('user_id')['department_id'].nunique().astype(np.int32)\n",
    "users.user_reorder_distinct_departments.fillna(value=0, inplace=True)\n",
    "users['user_reorder_distinct_departments'] = users['user_reorder_distinct_departments'].astype(np.int32)\n",
    "\n",
    "# users['user_mean_f1_score'] = orders_products.groupby('user_id')['average_f1_score'].mean().astype(np.float32)\n",
    "\n",
    "users['user_total_reorders'] = orders_products.groupby('user_id')['reordered'].sum()\n",
    "users.user_total_reorders.fillna(value=0, inplace=True)\n",
    "users['user_total_reorders'] = users['user_total_reorders'].astype(np.int32)\n",
    "\n",
    "users['user_reorder_general_ratio'] = users.user_total_reorders / users.user_total_products\n",
    "users['user_reorder_general_ratio'] = users['user_reorder_general_ratio'].astype(np.float32)\n",
    "\n",
    "users['user_general_average_basket'] = users.user_total_products / users.user_orders\n",
    "users['user_general_average_basket'] = users['user_general_average_basket'].astype(np.float32)"
   ]
  },
  {
   "cell_type": "code",
   "execution_count": null,
   "metadata": {},
   "outputs": [],
   "source": [
    "temp = orders_products[['user_id', 'order_id', 'order_size', 'reordered']]\n",
    "temp_temp = pd.DataFrame(temp.groupby('order_id')['reordered'].sum())\n",
    "temp_temp.rename(columns = {'reordered' : 'order_reorder'}, inplace=True)\n",
    "temp_temp.reset_index(inplace=True)\n",
    "temp = pd.merge(temp, temp_temp, on = 'order_id')\n",
    "\n",
    "del temp_temp\n",
    "gc.collect()\n",
    "\n",
    "temp['order_reorder_ratio'] = temp.order_reorder / temp.order_size\n",
    "users['user_order_reorder_ratio_mean'] = temp.groupby('user_id')['order_reorder_ratio'].mean().astype(np.float32)\n",
    "users['user_order_reorder_ratio_median'] = temp.groupby('user_id')['order_reorder_ratio'].median().astype(np.float32)\n",
    "\n",
    "del temp\n",
    "gc.collect()"
   ]
  },
  {
   "cell_type": "code",
   "execution_count": null,
   "metadata": {},
   "outputs": [],
   "source": [
    "temp = orders_products[['user_id', 'order_id', 'order_number', 'order_size']]\n",
    "temp.drop_duplicates(inplace=True)\n",
    "temp_temp = pd.DataFrame(temp.groupby('user_id')['order_number'].max())\n",
    "temp_temp.rename(columns = {'order_number': 'user_orders'}, inplace=True)\n",
    "temp_temp.reset_index(inplace=True)\n",
    "temp = pd.merge(temp_temp, temp, on='user_id')\n",
    "\n",
    "del temp_temp\n",
    "gc.collect()\n",
    "\n",
    "temp['weighted_order_size'] = temp.order_number / temp.user_orders * temp.order_size\n",
    "users['user_weighted_average_basket'] = temp.groupby('user_id')['weighted_order_size'].mean().astype(np.float32)\n",
    "\n",
    "del temp\n",
    "gc.collect()"
   ]
  },
  {
   "cell_type": "markdown",
   "metadata": {},
   "source": [
    "###### Joining test and train orders data"
   ]
  },
  {
   "cell_type": "code",
   "execution_count": null,
   "metadata": {},
   "outputs": [],
   "source": [
    "temp = orders[orders['eval_set'] != 'prior'][['user_id', 'order_id', 'eval_set', 'days_since_prior_order', 'order_dow', 'order_hour_of_day', 'order_number']]  \n",
    "temp.set_index('user_id', inplace=True)\n",
    "\n",
    "users = users.join(temp)\n",
    "\n",
    "users['days_since_prior_order'] = users['days_since_prior_order'].astype(np.int32)\n",
    "\n",
    "del temp\n",
    "gc.collect()"
   ]
  },
  {
   "cell_type": "markdown",
   "metadata": {},
   "source": [
    "###### Database for training"
   ]
  },
  {
   "cell_type": "markdown",
   "metadata": {},
   "source": [
    "for each user + product pair:\n",
    "* total number of orders by user ordered the product (up_orders)\n",
    "* first order number of the product for user (up_first_order)\n",
    "* last order number of the product for user (up_last_order)\n",
    "* mean add_to_cart_order of product for user (up_average_cart_position)\n",
    "* up_order_rate = up_orders / user_orders\n",
    "* up_orders_since_last_order = user_orders - up_last_order\n",
    "* up_order_rate_since_first_order = up_orders/(user_orders - up_first_order + 1)\n",
    "* up_sum_cart_position (from me)\n",
    "* up_reoreder_frequency (from me)\n",
    "* up_porduct_score (form me)"
   ]
  },
  {
   "cell_type": "code",
   "execution_count": null,
   "metadata": {
    "collapsed": true
   },
   "outputs": [],
   "source": [
    "# data = pd.DataFrame()"
   ]
  },
  {
   "cell_type": "code",
   "execution_count": null,
   "metadata": {
    "collapsed": true
   },
   "outputs": [],
   "source": [
    "orders_products['add_to_cart_order_inverted'] = orders_products.order_size - orders_products.add_to_cart_order\n",
    "orders_products['add_to_cart_order_relative'] = orders_products.add_to_cart_order / orders_products.order_size"
   ]
  },
  {
   "cell_type": "code",
   "execution_count": null,
   "metadata": {
    "collapsed": true
   },
   "outputs": [],
   "source": [
    "data['up_orders'] = orders_products.groupby(['user_id', 'product_id'])['order_id'].size().astype(np.int32)\n",
    "data['up_first_order'] = orders_products.groupby(['user_id', 'product_id'])['order_number'].min().astype(np.int32)\n",
    "data['up_last_order'] = orders_products.groupby(['user_id', 'product_id'])['order_number'].max().astype(np.int32)\n",
    "data['up_last_reorder_order'] = orders_products[orders_products.reordered > 0].groupby(['user_id', 'product_id'])['order_number'].max()\n",
    "data.up_last_reorder_order.fillna(value=0, inplace=True)\n",
    "data['up_last_reorder_order'] = data['up_last_reorder_order'].astype(np.int32)\n",
    "\n",
    "data['up_mean_cart_position'] = orders_products.groupby(['user_id', 'product_id'])['add_to_cart_order'].mean().astype(np.float32)\n",
    "data['up_median_cart_position'] = orders_products.groupby(['user_id', 'product_id'])['add_to_cart_order'].median().astype(np.int32)\n",
    "data['up_sum_cart_position'] = orders_products.groupby(['user_id', 'product_id'])['add_to_cart_order'].sum().astype(np.int32)\n",
    "\n",
    "data['up_days_since_prior_order_mean'] = orders_products.groupby(['user_id', 'product_id'])['days_since_prior_order'].mean().astype(np.float32)\n",
    "data['up_days_since_prior_order_median'] = orders_products.groupby(['user_id', 'product_id'])['days_since_prior_order'].median().astype(np.float32)\n",
    "data['up_days_since_prior_order_sum'] = orders_products.groupby(['user_id', 'product_id'])['days_since_prior_order'].sum().astype(np.float32)\n",
    "\n",
    "data['up_order_dow_mean'] = orders_products.groupby(['user_id', 'product_id'])['order_dow'].mean().astype(np.float32)\n",
    "data['up_order_dow_median'] = orders_products.groupby(['user_id', 'product_id'])['order_dow'].median().astype(np.int32)\n",
    "\n",
    "data['up_order_hour_of_day_mean'] = orders_products.groupby(['user_id', 'product_id'])['order_hour_of_day'].mean().astype(np.float32)\n",
    "data['up_order_hour_of_day_median'] = orders_products.groupby(['user_id', 'product_id'])['order_hour_of_day'].median().astype(np.int32)\n",
    "\n",
    "data['up_order_hour_of_day_mean'] = orders_products.groupby(['user_id', 'product_id'])['order_hour_of_day'].mean().astype(np.float32)\n",
    "data['up_order_hour_of_day_median'] = orders_products.groupby(['user_id', 'product_id'])['order_hour_of_day'].median().astype(np.int32)\n",
    "\n",
    "data['up_add_to_cart_order_inverted_mean'] = orders_products.groupby(['user_id', 'product_id'])['add_to_cart_order_inverted'].mean().astype(np.float32)\n",
    "data['up_add_to_cart_order_inverted_median'] = orders_products.groupby(['user_id', 'product_id'])['add_to_cart_order_inverted'].median().astype(np.int32)\n",
    "\n",
    "data['up_add_to_cart_order_relative_mean'] = orders_products.groupby(['user_id', 'product_id'])['add_to_cart_order_relative'].mean().astype(np.float32)\n",
    "data['up_add_to_cart_order_relative_median'] = orders_products.groupby(['user_id', 'product_id'])['add_to_cart_order_relative'].median().astype(np.float32)\n",
    "\n",
    "data['up_reorder_sum'] = orders_products.groupby(['user_id', 'product_id'])['reordered'].sum().astype(np.int32)\n",
    "# data['up_average_f1_score'] = orders_products.groupby(['user_id', 'product_id'])['average_f1_score'].mean().astype(np.float32)\n",
    "data['up_order_number_mean'] = orders_products.groupby(['user_id', 'product_id'])['order_number'].mean().astype(np.float32)"
   ]
  },
  {
   "cell_type": "code",
   "execution_count": null,
   "metadata": {},
   "outputs": [],
   "source": [
    "temp = pd.DataFrame(orders_products.groupby(['user_id'])['order_number'].max())\n",
    "temp.reset_index(inplace=True)\n",
    "temp_temp = data[['up_order_number_mean']]\n",
    "temp_temp.reset_index(inplace=True)\n",
    "temp_temp = pd.merge(temp_temp, temp)\n",
    "temp_temp['up_product_order_number_skew'] = temp_temp.up_order_number_mean / temp_temp.order_number\n",
    "\n",
    "data['up_product_order_number_skew'] = temp_temp.groupby(['user_id', 'product_id'])['up_product_order_number_skew'].min().astype(np.float32)\n",
    "\n",
    "del temp, temp_temp\n",
    "gc.collect()"
   ]
  },
  {
   "cell_type": "code",
   "execution_count": null,
   "metadata": {},
   "outputs": [],
   "source": [
    "temp = data[['up_reorder_sum']]\n",
    "temp.reset_index(inplace=True)\n",
    "temp_temp = pd.DataFrame(temp.groupby('user_id')['up_reorder_sum'].sum())\n",
    "temp_temp.rename(columns = {'up_reorder_sum' : 'user_reorders'}, inplace=True)\n",
    "temp_temp.reset_index(inplace=True)\n",
    "\n",
    "temp = pd.merge(temp, temp_temp)\n",
    "\n",
    "del temp_temp\n",
    "gc.collect()\n",
    "\n",
    "temp['up_reorder_share_in_user'] = temp.up_reorder_sum / temp.user_reorders\n",
    "data['up_reorder_share_in_user'] = temp.groupby(['user_id', 'product_id'])['up_reorder_share_in_user'].min().astype(np.float32)\n",
    "data.up_reorder_share_in_user.fillna(value=0, inplace=True)\n",
    "\n",
    "del temp\n",
    "gc.collect()"
   ]
  },
  {
   "cell_type": "code",
   "execution_count": null,
   "metadata": {},
   "outputs": [],
   "source": [
    "temp = orders_products[['user_id', 'product_id', 'order_number', 'days_since_prior_order', 'add_to_cart_order' ]]\n",
    "temp.fillna(value=1, inplace=True)\n",
    "temp['num_orders'] = temp.groupby(['user_id'])['order_number'].transform(max)\n",
    "temp['days_since_prior_order'] = np.power(temp['days_since_prior_order'], 1/6)\n",
    "temp['add_to_cart_order'] = np.power(temp['add_to_cart_order'], 1/6)\n",
    "temp['up_product_score'] = (temp['order_number'] * temp['days_since_prior_order']\n",
    "                             / (temp['add_to_cart_order'] * temp['num_orders']))\n",
    "\n",
    "data['up_product_score'] = temp.groupby(['user_id', 'product_id'])['up_product_score'].sum().astype(np.float32)\n",
    "\n",
    "del temp\n",
    "gc.collect()"
   ]
  },
  {
   "cell_type": "code",
   "execution_count": null,
   "metadata": {
    "collapsed": true
   },
   "outputs": [],
   "source": [
    "dep = pd.DataFrame()\n",
    "dep['dep_products'] = orders_products.groupby(['user_id', 'department_id'])['product_id'].nunique()\n",
    "dep['dep_reordered'] = orders_products.groupby(['user_id', 'department_id'])['reordered'].sum()\n",
    "dep.reset_index(inplace=True)\n",
    "dep.fillna(value=0, inplace=True)\n",
    "dep['dep_products'] = dep['dep_products'].astype(np.int32)\n",
    "dep['dep_reordered'] = dep['dep_reordered'].astype(np.int32)"
   ]
  },
  {
   "cell_type": "code",
   "execution_count": null,
   "metadata": {
    "collapsed": true
   },
   "outputs": [],
   "source": [
    "ais = pd.DataFrame()\n",
    "ais['ais_products'] = orders_products.groupby(['user_id', 'aisle_id'])['product_id'].nunique()\n",
    "ais['ais_reordered'] = orders_products.groupby(['user_id', 'aisle_id'])['reordered'].sum()\n",
    "ais.reset_index(inplace=True)\n",
    "ais.fillna(value=0, inplace=True)\n",
    "ais['ais_products'] = ais['ais_products'].astype(np.int32)\n",
    "ais['ais_reordered'] = ais['ais_reordered'].astype(np.int32)"
   ]
  },
  {
   "cell_type": "code",
   "execution_count": null,
   "metadata": {},
   "outputs": [],
   "source": [
    "del orders_products, orders\n",
    "gc.collect()"
   ]
  },
  {
   "cell_type": "markdown",
   "metadata": {},
   "source": [
    "###### Joining data with prd and users, dep and ais"
   ]
  },
  {
   "cell_type": "code",
   "execution_count": null,
   "metadata": {
    "collapsed": true
   },
   "outputs": [],
   "source": [
    "data.reset_index(inplace=True)\n",
    "prd.reset_index(inplace=True)\n",
    "users.reset_index(inplace=True)"
   ]
  },
  {
   "cell_type": "code",
   "execution_count": null,
   "metadata": {},
   "outputs": [],
   "source": [
    "data = pd.merge(data, prd, on='product_id')\n",
    "del prd\n",
    "gc.collect()\n",
    "\n",
    "data = pd.merge(data, users, on='user_id')\n",
    "del users\n",
    "gc.collect()\n",
    "\n",
    "data = pd.merge(data, dep, on = ['user_id', 'department_id'])\n",
    "del dep\n",
    "gc.collect()\n",
    "\n",
    "data = pd.merge(data, ais, on = ['user_id', 'aisle_id'])\n",
    "del ais\n",
    "gc.collect()"
   ]
  },
  {
   "cell_type": "code",
   "execution_count": null,
   "metadata": {
    "collapsed": true
   },
   "outputs": [],
   "source": [
    "data['user_product_reordered_ratio'] = (data.up_reorder_sum + 1.0) / data.up_orders\n",
    "data['user_product_reordered_ratio'] = data['user_product_reordered_ratio'].astype(np.float32)\n",
    "\n",
    "data['up_order_rate'] = data.up_orders / data.user_orders\n",
    "data['up_order_rate'] = data['up_order_rate'].astype(np.float32)\n",
    "\n",
    "data['up_orders_since_last_order'] = data.up_orders - data.up_last_order\n",
    "data['up_orders_since_last_order'] = data['up_orders_since_last_order'].astype(np.int32)\n",
    "\n",
    "data['up_order_rate_since_first_order'] = data.up_orders / (data.user_orders - data.up_first_order + 1)\n",
    "data['up_order_rate_since_first_order'] = data['up_order_rate_since_first_order'].astype(np.float32)\n",
    "\n",
    "data['up_orders_since_last_reorder_order'] = data.order_number - data.up_last_reorder_order\n",
    "data['up_orders_since_last_reorder_order'] = data['up_orders_since_last_reorder_order'].astype(np.float32)\n",
    "\n",
    "data['up_days_since_last_order'] = data.user_period - data.up_days_since_prior_order_sum\n",
    "data['up_days_since_last_order'] = data['up_days_since_last_order'].astype(np.float32)\n",
    "\n",
    "data['up_hours_since_last_order'] = (data.user_period - data.up_days_since_prior_order_sum)*24 + data.order_hour_of_day\n",
    "data['up_hours_since_last_order'] = data['up_hours_since_last_order'].astype(np.float32)\n",
    "\n",
    "# data['user_mean_f1_average_basket'] = data.user_mean_f1_score * data.user_general_average_basket\n",
    "# data['user_mean_f1_average_basket'] = data['user_mean_f1_average_basket'].astype(np.float32)"
   ]
  },
  {
   "cell_type": "code",
   "execution_count": null,
   "metadata": {},
   "outputs": [],
   "source": [
    "data = pd.merge(data, ordert[['user_id', 'product_id', 'reordered']], how='left', on=['user_id', 'product_id'])\n",
    "\n",
    "del ordert\n",
    "gc.collect()"
   ]
  },
  {
   "cell_type": "code",
   "execution_count": null,
   "metadata": {},
   "outputs": [],
   "source": [
    "for column in data.columns.values:\n",
    "    if data[column].isnull().any() == True:\n",
    "        print(column)"
   ]
  },
  {
   "cell_type": "code",
   "execution_count": null,
   "metadata": {},
   "outputs": [],
   "source": [
    "data.reordered.fillna(value=0, inplace=True)\n",
    "data['reordered'] = data['reordered'].astype(np.int16)\n",
    "gc.collect()"
   ]
  },
  {
   "cell_type": "markdown",
   "metadata": {},
   "source": [
    "###### Train and Test Datasets"
   ]
  },
  {
   "cell_type": "code",
   "execution_count": null,
   "metadata": {},
   "outputs": [],
   "source": [
    "train = data[data['eval_set'] == 'train']\n",
    "train = train.drop(['eval_set'], axis=1)\n",
    "train_columns = train.columns\n",
    "\n",
    "np.savetxt(path + 'xgb_train_columns_4.csv', train_columns, delimiter=\",\", fmt='%s', header='')\n",
    "train.to_pickle(path + 'xgb_train_features_4')\n",
    "\n",
    "del train\n",
    "gc.collect()\n",
    "\n",
    "test = data[data['eval_set'] == 'test']\n",
    "test = test.drop(['eval_set', 'reordered'], axis=1)\n",
    "test_columns = test.columns\n",
    "\n",
    "np.savetxt(path + 'xgb_test_columns_4.csv', test_columns, delimiter=\",\", fmt='%s', header='')\n",
    "test.to_pickle(path + 'xgb_test_features_4')\n",
    "\n",
    "del data\n",
    "gc.collect()"
   ]
  }
 ],
 "metadata": {
  "kernelspec": {
   "display_name": "Python 3",
   "language": "python",
   "name": "python3"
  },
  "language_info": {
   "codemirror_mode": {
    "name": "ipython",
    "version": 3
   },
   "file_extension": ".py",
   "mimetype": "text/x-python",
   "name": "python",
   "nbconvert_exporter": "python",
   "pygments_lexer": "ipython3",
   "version": "3.6.1"
  }
 },
 "nbformat": 4,
 "nbformat_minor": 2
}
