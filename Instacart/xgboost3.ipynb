{
 "cells": [
  {
   "cell_type": "markdown",
   "metadata": {},
   "source": [
    "### 1. Importing packages"
   ]
  },
  {
   "cell_type": "code",
   "execution_count": 1,
   "metadata": {
    "collapsed": true
   },
   "outputs": [],
   "source": [
    "import pandas as pd\n",
    "import numpy as np\n",
    "import gc\n",
    "import warnings\n",
    "import matplotlib.pyplot as plt\n",
    "\n",
    "%matplotlib inline\n",
    "warnings.filterwarnings(\"ignore\")"
   ]
  },
  {
   "cell_type": "markdown",
   "metadata": {},
   "source": [
    "### 2. Features creation"
   ]
  },
  {
   "cell_type": "markdown",
   "metadata": {},
   "source": [
    "###### Loading initial data"
   ]
  },
  {
   "cell_type": "code",
   "execution_count": 2,
   "metadata": {
    "collapsed": true
   },
   "outputs": [],
   "source": [
    "path = 'C:/Users/AM000110/Desktop/ML/Kaggle/Instacart_Market_Basket_Analysis/input_data/'"
   ]
  },
  {
   "cell_type": "code",
   "execution_count": null,
   "metadata": {
    "collapsed": true
   },
   "outputs": [],
   "source": [
    "# Load Data ---------------------------------------------------------------\n",
    "\n",
    "aisles = pd.read_csv(path + 'aisles.csv')\n",
    "departments = pd.read_csv(path + 'departments.csv')\n",
    "orderp = pd.read_csv(path + 'order_products__prior.csv')\n",
    "ordert = pd.read_csv(path + 'order_products__train.csv')\n",
    "orders = pd.read_csv(path + 'orders.csv')\n",
    "products = pd.read_csv(path + 'products.csv')"
   ]
  },
  {
   "cell_type": "markdown",
   "metadata": {},
   "source": [
    "###### Joining to product aisle and department names"
   ]
  },
  {
   "cell_type": "code",
   "execution_count": null,
   "metadata": {
    "collapsed": true
   },
   "outputs": [],
   "source": [
    "products = pd.merge(products, aisles, on='aisle_id')\n",
    "products = pd.merge(products, departments, on='department_id')\n",
    "products = products[['product_id', 'aisle_id', 'department_id']]\n",
    "\n",
    "del aisles, departments\n",
    "gc.collect()"
   ]
  },
  {
   "cell_type": "markdown",
   "metadata": {},
   "source": [
    "###### Adding user_ids to order_train"
   ]
  },
  {
   "cell_type": "code",
   "execution_count": null,
   "metadata": {
    "collapsed": true
   },
   "outputs": [],
   "source": [
    "orders_users = orders[['order_id', 'user_id']]\n",
    "orders_users = orders_users[orders_users['order_id'].isin(ordert.order_id.values)]\n",
    "ordert = pd.merge(ordert, orders_users, on='order_id')\n",
    "\n",
    "orders_users\n",
    "gc.collect()"
   ]
  },
  {
   "cell_type": "markdown",
   "metadata": {},
   "source": [
    "###### Joining orders data with prior data"
   ]
  },
  {
   "cell_type": "code",
   "execution_count": null,
   "metadata": {
    "collapsed": true
   },
   "outputs": [],
   "source": [
    "orders_products = pd.merge(orders, orderp, on='order_id')\n",
    "orders_products = pd.merge(orders_products, products, on='product_id')\n",
    "\n",
    "del orderp, products\n",
    "gc.collect()"
   ]
  },
  {
   "cell_type": "code",
   "execution_count": null,
   "metadata": {
    "collapsed": true
   },
   "outputs": [],
   "source": [
    "f1_score = pd.read_csv('C:/Users/AM000110/Desktop/ML/Kaggle/Instacart_Market_Basket_Analysis/reordered_basket_size_prediction/f1_score.csv')\n",
    "f1_score = f1_score[['order_id', 'average_f1_score']]\n",
    "\n",
    "orders_products = pd.merge(orders_products, f1_score, on='order_id')\n",
    "del f1_score\n",
    "gc.collect()"
   ]
  },
  {
   "cell_type": "markdown",
   "metadata": {},
   "source": [
    "###### Product general features"
   ]
  },
  {
   "cell_type": "markdown",
   "metadata": {},
   "source": [
    "for each product:\n",
    "* total number of orders (prod_orders)\n",
    "* sum of reorders (prod_reorders)\n",
    "* number of unique users who buy it (prod_first_orders)\n",
    "* number of unque users who buy it more than 1 time (prod_second_orders)\n",
    "* product reorder probability = prod_second_orders / prod_first_orders\n",
    "* prod_reorder_times = 1 + prod_reorders / prod_first_orders\n",
    "* prod_reorder_ratio = prod_reorders / prod_orders\n",
    "* prod_average_order_hour_of_day (from me)\n",
    "* prod_average_order_dow (from me)\n",
    "* prod_frequency = prod_orders / total number of orders (from me)\n",
    "* prod_reorder_frequency = prod_reorders / sum of total reorders (from me)\n",
    "* prod_most_frequent_reoder_day (from me)\n",
    "* product second reorder probability (from me)\n",
    "* product aisle market share = aisle_orders / total_orders (from me)\n",
    "* product deparment market share = department orders / total orders (from me)\n",
    "* product market share in aisle = prod_orders / aisle_orders (from me)\n",
    "* product market share in department = prod_orders / department_orders (from me)\n",
    "* product order mean size (from me)\n",
    "* product mean share within order (from me)\n",
    "* product reorder std within users"
   ]
  },
  {
   "cell_type": "code",
   "execution_count": null,
   "metadata": {
    "collapsed": true
   },
   "outputs": [],
   "source": [
    "prd = pd.DataFrame()"
   ]
  },
  {
   "cell_type": "code",
   "execution_count": null,
   "metadata": {
    "collapsed": true
   },
   "outputs": [],
   "source": [
    "prd['prod_orders'] = orders_products.groupby('product_id')['order_id'].size()\n",
    "prd['prod_reorders'] = orders_products.groupby('product_id')['reordered'].sum()\n",
    "prd['prod_first_orders'] = orders_products.groupby('product_id')['user_id'].nunique()\n",
    "prd['aisle_id'] = orders_products.groupby('product_id')['aisle_id'].min().astype(int)\n",
    "prd['department_id'] = orders_products.groupby('product_id')['department_id'].min().astype(int)\n",
    "prd['prod_average_order_hour_of_day'] = orders_products.groupby('product_id')['order_hour_of_day'].mean()\n",
    "prd['prod_average_order_dow'] = orders_products.groupby('product_id')['order_dow'].mean()\n",
    "prd['prod_period'] = orders_products.groupby('product_id')['days_since_prior_order'].sum()\n",
    "prd['prod_average_f1_score'] = orders_products.groupby('product_id')['average_f1_score'].mean()\n",
    "prd['prod_max_f1_score'] = orders_products.groupby('product_id')['average_f1_score'].max()\n",
    "prd['prod_std_f1_score'] = orders_products.groupby('product_id')['average_f1_score'].std()\n",
    "prd['prod_reoreder_mean_days'] = orders_products[orders_products.reordered > 0].groupby('product_id')['days_since_prior_order'].mean() \n",
    "prd['prod_reoreder_mean_hours'] = orders_products[orders_products.reordered > 0].groupby('product_id')['order_hour_of_day'].mean()\n",
    "prd['prod_reoreder_mean_dow'] = orders_products[orders_products.reordered > 0].groupby('product_id')['order_dow'].mean()\n"
   ]
  },
  {
   "cell_type": "code",
   "execution_count": null,
   "metadata": {
    "collapsed": true
   },
   "outputs": [],
   "source": [
    "temp = pd.DataFrame(orders_products.groupby('product_id')['user_id'].value_counts())\n",
    "temp.rename(columns={'user_id' : 'counts'}, inplace=True)\n",
    "temp.reset_index(inplace=True)\n",
    "\n",
    "prd['prod_second_orders'] = temp[temp['counts'] > 1].groupby('product_id')['counts'].size()\n",
    "prd['prod_third_orders'] = temp[temp['counts'] > 2].groupby('product_id')['counts'].size()\n",
    "\n",
    "del temp\n",
    "gc.collect()"
   ]
  },
  {
   "cell_type": "code",
   "execution_count": null,
   "metadata": {
    "collapsed": true
   },
   "outputs": [],
   "source": [
    "prd['prod_reorder_probability'] = prd.prod_second_orders / prd.prod_first_orders\n",
    "prd['prod_reorder_times'] = 1 + prd.prod_reorders / prd.prod_first_orders\n",
    "prd['prod_reorder_ratio'] = prd.prod_reorders / prd.prod_orders\n",
    "prd['prod_second_reorder_probability'] = prd.prod_third_orders / prd.prod_second_orders\n",
    "prd['prod_frequency'] = prd.prod_orders / len(np.unique(orders_products.order_id.values))\n",
    "prd['prod_reorder_frequency'] = prd.prod_reorders / orders_products.reordered.sum()"
   ]
  },
  {
   "cell_type": "code",
   "execution_count": null,
   "metadata": {
    "collapsed": true
   },
   "outputs": [],
   "source": [
    "temp = orders_products[orders_products['reordered'] != 0]\n",
    "temp = pd.DataFrame(temp.groupby('product_id')['order_dow'].value_counts())\n",
    "temp.rename(columns={'order_dow' : 'order_dow_counts'}, inplace=True)\n",
    "temp.reset_index(inplace=True)\n",
    "temp['max'] = temp.groupby(['product_id'])['order_dow_counts'].transform(max)\n",
    "temp['dif'] = temp['max'] - temp['order_dow_counts']\n",
    "temp = temp[temp['dif'] == 0]\n",
    "temp = pd.DataFrame(temp.groupby('product_id')['order_dow'].min())\n",
    "temp.rename(columns={'order_dow' : 'prod_most_frequent_reroder_order_dow'}, inplace=True)\n",
    "\n",
    "prd = prd.join(temp)\n",
    "\n",
    "del temp\n",
    "gc.collect()"
   ]
  },
  {
   "cell_type": "code",
   "execution_count": null,
   "metadata": {
    "collapsed": true
   },
   "outputs": [],
   "source": [
    "temp = pd.DataFrame()\n",
    "temp['aisle_orders'] = orders_products.groupby('aisle_id', as_index=False)['order_id'].size()\n",
    "temp['prod_aisle_market_share'] = temp.aisle_orders / len(np.unique(orders_products.order_id.values))\n",
    "temp.reset_index(inplace = True)\n",
    "temp_temp = pd.DataFrame(orders_products.groupby('product_id')['aisle_id'].min())\n",
    "temp_temp.reset_index(inplace=True)\n",
    "temp_temp = temp_temp.merge(temp, on='aisle_id')\n",
    "\n",
    "prd['prod_aisle_market_share']  = temp_temp.groupby('product_id')['prod_aisle_market_share'].min()\n",
    "prd['prod_aisle_orders']  = temp_temp.groupby('product_id')['aisle_orders'].min()\n",
    "\n",
    "del temp, temp_temp\n",
    "gc.collect()"
   ]
  },
  {
   "cell_type": "code",
   "execution_count": null,
   "metadata": {
    "collapsed": true
   },
   "outputs": [],
   "source": [
    "temp = pd.DataFrame()\n",
    "temp['department_orders'] = orders_products.groupby('department_id', as_index=False)['order_id'].size()\n",
    "temp['prod_department_market_share'] = temp.department_orders / len(np.unique(orders_products.order_id.values))\n",
    "temp.reset_index(inplace = True)\n",
    "temp_temp = pd.DataFrame(orders_products.groupby('product_id')['department_id'].min())\n",
    "temp_temp.reset_index(inplace=True)\n",
    "temp_temp = temp_temp.merge(temp, on='department_id')\n",
    "\n",
    "prd['prod_department_market_share']  = temp_temp.groupby('product_id')['prod_department_market_share'].min()\n",
    "prd['prod_department_orders']  = temp_temp.groupby('product_id')['department_orders'].min()\n",
    "\n",
    "del temp, temp_temp\n",
    "gc.collect()"
   ]
  },
  {
   "cell_type": "code",
   "execution_count": null,
   "metadata": {
    "collapsed": true
   },
   "outputs": [],
   "source": [
    "prd['prod_market_share_in_aisle'] = prd.prod_orders / prd.prod_aisle_orders\n",
    "prd['prod_market_share_in_department'] = prd.prod_orders / prd.prod_department_orders"
   ]
  },
  {
   "cell_type": "code",
   "execution_count": null,
   "metadata": {
    "collapsed": true,
    "scrolled": true
   },
   "outputs": [],
   "source": [
    "temp = pd.DataFrame(orders_products.groupby(['product_id', 'user_id'], as_index=False)['reordered'].sum())\n",
    "temp = pd.DataFrame(temp.groupby(['product_id'])['reordered'].apply(list))\n",
    "\n",
    "std_var = []\n",
    "N = orders_products.user_id.nunique()\n",
    "for row in temp.iterrows():\n",
    "    all_users_data = row[1][0] + [0]*(N - len(row[1][0]))\n",
    "    std_var.append((row[0], np.std(all_users_data), np.var(all_users_data)))\n",
    "\n",
    "std_var = pd.DataFrame(std_var, columns=['product_id', 'prod_reorder_std', 'prod_reorder_var'])\n",
    "prd['prod_reorder_std'] = std_var.groupby('product_id')['prod_reorder_std'].min()\n",
    "prd['prod_reorder_variance'] = std_var.groupby('product_id')['prod_reorder_var'].min()\n",
    "\n",
    "del temp, std_var\n",
    "gc.collect()"
   ]
  },
  {
   "cell_type": "code",
   "execution_count": null,
   "metadata": {
    "collapsed": true
   },
   "outputs": [],
   "source": [
    "temp = pd.DataFrame(orders_products.groupby('order_id', as_index=False)['product_id'].size())\n",
    "temp.columns = ['order_size']\n",
    "temp['product_share'] = 1 / temp.order_size\n",
    "temp.reset_index(inplace=True)\n",
    "\n",
    "temp_temp = orders_products[['order_id', 'product_id']]\n",
    "temp_temp = pd.merge(temp_temp, temp, on='order_id')\n",
    "\n",
    "prd['prod_mean_order_size'] = temp_temp.groupby('product_id')['order_size'].mean()\n",
    "prd['prod_mean_order_share'] = temp_temp.groupby('product_id')['product_share'].mean()\n",
    "\n",
    "del temp, temp_temp\n",
    "gc.collect()"
   ]
  },
  {
   "cell_type": "code",
   "execution_count": null,
   "metadata": {
    "collapsed": true
   },
   "outputs": [],
   "source": [
    "# prd.drop(['prod_reorders', 'prod_first_orders', 'prod_second_orders', 'prod_aisle_orders', 'prod_department_orders'], axis=1, inplace=True)"
   ]
  },
  {
   "cell_type": "markdown",
   "metadata": {},
   "source": [
    "###### User general features"
   ]
  },
  {
   "cell_type": "markdown",
   "metadata": {},
   "source": [
    "for each user:\n",
    "* total number of orders (user_orders)\n",
    "* sum of days_since_prior_order (user_period)\n",
    "* mean of days_since_prior_order (user_mean_days_since_prior)\n",
    "* total number of ordered products (user_total_products)\n",
    "* user_reorder_ratio = sum(user_reordered_products) / (total number of products without first order)\n",
    "* total number of ordered unique products (user_distinct_products)\n",
    "* user max reorder rate (from me)\n",
    "* user mean reorder rate (from me)\n",
    "* user average reorder (from me)\n",
    "* user average hour of order (from me)\n",
    "* user average order dow (from me)\n"
   ]
  },
  {
   "cell_type": "code",
   "execution_count": null,
   "metadata": {
    "collapsed": true
   },
   "outputs": [],
   "source": [
    "users = pd.DataFrame()"
   ]
  },
  {
   "cell_type": "code",
   "execution_count": null,
   "metadata": {
    "collapsed": true
   },
   "outputs": [],
   "source": [
    "users['user_distinct_aisles'] = orders_products.groupby('user_id')['aisle_id'].nunique()\n",
    "users['user_distinct_departments'] = orders_products.groupby('user_id')['department_id'].nunique()\n",
    "users['user_average_order_hour_of_day'] = orders_products.groupby('user_id')['order_hour_of_day'].mean()\n",
    "users['user_average_order_dow'] = orders_products.groupby('user_id')['order_dow'].mean()\n",
    "\n",
    "users['user_average_f1_score'] = orders_products.groupby('user_id')['average_f1_score'].mean()\n",
    "users['user_max_f1_score'] = orders_products.groupby('user_id')['average_f1_score'].max()\n",
    "users['user_std_f1_score'] = orders_products.groupby('user_id')['average_f1_score'].std()\n",
    "users['user_reoreder_mean_days'] = orders_products[orders_products.reordered > 0].groupby('user_id')['days_since_prior_order'].mean() \n",
    "users['user_reoreder_mean_hours'] = orders_products[orders_products.reordered > 0].groupby('user_id')['order_hour_of_day'].mean()\n",
    "users['user_reoreder_mean_dow'] = orders_products[orders_products.reordered > 0].groupby('user_id')['order_dow'].mean()\n",
    "\n",
    "users['user_reorder_distinct_products'] = orders_products[orders_products.reordered > 0].groupby('user_id')['product_id'].nunique()\n",
    "users['user_reorder_distinct_aisles'] = orders_products[orders_products.reordered > 0].groupby('user_id')['aisle_id'].nunique()\n",
    "users['user_reorder_distinct_departments'] = orders_products[orders_products.reordered > 0].groupby('user_id')['department_id'].nunique()\n"
   ]
  },
  {
   "cell_type": "code",
   "execution_count": null,
   "metadata": {
    "collapsed": true
   },
   "outputs": [],
   "source": [
    "temp = orders[orders['eval_set'] == 'prior']\n",
    "users['user_orders'] = temp.groupby('user_id')['order_number'].max()\n",
    "users['user_period'] = temp.groupby('user_id')['days_since_prior_order'].sum()\n",
    "users['user_mean_days_since_prior'] = temp.groupby('user_id')['days_since_prior_order'].mean()\n",
    "\n",
    "del temp\n",
    "gc.collect()"
   ]
  },
  {
   "cell_type": "code",
   "execution_count": null,
   "metadata": {
    "collapsed": true
   },
   "outputs": [],
   "source": [
    "temp = pd.DataFrame(orders_products.groupby(['user_id', 'order_id'])['reordered'].sum())\n",
    "temp.reset_index(inplace=True)\n",
    "\n",
    "temp_products = pd.DataFrame(orders_products.groupby('order_id')['product_id'].apply(list))\n",
    "temp_products.reset_index(inplace=True)\n",
    "temp_products.columns = ['order_id', 'products_list']\n",
    "temp_products['order_size'] = temp_products['products_list'].str.len() # defining order size\n",
    "temp_products.drop(['products_list'], axis=1, inplace=True)\n",
    "\n",
    "temp = pd.merge(temp, temp_products, on = 'order_id') \n",
    "temp['reorder_ratio'] = temp.reordered / temp.order_size\n",
    "\n",
    "users['user_max_reorder_rate'] = temp.groupby('user_id')['reorder_ratio'].max()\n",
    "users['user_mean_reorder_rate'] = temp.groupby('user_id')['reorder_ratio'].mean()\n",
    "users['user_average_reorder'] = temp.groupby('user_id')['reordered'].mean()\n",
    "\n",
    "del temp, temp_products\n",
    "gc.collect()"
   ]
  },
  {
   "cell_type": "code",
   "execution_count": null,
   "metadata": {
    "collapsed": true
   },
   "outputs": [],
   "source": [
    "us = pd.DataFrame()\n",
    "us['user_total_products'] = orders_products.groupby('user_id')['product_id'].size()\n",
    "us['user_distinct_products'] = orders_products.groupby('user_id')['product_id'].nunique()"
   ]
  },
  {
   "cell_type": "code",
   "execution_count": null,
   "metadata": {
    "collapsed": true
   },
   "outputs": [],
   "source": [
    "temp = orders_products[orders_products['order_number'] > 1]\n",
    "us['user_reorder_ratio'] = (orders_products.groupby('user_id')['reordered'].sum()\n",
    "                           / temp.groupby('user_id')['product_id'].size())\n",
    "\n",
    "del temp\n",
    "gc.collect()"
   ]
  },
  {
   "cell_type": "code",
   "execution_count": null,
   "metadata": {
    "collapsed": true
   },
   "outputs": [],
   "source": [
    "users = users.join(us)\n",
    "users['user_average_basket'] = users.user_total_products / users.user_orders\n",
    "\n",
    "del us\n",
    "gc.collect()"
   ]
  },
  {
   "cell_type": "markdown",
   "metadata": {},
   "source": [
    "###### Joining test and train orders data"
   ]
  },
  {
   "cell_type": "code",
   "execution_count": null,
   "metadata": {
    "collapsed": true
   },
   "outputs": [],
   "source": [
    "temp = orders[orders['eval_set'] != 'prior'][['user_id', 'order_id', 'eval_set', 'days_since_prior_order', 'order_dow', 'order_hour_of_day']]  \n",
    "temp.rename(columns={'days_since_prior_order' : 'time_since_last_order'}, inplace=True)\n",
    "temp.set_index('user_id', inplace=True)\n",
    "\n",
    "users = users.join(temp)\n",
    "\n",
    "del temp\n",
    "gc.collect()"
   ]
  },
  {
   "cell_type": "markdown",
   "metadata": {},
   "source": [
    "###### Database for training"
   ]
  },
  {
   "cell_type": "markdown",
   "metadata": {},
   "source": [
    "for each user + product pair:\n",
    "* total number of orders by user ordered the product (up_orders)\n",
    "* first order number of the product for user (up_first_order)\n",
    "* last order number of the product for user (up_last_order)\n",
    "* mean add_to_cart_order of product for user (up_average_cart_position)\n",
    "* up_order_rate = up_orders / user_orders\n",
    "* up_orders_since_last_order = user_orders - up_last_order\n",
    "* up_order_rate_since_first_order = up_orders/(user_orders - up_first_order + 1)\n",
    "* up_sum_cart_position (from me)\n",
    "* up_reoreder_frequency (from me)\n",
    "* up_porduct_score (form me)"
   ]
  },
  {
   "cell_type": "code",
   "execution_count": null,
   "metadata": {
    "collapsed": true
   },
   "outputs": [],
   "source": [
    "data = pd.DataFrame()"
   ]
  },
  {
   "cell_type": "code",
   "execution_count": null,
   "metadata": {
    "collapsed": true
   },
   "outputs": [],
   "source": [
    "data['up_orders'] = orders_products.groupby(['user_id', 'product_id'])['order_number'].size()\n",
    "data['up_first_order'] = orders_products.groupby(['user_id', 'product_id'])['order_number'].min()\n",
    "data['up_last_order'] = orders_products.groupby(['user_id', 'product_id'])['order_number'].max()\n",
    "data['up_average_cart_position'] = orders_products.groupby(['user_id', 'product_id'])['add_to_cart_order'].mean()\n",
    "data['up_sum_cart_position'] = orders_products.groupby(['user_id', 'product_id'])['add_to_cart_order'].sum()\n",
    "data['up_product_period'] = orders_products.groupby(['user_id', 'product_id'])['days_since_prior_order'].sum()\n",
    "data['up_product_sum_order_number'] = orders_products.groupby(['user_id', 'product_id'])['order_number'].sum()\n",
    "data['up_average_f1_scorer'] = orders_products.groupby(['user_id', 'product_id'])['average_f1_score'].mean()\n"
   ]
  },
  {
   "cell_type": "code",
   "execution_count": null,
   "metadata": {
    "collapsed": true
   },
   "outputs": [],
   "source": [
    "temp = pd.DataFrame(orders_products.groupby(['user_id', 'product_id'])['reordered'].sum())\n",
    "temp['total_reordered'] = temp.groupby('user_id')['reordered'].transform(sum)\n",
    "temp['up_reoreder_frequency'] = temp.reordered / temp.total_reordered\n",
    "temp = temp[['up_reoreder_frequency']]\n",
    "data = data.join(temp)\n",
    "\n",
    "del temp\n",
    "gc.collect()"
   ]
  },
  {
   "cell_type": "code",
   "execution_count": null,
   "metadata": {
    "collapsed": true
   },
   "outputs": [],
   "source": [
    "temp = orders_products[['user_id', 'product_id', 'order_number', 'reordered', 'days_since_prior_order', 'add_to_cart_order' ]]\n",
    "temp.fillna(value=1, inplace=True)\n",
    "temp['num_orders'] = temp.groupby(['user_id'])['order_number'].transform(max)\n",
    "temp['days_since_prior_order'] = np.power(temp['days_since_prior_order'], 1/6)\n",
    "temp['add_to_cart_order'] = np.power(temp['add_to_cart_order'], 1/6)\n",
    "temp['up_product_score'] = (temp['reordered'] * temp['order_number'] * temp['days_since_prior_order']\n",
    "                             / (temp['add_to_cart_order'] * temp['num_orders']))\n",
    "\n",
    "data['up_product_score'] = temp.groupby(['user_id', 'product_id'])['up_product_score'].sum()\n",
    "\n",
    "del temp\n",
    "gc.collect()"
   ]
  },
  {
   "cell_type": "code",
   "execution_count": null,
   "metadata": {
    "collapsed": true
   },
   "outputs": [],
   "source": [
    "temp = pd.DataFrame(orders_products.groupby(['user_id'])['product_id'].size())\n",
    "temp_temp = pd.DataFrame(orders_products.groupby(['user_id', 'product_id'])['order_id'].size())\n",
    "\n",
    "temp.rename(columns={'product_id' : 'order_size'}, inplace=True)\n",
    "temp_temp.reset_index(inplace=True)\n",
    "temp.reset_index(inplace=True)\n",
    "temp_temp = pd.merge(temp_temp, temp, on = 'user_id')\n",
    "temp_temp['up_product_user_share'] = temp_temp.order_id / temp_temp.order_size\n",
    "\n",
    "data['up_product_user_share'] = temp_temp.groupby(['user_id', 'product_id'])['up_product_user_share'].min()\n",
    "\n",
    "del temp, temp_temp\n",
    "gc.collect()"
   ]
  },
  {
   "cell_type": "code",
   "execution_count": null,
   "metadata": {
    "collapsed": true
   },
   "outputs": [],
   "source": [
    "del orders_products, orders\n",
    "gc.collect()"
   ]
  },
  {
   "cell_type": "markdown",
   "metadata": {},
   "source": [
    "###### Joining data with prd and users"
   ]
  },
  {
   "cell_type": "code",
   "execution_count": null,
   "metadata": {
    "collapsed": true
   },
   "outputs": [],
   "source": [
    "data.reset_index(inplace=True)\n",
    "prd.reset_index(inplace=True)\n",
    "users.reset_index(inplace=True)"
   ]
  },
  {
   "cell_type": "code",
   "execution_count": null,
   "metadata": {
    "collapsed": true
   },
   "outputs": [],
   "source": [
    "data = pd.merge(data, prd, on='product_id')\n",
    "\n",
    "del prd\n",
    "gc.collect()\n",
    "\n",
    "data = pd.merge(data, users, on='user_id')\n",
    "\n",
    "del users\n",
    "gc.collect()"
   ]
  },
  {
   "cell_type": "code",
   "execution_count": null,
   "metadata": {
    "collapsed": true
   },
   "outputs": [],
   "source": [
    "data['up_order_rate'] = data.up_orders / data.user_orders\n",
    "data['up_orders_since_last_order'] = data.user_orders - data.up_last_order\n",
    "data['up_order_rate_since_first_order'] = data.up_orders / (data.user_orders - data.up_first_order + 1)\n",
    "data['up_days_since_last_order'] = data.user_period - data.up_product_period\n",
    "data['up_product_average_sum_order_numbers'] = data.up_product_sum_order_number / (data.user_orders * data.up_orders)"
   ]
  },
  {
   "cell_type": "code",
   "execution_count": null,
   "metadata": {
    "collapsed": true
   },
   "outputs": [],
   "source": [
    "del temp\n",
    "gc.collect()"
   ]
  },
  {
   "cell_type": "code",
   "execution_count": null,
   "metadata": {
    "collapsed": true
   },
   "outputs": [],
   "source": [
    "data = pd.merge(data, ordert[['user_id', 'product_id', 'reordered']], how='left', on=['user_id', 'product_id'])\n",
    "\n",
    "del ordert\n",
    "gc.collect()"
   ]
  },
  {
   "cell_type": "code",
   "execution_count": null,
   "metadata": {
    "collapsed": true
   },
   "outputs": [],
   "source": [
    "data['prod_first_orders'] = data['prod_first_orders'].astype(np.int32)"
   ]
  },
  {
   "cell_type": "markdown",
   "metadata": {},
   "source": [
    "###### Train and Test Datasets"
   ]
  },
  {
   "cell_type": "code",
   "execution_count": null,
   "metadata": {
    "collapsed": true
   },
   "outputs": [],
   "source": [
    "train = data[data['eval_set'] == 'train']\n",
    "train = train.fillna(value=0)\n",
    "train = train.drop(['eval_set'], axis=1)\n",
    "train_columns = train.columns\n",
    "\n",
    "test = data[data['eval_set'] == 'test']\n",
    "test = test.drop(['eval_set', 'reordered'], axis=1)\n",
    "test_columns = test.columns\n",
    "\n",
    "del data\n",
    "gc.collect()"
   ]
  },
  {
   "cell_type": "markdown",
   "metadata": {},
   "source": [
    "###### Saving crated features"
   ]
  },
  {
   "cell_type": "code",
   "execution_count": null,
   "metadata": {
    "collapsed": true
   },
   "outputs": [],
   "source": [
    "np.savetxt(path + 'xgb_train_columns.csv', train_columns, delimiter=\",\", fmt='%s', header='')\n",
    "np.savetxt(path + 'xgb_test_columns.csv', test_columns, delimiter=\",\", fmt='%s', header='')\n",
    "\n",
    "np.save(path + 'xgb_train1', train)\n",
    "np.save(path + 'xgb_test1', test)"
   ]
  },
  {
   "cell_type": "markdown",
   "metadata": {},
   "source": [
    "### 3. Model"
   ]
  },
  {
   "cell_type": "markdown",
   "metadata": {},
   "source": [
    "###### Loading saved train data"
   ]
  },
  {
   "cell_type": "code",
   "execution_count": 47,
   "metadata": {
    "collapsed": true
   },
   "outputs": [],
   "source": [
    "train_columns = pd.read_csv(path + 'xgb_train_columns.csv', header=None)\n",
    "# train_dtypes = pd.read_csv(path + 'xgb_dtype_columns.csv', names=['column', 'dtype'], header=None)\n",
    "# train = np.load(path + 'xgb_train1.npy', mmap_mode='r')"
   ]
  },
  {
   "cell_type": "code",
   "execution_count": 48,
   "metadata": {
    "scrolled": false
   },
   "outputs": [],
   "source": [
    "train_columns = train_columns.values.flatten()\n",
    "# train = pd.DataFrame(train, columns = train_columns)\n",
    "\n",
    "# del train_columns\n",
    "# gc.collect()"
   ]
  },
  {
   "cell_type": "code",
   "execution_count": 25,
   "metadata": {
    "collapsed": true
   },
   "outputs": [],
   "source": [
    "f_to_use = pd.read_csv(path + 'xgb_initial_features.csv', header=None)\n",
    "f_to_use = f_to_use.values.flatten()\n",
    "# train = train[f_to_use]"
   ]
  },
  {
   "cell_type": "code",
   "execution_count": 50,
   "metadata": {},
   "outputs": [],
   "source": [
    "train_columns = np.concatenate((train_columns, np.array(['user_mean_f1_average_basket'])))"
   ]
  },
  {
   "cell_type": "markdown",
   "metadata": {},
   "source": [
    "###### Dividing into train and validation"
   ]
  },
  {
   "cell_type": "markdown",
   "metadata": {},
   "source": [
    "###### a)"
   ]
  },
  {
   "cell_type": "code",
   "execution_count": null,
   "metadata": {
    "collapsed": true
   },
   "outputs": [],
   "source": [
    "train_orders = np.unique(train.order_id.values)\n",
    "np.random.shuffle(train_orders)\n",
    "valid_orders = train_orders[ : 75000]\n",
    "train_orders = train_orders[75000 :]"
   ]
  },
  {
   "cell_type": "code",
   "execution_count": null,
   "metadata": {
    "collapsed": true
   },
   "outputs": [],
   "source": [
    "valid = train[train['order_id'].isin(valid_orders)]\n",
    "train = train[train['order_id'].isin(train_orders)]\n",
    "train.drop(['user_id', 'product_id', 'order_id'], axis=1, inplace=True)"
   ]
  },
  {
   "cell_type": "code",
   "execution_count": null,
   "metadata": {
    "collapsed": true
   },
   "outputs": [],
   "source": [
    "train_index = train.index.values\n",
    "subtrain_size = 0.25\n",
    "n = int(len(train_index) * subtrain_size)\n",
    "np.random.shuffle(train_index)\n",
    "\n",
    "t1_idx = train_index[: n]\n",
    "t2_idx = train_index[n : 2*n]\n",
    "t3_idx = train_index[2*n : 3*n]\n",
    "t4_idx = train_index[3*n : ]"
   ]
  },
  {
   "cell_type": "code",
   "execution_count": null,
   "metadata": {
    "collapsed": true
   },
   "outputs": [],
   "source": [
    "train_1 = train.loc[t1_idx] \n",
    "train_2 = train.loc[t2_idx] \n",
    "train_3 = train.loc[t3_idx] \n",
    "train_4 = train.loc[t4_idx] \n",
    "\n",
    "train_labels_1 = train_1['reordered']\n",
    "train_1 = train_1.drop('reordered', axis=1)\n",
    "\n",
    "train_labels_2 = train_2['reordered']\n",
    "train_2 = train_2.drop('reordered', axis=1)\n",
    "\n",
    "train_labels_3 = train_3['reordered']\n",
    "train_3 = train_3.drop('reordered', axis=1)\n",
    "\n",
    "train_labels_4 = train_4['reordered']\n",
    "train_4 = train_4.drop('reordered', axis=1)\n",
    "\n",
    "valid_labels = valid[['user_id', 'order_id', 'product_id', 'reordered']]\n",
    "valid.drop(['user_id', 'product_id', 'order_id', 'reordered'], axis=1, inplace=True)"
   ]
  },
  {
   "cell_type": "code",
   "execution_count": null,
   "metadata": {
    "collapsed": true
   },
   "outputs": [],
   "source": [
    "del train, train_orders, valid_orders , train_index, t1_idx, t2_idx, t3_idx, t4_idx, \n",
    "gc.collect()"
   ]
  },
  {
   "cell_type": "markdown",
   "metadata": {},
   "source": [
    "###### b)"
   ]
  },
  {
   "cell_type": "code",
   "execution_count": 26,
   "metadata": {
    "collapsed": true
   },
   "outputs": [],
   "source": [
    "train = train[train.user_average_basket < 7]"
   ]
  },
  {
   "cell_type": "code",
   "execution_count": 27,
   "metadata": {
    "collapsed": true
   },
   "outputs": [],
   "source": [
    "train['user_mean_f1_average_basket'] = train.user_average_f1_score * train.user_average_basket"
   ]
  },
  {
   "cell_type": "code",
   "execution_count": 28,
   "metadata": {
    "collapsed": true
   },
   "outputs": [],
   "source": [
    "train_orders = np.unique(train.order_id.values)\n",
    "np.random.shuffle(train_orders)\n",
    "# n = 117500\n",
    "n = 20000\n",
    "\n",
    "valid_orders = train_orders[ : n]\n",
    "train_orders = train_orders[n : ]"
   ]
  },
  {
   "cell_type": "code",
   "execution_count": 29,
   "metadata": {},
   "outputs": [
    {
     "data": {
      "text/plain": [
       "7"
      ]
     },
     "execution_count": 29,
     "metadata": {},
     "output_type": "execute_result"
    }
   ],
   "source": [
    "valid_1 = train[train['order_id'].isin(valid_orders)]\n",
    "valid_labels_1 = valid_1[['user_id', 'order_id', 'product_id', 'reordered']]\n",
    "valid_1.drop(['user_id', 'product_id', 'order_id', 'reordered'], axis=1, inplace = True)\n",
    "\n",
    "train = train[train['order_id'].isin(train_orders)]\n",
    "train_labels = train['reordered']\n",
    "train.drop(['user_id', 'product_id', 'order_id', 'reordered'], axis=1, inplace=True)\n",
    "\n",
    "gc.collect()"
   ]
  },
  {
   "cell_type": "markdown",
   "metadata": {},
   "source": [
    "* decreasing non reordereds"
   ]
  },
  {
   "cell_type": "code",
   "execution_count": null,
   "metadata": {
    "collapsed": true
   },
   "outputs": [],
   "source": [
    "print(train_labels.sum(), len(train_labels), train_labels.sum()/len(train_labels))"
   ]
  },
  {
   "cell_type": "code",
   "execution_count": null,
   "metadata": {
    "collapsed": true
   },
   "outputs": [],
   "source": [
    "reordered_index = train[train.reordered > 0].index.values\n",
    "not_reordered_index = train[train.reordered == 0].index.values\n",
    "not_reordered_index = np.random.choice(not_reordered_index, size = int(2*train.reordered.sum()), replace=False)\n",
    "index = np.concatenate((reordered_index, not_reordered_index))"
   ]
  },
  {
   "cell_type": "code",
   "execution_count": null,
   "metadata": {
    "collapsed": true
   },
   "outputs": [],
   "source": [
    "train = train.loc[index]\n",
    "train_labels = train['reordered']\n",
    "train.drop(['user_id', 'product_id', 'order_id', 'reordered'], axis=1, inplace=True)"
   ]
  },
  {
   "cell_type": "markdown",
   "metadata": {},
   "source": [
    "###### c)"
   ]
  },
  {
   "cell_type": "code",
   "execution_count": null,
   "metadata": {
    "collapsed": true
   },
   "outputs": [],
   "source": [
    "train_index = train.index.values\n",
    "\n",
    "subtrain_size = 0.1\n",
    "n = int(len(train_index)* subtrain_size)\n",
    "np.random.shuffle(train_index)\n",
    "\n",
    "train_index = train_index[:n]\n",
    "\n",
    "subtrain = train.loc[train_index] \n",
    "subtrain_labels = subtrain['reordered']\n",
    "subtrain.drop(['user_id', 'product_id', 'order_id', 'reordered'], axis=1, inplace=True"
   ]
  },
  {
   "cell_type": "markdown",
   "metadata": {},
   "source": [
    "###### Model training"
   ]
  },
  {
   "cell_type": "code",
   "execution_count": 9,
   "metadata": {
    "collapsed": true
   },
   "outputs": [],
   "source": [
    "import os\n",
    "\n",
    "mingw_path = 'C:\\\\Program Files\\\\mingw-w64\\\\x86_64-7.1.0-posix-seh-rt_v5-rev0\\\\mingw64\\\\bin'\n",
    "os.environ['PATH'] = mingw_path + ';' + os.environ['PATH']\n",
    "\n",
    "import xgboost as xgb"
   ]
  },
  {
   "cell_type": "code",
   "execution_count": 10,
   "metadata": {
    "collapsed": true
   },
   "outputs": [],
   "source": [
    "params = {\n",
    "  'objective'           : 'reg:logistic',\n",
    "  'eval_metric\"'        : 'logloss',\n",
    "  'eta'                 : 0.1,\n",
    "  'max_depth'           : 6,\n",
    "  'min_child_weight'    : 10,\n",
    "  'gamma'               : 0.70,\n",
    "  'subsample'           : 0.77,\n",
    "  'colsample_bytree'    : 0.95,\n",
    "  'alpha'               : 2e-05,\n",
    "  'lambda'              : 10\n",
    "}"
   ]
  },
  {
   "cell_type": "code",
   "execution_count": 30,
   "metadata": {
    "collapsed": true
   },
   "outputs": [],
   "source": [
    "f_to_use = np.concatenate((f_to_use, np.array(['user_mean_f1_average_basket'])))"
   ]
  },
  {
   "cell_type": "code",
   "execution_count": 32,
   "metadata": {},
   "outputs": [],
   "source": [
    "train_x = xgb.DMatrix(data = train[f_to_use[4:]], label = train_labels)\n",
    "model_less_7 = xgb.train(params = params, dtrain = train_x, num_boost_round=90)"
   ]
  },
  {
   "cell_type": "code",
   "execution_count": null,
   "metadata": {},
   "outputs": [],
   "source": [
    "model_less_7.eval(train_x)"
   ]
  },
  {
   "cell_type": "code",
   "execution_count": 12,
   "metadata": {},
   "outputs": [
    {
     "data": {
      "text/plain": [
       "'[0]\\teval-rmse:0.264929'"
      ]
     },
     "execution_count": 12,
     "metadata": {},
     "output_type": "execute_result"
    }
   ],
   "source": [
    "model_more_7.eval(train_x)"
   ]
  },
  {
   "cell_type": "code",
   "execution_count": null,
   "metadata": {
    "collapsed": true
   },
   "outputs": [],
   "source": [
    "fig = plt.figure(figsize=(10,15))\n",
    "ax = fig.add_subplot(1,1,1)\n",
    "xgb.plot_importance(model_less_7, height=0.2, ax=ax, importance_type='gain')"
   ]
  },
  {
   "cell_type": "code",
   "execution_count": 13,
   "metadata": {},
   "outputs": [
    {
     "data": {
      "text/plain": [
       "<matplotlib.axes._subplots.AxesSubplot at 0x1f17fcf5ef0>"
      ]
     },
     "execution_count": 13,
     "metadata": {},
     "output_type": "execute_result"
    },
    {
     "data": {
      "image/png": "[encoded data removed]",
      "text/plain": [
       "<matplotlib.figure.Figure at 0x1f17fcf5e80>"
      ]
     },
     "metadata": {},
     "output_type": "display_data"
    }
   ],
   "source": [
    "fig = plt.figure(figsize=(10,15))\n",
    "ax = fig.add_subplot(1,1,1)\n",
    "xgb.plot_importance(model_more_7, height=0.2, ax=ax, importance_type='gain')"
   ]
  },
  {
   "cell_type": "markdown",
   "metadata": {},
   "source": [
    "### Validation"
   ]
  },
  {
   "cell_type": "code",
   "execution_count": 15,
   "metadata": {},
   "outputs": [],
   "source": [
    "valid_labels_1['prediction'] = model_more_7.predict(xgb.DMatrix(valid_1))"
   ]
  },
  {
   "cell_type": "code",
   "execution_count": 16,
   "metadata": {
    "collapsed": true
   },
   "outputs": [],
   "source": [
    "def fscore_data_generation(data, threshold):\n",
    "    \n",
    "    # true products\n",
    "    temp = data[data['reordered'] > 0]\n",
    "    validation_df = pd.DataFrame(temp.groupby(['user_id', 'order_id'], as_index=False)['product_id'].apply(list))\n",
    "\n",
    "    del temp\n",
    "    gc.collect()\n",
    "\n",
    "    validation_df.rename(columns={0 : 'true_products'}, inplace=True)\n",
    "    validation_df.reset_index(inplace=True)\n",
    "    \n",
    "    valid_orders = set(data['order_id'].values)\n",
    "    predicted_orders = set(validation_df.order_id.values)\n",
    "    none_orders = list(valid_orders - predicted_orders)\n",
    "    none_products = ['None'] * len(none_orders)\n",
    "    nones = data[data['order_id'].isin(none_orders)][['user_id', 'order_id']]\n",
    "    nones.drop_duplicates(inplace=True)\n",
    "    nones['true_products'] = none_products\n",
    "    validation_df = pd.concat([validation_df, nones])\n",
    "    \n",
    "    # predicted products\n",
    "    temp = data[data['prediction'] >= threshold]\n",
    "    temp = pd.DataFrame(temp.groupby(['user_id', 'order_id'])['product_id'].apply(list))\n",
    "\n",
    "    temp.rename(columns={'product_id' : 'predicted_products'}, inplace=True)\n",
    "    temp.reset_index(inplace=True)\n",
    "    \n",
    "    predicted_orders = set(temp.order_id.values)\n",
    "    none_orders = list(valid_orders - predicted_orders)\n",
    "    none_products = ['None'] *len(none_orders)\n",
    "\n",
    "    nones = data[data['order_id'].isin(none_orders)][['user_id', 'order_id']]\n",
    "    nones.drop_duplicates(inplace=True)\n",
    "    nones['predicted_products'] = none_products\n",
    "    temp = pd.concat([temp, nones])\n",
    "    temp.drop(['user_id'], axis=1, inplace=True)\n",
    "    \n",
    "    validation_df = pd.merge(validation_df, temp, on = 'order_id')\n",
    "\n",
    "    del temp, none_orders, none_products, nones\n",
    "    gc.collect()\n",
    "    \n",
    "    return validation_df"
   ]
  },
  {
   "cell_type": "code",
   "execution_count": 17,
   "metadata": {
    "collapsed": true
   },
   "outputs": [],
   "source": [
    "def f1_score(y_true, y_pred):\n",
    "    \n",
    "    y_true, y_pred = set(y_true), set(y_pred)\n",
    "    p = sum([1 for i in y_pred if i in y_true]) / len(y_pred)\n",
    "    r = sum([1 for i in y_true if i in y_pred]) / len(y_true)\n",
    "    \n",
    "    if p + r == 0:\n",
    "        return 0\n",
    "    return (2 * p * r) / (p + r)"
   ]
  },
  {
   "cell_type": "code",
   "execution_count": 18,
   "metadata": {
    "collapsed": true
   },
   "outputs": [],
   "source": [
    "def data_fscore(data):\n",
    "    users_scores = []\n",
    "    for row in data.iterrows():\n",
    "        users_scores.append(f1_score(row[1][2], row[1][3]))\n",
    "    data['f_score'] = users_scores\n",
    "    return data"
   ]
  },
  {
   "cell_type": "code",
   "execution_count": 19,
   "metadata": {},
   "outputs": [],
   "source": [
    "thresholds = [0.18, 0.19, 0.20, 0.21, 0.22]"
   ]
  },
  {
   "cell_type": "code",
   "execution_count": 21,
   "metadata": {},
   "outputs": [
    {
     "name": "stdout",
     "output_type": "stream",
     "text": [
      "{0.18: 0.37906602928337946}\n",
      "{0.18: 0.37906602928337946, 0.19: 0.3795533462906261}\n",
      "{0.18: 0.37906602928337946, 0.19: 0.3795533462906261, 0.2: 0.37947039868944443}\n",
      "{0.18: 0.37906602928337946, 0.19: 0.3795533462906261, 0.2: 0.37947039868944443, 0.21: 0.3784900144079188}\n",
      "{0.18: 0.37906602928337946, 0.19: 0.3795533462906261, 0.2: 0.37947039868944443, 0.21: 0.3784900144079188, 0.22: 0.37712254671317075}\n"
     ]
    }
   ],
   "source": [
    "scores = {}\n",
    "for n in thresholds:\n",
    "    validation_df = fscore_data_generation(valid_labels_1, n)\n",
    "    fscore_data = data_fscore(validation_df)\n",
    "    mean_fscore = fscore_data.f_score.mean()\n",
    "    scores[n] = mean_fscore\n",
    "    print(scores)"
   ]
  },
  {
   "cell_type": "code",
   "execution_count": null,
   "metadata": {},
   "outputs": [],
   "source": [
    "plt.hist(fscore_data.f_score.values, bins=60)\n",
    "plt.show()"
   ]
  },
  {
   "cell_type": "markdown",
   "metadata": {},
   "source": [
    "###### Orders with low score"
   ]
  },
  {
   "cell_type": "code",
   "execution_count": null,
   "metadata": {
    "collapsed": true
   },
   "outputs": [],
   "source": [
    "low_score_users = fscore_data[fscore_data['f_score'] <= 0.1]['user_id'].values\n",
    "low_score_labels = valid_labels[valid_labels['user_id'].isin(low_score_users)]"
   ]
  },
  {
   "cell_type": "code",
   "execution_count": null,
   "metadata": {
    "collapsed": true
   },
   "outputs": [],
   "source": [
    "low_score_thresholds = [0.07]"
   ]
  },
  {
   "cell_type": "code",
   "execution_count": null,
   "metadata": {
    "collapsed": true
   },
   "outputs": [],
   "source": [
    "scores = {}\n",
    "for n in low_score_thresholds:\n",
    "    low_fscore_data = data_fscore(fscore_data_generation(low_score_labels, n))\n",
    "    mean_fscore = low_fscore_data.f_score.mean()\n",
    "    scores[n] = mean_fscore\n",
    "    print(scores)"
   ]
  },
  {
   "cell_type": "code",
   "execution_count": null,
   "metadata": {
    "collapsed": true,
    "scrolled": false
   },
   "outputs": [],
   "source": [
    "plt.hist(low_fscore_data.f_score.values, bins=60)\n",
    "plt.show()"
   ]
  },
  {
   "cell_type": "code",
   "execution_count": null,
   "metadata": {
    "collapsed": true
   },
   "outputs": [],
   "source": [
    "idx = valid_labels[valid_labels.user_id.isin(low_score_users)].index.values\n",
    "low_score_users_data = valid.loc[idx].join(valid_labels.loc[idx])"
   ]
  },
  {
   "cell_type": "code",
   "execution_count": null,
   "metadata": {
    "collapsed": true
   },
   "outputs": [],
   "source": [
    "high_score_users = list(set(valid_labels.user_id.values) - set(low_score_users))\n",
    "idx = valid_labels[valid_labels.user_id.isin(high_score_users)].index.values\n",
    "high_score_users_data = valid.loc[idx].join(valid_labels.loc[idx])"
   ]
  },
  {
   "cell_type": "code",
   "execution_count": null,
   "metadata": {
    "collapsed": true
   },
   "outputs": [],
   "source": [
    "fig = plt.figure(figsize=(10,4))\n",
    "plt.hist(high_score_users_data.user_average_f1_score, bins=60)\n",
    "plt.hist(low_score_users_data.user_average_f1_score, bins=60)\n",
    "plt.show()"
   ]
  },
  {
   "cell_type": "code",
   "execution_count": null,
   "metadata": {
    "collapsed": true
   },
   "outputs": [],
   "source": [
    "fig = plt.figure(figsize=(10,4))\n",
    "plt.hist(high_score_users_data.user_std_f1_score, bins=60)\n",
    "plt.hist(low_score_users_data.user_std_f1_score, bins=60)\n",
    "plt.show()"
   ]
  },
  {
   "cell_type": "code",
   "execution_count": null,
   "metadata": {
    "collapsed": true
   },
   "outputs": [],
   "source": [
    "fig = plt.figure(figsize=(10,4))\n",
    "plt.hist(high_score_users_data.user_average_basket, bins=60)\n",
    "plt.hist(low_score_users_data.user_average_basket, bins=60)\n",
    "plt.show()"
   ]
  },
  {
   "cell_type": "code",
   "execution_count": null,
   "metadata": {
    "collapsed": true
   },
   "outputs": [],
   "source": [
    "fig = plt.figure(figsize=(10,4))\n",
    "plt.hist(high_score_users_data.ffff, bins=60)\n",
    "plt.hist(low_score_users_data.ffff, bins=60)\n",
    "plt.show()"
   ]
  },
  {
   "cell_type": "code",
   "execution_count": null,
   "metadata": {
    "collapsed": true
   },
   "outputs": [],
   "source": [
    "del low_score_users_data, high_score_users_data\n",
    "gc.collect()"
   ]
  },
  {
   "cell_type": "code",
   "execution_count": null,
   "metadata": {
    "collapsed": true
   },
   "outputs": [],
   "source": []
  },
  {
   "cell_type": "markdown",
   "metadata": {
    "collapsed": true
   },
   "source": [
    "### 4. Test Prediction"
   ]
  },
  {
   "cell_type": "code",
   "execution_count": 37,
   "metadata": {},
   "outputs": [
    {
     "data": {
      "text/plain": [
       "7"
      ]
     },
     "execution_count": 37,
     "metadata": {},
     "output_type": "execute_result"
    }
   ],
   "source": [
    "del validation_df\n",
    "gc.collect()"
   ]
  },
  {
   "cell_type": "code",
   "execution_count": 38,
   "metadata": {
    "collapsed": true
   },
   "outputs": [],
   "source": [
    "test_columns = pd.read_csv(path + 'xgb_test_columns.csv', header=None)\n",
    "test = np.load(path + 'xgb_test1.npy')"
   ]
  },
  {
   "cell_type": "code",
   "execution_count": 39,
   "metadata": {
    "scrolled": true
   },
   "outputs": [
    {
     "data": {
      "text/plain": [
       "10"
      ]
     },
     "execution_count": 39,
     "metadata": {},
     "output_type": "execute_result"
    }
   ],
   "source": [
    "test_columns = test_columns.values.flatten()\n",
    "\n",
    "test = pd.DataFrame(test, columns = test_columns)\n",
    "test.fillna(value=0, inplace=True)\n",
    "\n",
    "del test_columns\n",
    "gc.collect()"
   ]
  },
  {
   "cell_type": "code",
   "execution_count": 40,
   "metadata": {
    "collapsed": true
   },
   "outputs": [],
   "source": [
    "test['user_mean_f1_average_basket'] = test.user_average_basket * test.user_average_f1_score"
   ]
  },
  {
   "cell_type": "code",
   "execution_count": 41,
   "metadata": {},
   "outputs": [
    {
     "data": {
      "text/plain": [
       "7"
      ]
     },
     "execution_count": 41,
     "metadata": {},
     "output_type": "execute_result"
    }
   ],
   "source": [
    "test_1 = test[test.user_average_basket >= 7]\n",
    "test_2 = test[test.user_average_basket < 7]\n",
    "\n",
    "del test\n",
    "gc.collect()"
   ]
  },
  {
   "cell_type": "code",
   "execution_count": 53,
   "metadata": {},
   "outputs": [
    {
     "data": {
      "text/plain": [
       "array(['up_orders', 'up_first_order', 'up_last_order',\n",
       "       'up_average_cart_position', 'up_sum_cart_position',\n",
       "       'up_product_period', 'up_product_sum_order_number',\n",
       "       'up_average_f1_scorer', 'up_reoreder_frequency', 'up_product_score',\n",
       "       'up_product_user_share', 'prod_orders', 'prod_reorders',\n",
       "       'prod_first_orders', 'aisle_id', 'department_id',\n",
       "       'prod_average_order_hour_of_day', 'prod_average_order_dow',\n",
       "       'prod_period', 'prod_second_orders', 'prod_third_orders',\n",
       "       'prod_reorder_probability', 'prod_reorder_times',\n",
       "       'prod_reorder_ratio', 'prod_second_reorder_probability',\n",
       "       'prod_frequency', 'prod_reorder_frequency',\n",
       "       'prod_most_frequent_reroder_order_dow', 'prod_aisle_market_share',\n",
       "       'prod_aisle_orders', 'prod_department_market_share',\n",
       "       'prod_department_orders', 'prod_market_share_in_aisle',\n",
       "       'prod_market_share_in_department', 'prod_reorder_std',\n",
       "       'prod_reorder_variance', 'prod_mean_order_size',\n",
       "       'prod_mean_order_share', 'prod_average_f1_score',\n",
       "       'prod_max_f1_score', 'prod_std_f1_score', 'prod_reoreder_mean_days',\n",
       "       'prod_reoreder_mean_hours', 'prod_reoreder_mean_dow',\n",
       "       'user_distinct_aisles', 'user_distinct_departments',\n",
       "       'user_average_order_hour_of_day', 'user_average_order_dow',\n",
       "       'user_average_f1_score', 'user_max_f1_score', 'user_std_f1_score',\n",
       "       'user_reoreder_mean_days', 'user_reoreder_mean_hours',\n",
       "       'user_reoreder_mean_dow', 'user_reorder_distinct_products',\n",
       "       'user_reorder_distinct_aisles', 'user_reorder_distinct_departments',\n",
       "       'user_orders', 'user_period', 'user_mean_days_since_prior',\n",
       "       'user_max_reorder_rate', 'user_mean_reorder_rate',\n",
       "       'user_average_reorder', 'user_total_products',\n",
       "       'user_distinct_products', 'user_reorder_ratio',\n",
       "       'user_average_basket', 'time_since_last_order', 'order_dow',\n",
       "       'order_hour_of_day', 'up_order_rate', 'up_orders_since_last_order',\n",
       "       'up_order_rate_since_first_order', 'up_days_since_last_order',\n",
       "       'up_product_average_sum_order_numbers'], dtype=object)"
      ]
     },
     "execution_count": 53,
     "metadata": {},
     "output_type": "execute_result"
    }
   ],
   "source": [
    "train_columns[4:-1]"
   ]
  },
  {
   "cell_type": "code",
   "execution_count": 54,
   "metadata": {},
   "outputs": [
    {
     "data": {
      "text/plain": [
       "211"
      ]
     },
     "execution_count": 54,
     "metadata": {},
     "output_type": "execute_result"
    }
   ],
   "source": [
    "gc.collect()"
   ]
  },
  {
   "cell_type": "code",
   "execution_count": 55,
   "metadata": {},
   "outputs": [],
   "source": [
    "test_1['reordered'] = model_more_7.predict(xgb.DMatrix(test_1[train_columns[4:-1]]))\n",
    "\n",
    "# f_to_use = np.concatenate((f_to_use, np.array(['user_mean_f1_average_basket'])))\n",
    "test_2['reordered'] = model_less_7.predict(xgb.DMatrix(test_2[f_to_use[4:]]))"
   ]
  },
  {
   "cell_type": "code",
   "execution_count": null,
   "metadata": {
    "collapsed": true
   },
   "outputs": [],
   "source": [
    "test['reordered'] = model.predict(xgb.DMatrix(test[list(train.columns.values)]))"
   ]
  },
  {
   "cell_type": "markdown",
   "metadata": {
    "collapsed": true
   },
   "source": [
    "### 5. Users classification"
   ]
  },
  {
   "cell_type": "code",
   "execution_count": null,
   "metadata": {
    "collapsed": true
   },
   "outputs": [],
   "source": [
    "user_features = ['user_orders','user_period', 'user_mean_days_since_prior', 'user_max_reorder_rate',                                         \n",
    "                 'user_mean_reorder_rate', 'user_average_reorder', 'user_average_order_hour_of_day',\n",
    "                 'user_average_order_dow', 'user_total_products', 'user_distinct_products', \n",
    "                 'user_reorder_ratio', 'user_average_basket', 'user_distinct_aisles', \n",
    "                 'user_distinct_departments', 'user_average_f1_score', 'user_max_f1_score', 'user_std_f1_score',\n",
    "                 'user_reoreder_mean_days', 'user_reoreder_mean_hours', 'user_reoreder_mean_dow', 'user_reorder_distinct_products',\n",
    "                 'user_reorder_distinct_aisles', 'user_reorder_distinct_departments', \n",
    "                ]"
   ]
  },
  {
   "cell_type": "code",
   "execution_count": null,
   "metadata": {
    "collapsed": true
   },
   "outputs": [],
   "source": [
    "user_features2 = ['user_orders','user_period', 'user_mean_reorder_rate', 'user_average_reorder', 'user_total_products', 'user_distinct_products', \n",
    "                 'user_reorder_ratio', 'user_average_basket', 'user_distinct_aisles', \n",
    "                 'user_average_f1_score', 'user_max_f1_score', 'user_std_f1_score',\n",
    "                  'user_reorder_distinct_products',\n",
    "                 'user_reorder_distinct_aisles', 'user_reorder_distinct_departments', \n",
    "                ]"
   ]
  },
  {
   "cell_type": "code",
   "execution_count": null,
   "metadata": {
    "collapsed": true
   },
   "outputs": [],
   "source": [
    "user_train_data = valid[user_features2]\n",
    "user_train_data = user_train_data.join(valid_labels)\n",
    "user_train_data.drop(['order_id', 'product_id', 'reordered', 'prediction'], axis=1, inplace=True)\n",
    "user_train_data.drop_duplicates(inplace=True)"
   ]
  },
  {
   "cell_type": "code",
   "execution_count": null,
   "metadata": {
    "collapsed": true
   },
   "outputs": [],
   "source": [
    "user_labels = pd.DataFrame(low_score_users, columns=['user_id'])\n",
    "user_labels['user_label'] = 1\n",
    "\n",
    "temp = list(set(user_train_data.user_id.values.flatten()) - set(user_labels.user_id.values.flatten()))\n",
    "temp = pd.DataFrame(temp, columns=['user_id'])\n",
    "temp['user_label'] = 0\n",
    "user_labels = pd.concat([user_labels, temp])\n",
    "\n",
    "del temp\n",
    "gc.collect()"
   ]
  },
  {
   "cell_type": "code",
   "execution_count": null,
   "metadata": {
    "collapsed": true
   },
   "outputs": [],
   "source": [
    "user_train_data = pd.merge(user_train_data, user_labels, on = 'user_id')"
   ]
  },
  {
   "cell_type": "code",
   "execution_count": null,
   "metadata": {
    "collapsed": true
   },
   "outputs": [],
   "source": [
    "index = user_train_data.index.values\n",
    "np.random.shuffle(index)\n",
    "\n",
    "train_index = index[: 60000]\n",
    "valid_index = index[60000 : ]\n",
    "user_train = user_train_data.loc[train_index]\n",
    "user_valid = user_train_data.loc[valid_index]\n",
    "\n",
    "user_train_labels = user_train['user_label']\n",
    "user_train = user_train[user_features2]\n",
    "\n",
    "user_valid_labels = user_valid[['user_id', 'user_label']]\n",
    "user_valid = user_valid[user_features2]"
   ]
  },
  {
   "cell_type": "code",
   "execution_count": null,
   "metadata": {
    "collapsed": true
   },
   "outputs": [],
   "source": [
    "user_x = xgb.DMatrix(user_train, user_train_labels)\n",
    "user_model = xgb.train(params=params, dtrain=user_x, num_boost_round=60)"
   ]
  },
  {
   "cell_type": "code",
   "execution_count": null,
   "metadata": {
    "collapsed": true
   },
   "outputs": [],
   "source": [
    "fig = plt.figure(figsize=(10,7))\n",
    "ax = fig.add_subplot(1,1,1)\n",
    "xgb.plot_importance(user_model, height=0.2, ax=ax, importance_type='gain')"
   ]
  },
  {
   "cell_type": "code",
   "execution_count": null,
   "metadata": {
    "collapsed": true
   },
   "outputs": [],
   "source": [
    "user_valid_labels['prediction'] = user_model.predict(xgb.DMatrix(user_valid))"
   ]
  },
  {
   "cell_type": "code",
   "execution_count": null,
   "metadata": {
    "collapsed": true
   },
   "outputs": [],
   "source": [
    "true_label = user_valid_labels.user_label.values.flatten()\n",
    "predicted_label = user_valid_labels.prediction.values.flatten()"
   ]
  },
  {
   "cell_type": "code",
   "execution_count": null,
   "metadata": {
    "collapsed": true,
    "scrolled": true
   },
   "outputs": [],
   "source": [
    "for t in np.arange(.1,.8,.03):\n",
    "    cl =np.zeros_like(predicted_label)\n",
    "    score = 0\n",
    "    prec = 0\n",
    "    rec = 0\n",
    "    k = 0\n",
    "    for index, item in enumerate(predicted_label):\n",
    "        if item > t :\n",
    "            cl[index] = 1\n",
    "        if cl[index] == true_label[index] and cl[index] == 0:\n",
    "            prec += 1\n",
    "        if cl[index] == true_label[index] and cl[index] == 1:\n",
    "            rec += 1\n",
    "        if cl[index] == true_label[index]:\n",
    "            score += 1\n",
    "        if true_label[index] == 0:\n",
    "            k += 1\n",
    "            \n",
    "    score, prec, rec = score / len(user_valid_labels), prec/k, rec/sum(true_label)\n",
    "    print(t, score, prec, rec)    "
   ]
  },
  {
   "cell_type": "code",
   "execution_count": null,
   "metadata": {
    "collapsed": true
   },
   "outputs": [],
   "source": [
    "user_train_data['user_prediction'] = user_model.predict(xgb.DMatrix(user_train_data[user_features2]))\n",
    "user_prediction = user_train_data[['user_id', 'user_prediction']]\n",
    "valid_labels = pd.merge(valid_labels, user_prediction)"
   ]
  },
  {
   "cell_type": "code",
   "execution_count": null,
   "metadata": {
    "collapsed": true
   },
   "outputs": [],
   "source": [
    "ll = 0.6\n",
    "b_idx = valid_labels[valid_labels.user_prediction >= ll].index.values\n",
    "g_idx = valid_labels[valid_labels.user_prediction < ll].index.values"
   ]
  },
  {
   "cell_type": "code",
   "execution_count": null,
   "metadata": {
    "collapsed": true
   },
   "outputs": [],
   "source": [
    "score = data_fscore(validation_df).f_score.mean()"
   ]
  },
  {
   "cell_type": "code",
   "execution_count": null,
   "metadata": {
    "collapsed": true
   },
   "outputs": [],
   "source": [
    "len(b)"
   ]
  },
  {
   "cell_type": "code",
   "execution_count": null,
   "metadata": {
    "collapsed": true
   },
   "outputs": [],
   "source": [
    "b = fscore_data_generation(valid_labels.loc[b_idx], 0.1)\n",
    "g = fscore_data_generation(valid_labels.loc[g_idx], 0.187)\n",
    "f = pd.concat([g, b])\n",
    "data_fscore(f).f_score.mean() - score"
   ]
  },
  {
   "cell_type": "markdown",
   "metadata": {},
   "source": [
    "###### Test users classification"
   ]
  },
  {
   "cell_type": "code",
   "execution_count": null,
   "metadata": {
    "collapsed": true
   },
   "outputs": [],
   "source": [
    "test_users_test_data_x = xgb.DMatrix(test[user_features])\n",
    "test['user_prediction'] = user_model.predict(test_users_test_data_x)"
   ]
  },
  {
   "cell_type": "markdown",
   "metadata": {},
   "source": [
    "### 6. Submission"
   ]
  },
  {
   "cell_type": "markdown",
   "metadata": {},
   "source": [
    "###### a) with user classification"
   ]
  },
  {
   "cell_type": "code",
   "execution_count": null,
   "metadata": {
    "collapsed": true
   },
   "outputs": [],
   "source": [
    "submission = test[['user_id', 'order_id', 'product_id', 'reordered', 'user_prediction']]\n",
    "submission[['order_id', 'product_id']] = submission[['order_id', 'product_id']].astype(int)"
   ]
  },
  {
   "cell_type": "code",
   "execution_count": null,
   "metadata": {
    "collapsed": true
   },
   "outputs": [],
   "source": [
    "bad_users = np.unique(test[test.user_prediction > 0.58]['user_id'].values)\n",
    "good_users = list(set(test.user_id.values.flatten())- set(bad_users))"
   ]
  },
  {
   "cell_type": "code",
   "execution_count": null,
   "metadata": {
    "collapsed": true
   },
   "outputs": [],
   "source": [
    "good_user_pred = submission[submission.user_id.isin(good_users)]\n",
    "good_user_pred = good_user_pred.drop('user_id', axis=1)\n",
    "good_user_pred = good_user_pred[good_user_pred['reordered'] >= 0.21]\n",
    "good_user_pred = pd.DataFrame(good_user_pred.groupby('order_id')['product_id'].apply(list))"
   ]
  },
  {
   "cell_type": "code",
   "execution_count": null,
   "metadata": {
    "collapsed": true
   },
   "outputs": [],
   "source": [
    "bad_user_pred = submission[submission.user_id.isin(bad_users)]\n",
    "bad_user_pred = bad_user_pred.drop('user_id', axis=1)\n",
    "bad_user_pred = bad_user_pred[bad_user_pred['reordered'] >= 0.12]\n",
    "bad_user_pred = pd.DataFrame(bad_user_pred.groupby('order_id')['product_id'].apply(list))"
   ]
  },
  {
   "cell_type": "code",
   "execution_count": null,
   "metadata": {
    "collapsed": true
   },
   "outputs": [],
   "source": [
    "final_sub = pd.concat([good_user_pred, bad_user_pred])\n",
    "\n",
    "del good_user_pred, bad_user_pred, submission\n",
    "gc.collect()"
   ]
  },
  {
   "cell_type": "code",
   "execution_count": null,
   "metadata": {
    "collapsed": true
   },
   "outputs": [],
   "source": [
    "test_orders = set(test['order_id'].values)\n",
    "predicted_orders = set(final_sub.index.values)\n",
    "none_orders = list(test_orders - predicted_orders)\n",
    "none_products = ['None'] *len(none_orders)"
   ]
  },
  {
   "cell_type": "code",
   "execution_count": null,
   "metadata": {
    "collapsed": true
   },
   "outputs": [],
   "source": [
    "none_submission = pd.DataFrame(index=none_orders, data=none_products, columns=['product_id'])\n",
    "final_sub = pd.concat([final_sub, none_submission])\n",
    "\n",
    "final_sub.index.name = 'order_id'\n",
    "final_sub.rename(columns = {'product_id' : 'products'}, inplace=True)"
   ]
  },
  {
   "cell_type": "code",
   "execution_count": null,
   "metadata": {
    "collapsed": true
   },
   "outputs": [],
   "source": [
    "final_sub.to_csv('C:/Users/AM000110/Desktop/ML/Kaggle/Instacart_Market_Basket_Analysis/models/xgb_newf_model2.csv')"
   ]
  },
  {
   "cell_type": "markdown",
   "metadata": {},
   "source": [
    "###### b) without users classification"
   ]
  },
  {
   "cell_type": "code",
   "execution_count": 62,
   "metadata": {
    "collapsed": true
   },
   "outputs": [],
   "source": [
    "submission_1 = test_1[['order_id', 'product_id', 'reordered']]\n",
    "submission_1 = submission_1[submission_1['reordered'] >= 0.21]\n",
    "submission_1['order_id'] = submission_1['order_id'].astype(int)\n",
    "submission_1['product_id'] = submission_1['product_id'].astype(int)\n",
    "submission_1 = pd.DataFrame(submission_1.groupby('order_id')['product_id'].apply(list))"
   ]
  },
  {
   "cell_type": "code",
   "execution_count": 63,
   "metadata": {
    "collapsed": true
   },
   "outputs": [],
   "source": [
    "submission = test_2[['order_id', 'product_id', 'reordered']]\n",
    "submission = submission[submission['reordered'] >= 0.23]\n",
    "submission['order_id'] = submission['order_id'].astype(int)\n",
    "submission['product_id'] = submission['product_id'].astype(int)\n",
    "submission = pd.DataFrame(submission.groupby('order_id')['product_id'].apply(list))"
   ]
  },
  {
   "cell_type": "code",
   "execution_count": 64,
   "metadata": {},
   "outputs": [],
   "source": [
    "submission = pd.concat([submission, submission_1])"
   ]
  },
  {
   "cell_type": "code",
   "execution_count": 65,
   "metadata": {},
   "outputs": [],
   "source": [
    "test_orders = set(test_1['order_id'].values) | set(test_2['order_id'].values)\n",
    "predicted_orders = set(submission.index.values)\n",
    "none_orders = list(test_orders - predicted_orders)\n",
    "none_products = ['None'] *len(none_orders)"
   ]
  },
  {
   "cell_type": "code",
   "execution_count": 66,
   "metadata": {
    "collapsed": true
   },
   "outputs": [],
   "source": [
    "none_submission = pd.DataFrame(index=none_orders, data=none_products, columns=['product_id'])\n",
    "submission = pd.concat([submission, none_submission])\n",
    "\n",
    "submission.index.name = 'order_id'\n",
    "submission.rename(columns = {'product_id' : 'products'}, inplace=True)"
   ]
  },
  {
   "cell_type": "code",
   "execution_count": 67,
   "metadata": {
    "collapsed": true
   },
   "outputs": [],
   "source": [
    "submission.to_csv('C:/Users/AM000110/Desktop/ML/Kaggle/Instacart_Market_Basket_Analysis/models/xgb_newnewf_2.csv')"
   ]
  },
  {
   "cell_type": "markdown",
   "metadata": {},
   "source": [
    "###### c) based on basket size"
   ]
  },
  {
   "cell_type": "code",
   "execution_count": null,
   "metadata": {
    "collapsed": true
   },
   "outputs": [],
   "source": [
    "reorder_size = pd.read_csv('C:/Users/AM000110/Desktop/ML/Kaggle/Instacart_Market_Basket_Analysis/reordered_basket_size_prediction/last_order_reorder_size.csv', index_col='order_id' )"
   ]
  },
  {
   "cell_type": "code",
   "execution_count": null,
   "metadata": {
    "collapsed": true
   },
   "outputs": [],
   "source": [
    "reorder_size.reset_index(inplace=True)\n",
    "reorder_size.rename(columns={'reordered' : 'reorder_size'}, inplace=True)"
   ]
  },
  {
   "cell_type": "code",
   "execution_count": null,
   "metadata": {
    "collapsed": true
   },
   "outputs": [],
   "source": [
    "submission = submission.sort_values(by=['order_id', 'reordered'])"
   ]
  },
  {
   "cell_type": "code",
   "execution_count": null,
   "metadata": {
    "collapsed": true
   },
   "outputs": [],
   "source": [
    "submission = pd.merge(submission, reorder_size, on='order_id')"
   ]
  },
  {
   "cell_type": "code",
   "execution_count": null,
   "metadata": {
    "collapsed": true
   },
   "outputs": [],
   "source": [
    "submission = pd.DataFrame(submission.groupby(['order_id', 'reorder_size'], as_index=False)['product_id'].apply(list))"
   ]
  },
  {
   "cell_type": "code",
   "execution_count": null,
   "metadata": {
    "collapsed": true
   },
   "outputs": [],
   "source": [
    "valid.dtypes"
   ]
  },
  {
   "cell_type": "code",
   "execution_count": null,
   "metadata": {
    "collapsed": true
   },
   "outputs": [],
   "source": [
    "submission.reset_index(inplace=True)\n",
    "submission.columns = ['order_id', 'reorder_size', 'product_list']"
   ]
  },
  {
   "cell_type": "code",
   "execution_count": null,
   "metadata": {
    "collapsed": true
   },
   "outputs": [],
   "source": [
    "sub = []\n",
    "for order in np.unique(submission['order_id'].values):\n",
    "    order_df = submission[submission['order_id'] == order]\n",
    "    size = order_df.reorder_size.values[0]\n",
    "    if size == 0:\n",
    "        products = ['None']\n",
    "    else:\n",
    "        products = order_df['product_list'].values[0][-size:]\n",
    "    sub.append((order, products))"
   ]
  },
  {
   "cell_type": "code",
   "execution_count": null,
   "metadata": {
    "collapsed": true
   },
   "outputs": [],
   "source": [
    "test_data = test.drop(['user_id', 'product_id', 'order_id', 'user_prediction'], axis=1)\n",
    "test_data = xgb.DMatrix(test_data)\n",
    "prediction = model.predict(test_data)"
   ]
  },
  {
   "cell_type": "code",
   "execution_count": null,
   "metadata": {
    "collapsed": true
   },
   "outputs": [],
   "source": [
    "# test['reordered'] = prediction\n",
    "submission = test[['order_id', 'product_id', 'reordered']]\n",
    "submission[['order_id', 'product_id']] = submission[['order_id', 'product_id']].astype(int)"
   ]
  },
  {
   "cell_type": "code",
   "execution_count": null,
   "metadata": {
    "collapsed": true
   },
   "outputs": [],
   "source": [
    "sub = pd.DataFrame(sub, columns=['order_id', 'products'])\n",
    "sub.set_index('order_id',inplace=True)"
   ]
  },
  {
   "cell_type": "code",
   "execution_count": null,
   "metadata": {
    "collapsed": true
   },
   "outputs": [],
   "source": [
    "sub.to_csv('C:/Users/AM000110/Desktop/ML/Kaggle/Instacart_Market_Basket_Analysis/models/xgb_lo_rs.csv')"
   ]
  }
 ],
 "metadata": {
  "kernelspec": {
   "display_name": "Python 3",
   "language": "python",
   "name": "python3"
  },
  "language_info": {
   "codemirror_mode": {
    "name": "ipython",
    "version": 3
   },
   "file_extension": ".py",
   "mimetype": "text/x-python",
   "name": "python",
   "nbconvert_exporter": "python",
   "pygments_lexer": "ipython3",
   "version": "3.6.1"
  }
 },
 "nbformat": 4,
 "nbformat_minor": 2
}
