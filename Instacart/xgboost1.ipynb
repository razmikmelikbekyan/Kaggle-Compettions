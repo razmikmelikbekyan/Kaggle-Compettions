{
 "cells": [
  {
   "cell_type": "code",
   "execution_count": 1,
   "metadata": {
    "collapsed": true
   },
   "outputs": [],
   "source": [
    "import pandas as pd\n",
    "import numpy as np\n",
    "import gc\n",
    "import warnings\n",
    "import matplotlib.pyplot as plt\n",
    "\n",
    "%matplotlib inline\n",
    "warnings.filterwarnings(\"ignore\")"
   ]
  },
  {
   "cell_type": "code",
   "execution_count": 2,
   "metadata": {
    "collapsed": true
   },
   "outputs": [],
   "source": [
    "# Load Data ---------------------------------------------------------------\n",
    "path = 'C:/Users/AM000110/Desktop/ML/Kaggle/Instacart_Market_Basket_Analysis/input_data/'\n",
    "\n",
    "aisles = pd.read_csv(path + 'aisles.csv')\n",
    "departments = pd.read_csv(path + 'departments.csv')\n",
    "orderp = pd.read_csv(path + 'order_products__prior.csv')\n",
    "ordert = pd.read_csv(path + 'order_products__train.csv')\n",
    "orders = pd.read_csv(path + 'orders.csv')\n",
    "products = pd.read_csv(path + 'products.csv')"
   ]
  },
  {
   "cell_type": "markdown",
   "metadata": {},
   "source": [
    "###### Joining to product aisle and department names"
   ]
  },
  {
   "cell_type": "code",
   "execution_count": 3,
   "metadata": {
    "collapsed": true
   },
   "outputs": [],
   "source": [
    "products = pd.merge(products, aisles, on='aisle_id')\n",
    "products = pd.merge(products, departments, on='department_id')\n",
    "products = products[['product_id', 'aisle_id', 'department_id']]\n",
    "del aisles, departments"
   ]
  },
  {
   "cell_type": "markdown",
   "metadata": {},
   "source": [
    "###### Adding user_ids to order_train"
   ]
  },
  {
   "cell_type": "code",
   "execution_count": 4,
   "metadata": {
    "collapsed": true
   },
   "outputs": [],
   "source": [
    "orders_users = orders[['order_id', 'user_id']]\n",
    "orders_users = orders_users[orders_users['order_id'].isin(ordert.order_id.values)]\n",
    "ordert = pd.merge(ordert, orders_users, on='order_id')\n",
    "del orders_users"
   ]
  },
  {
   "cell_type": "code",
   "execution_count": 5,
   "metadata": {},
   "outputs": [
    {
     "data": {
      "text/plain": [
       "131209"
      ]
     },
     "execution_count": 5,
     "metadata": {},
     "output_type": "execute_result"
    }
   ],
   "source": [
    "len(np.unique(ordert.user_id.values))"
   ]
  },
  {
   "cell_type": "markdown",
   "metadata": {},
   "source": [
    "###### Joining orders data with prior data"
   ]
  },
  {
   "cell_type": "code",
   "execution_count": 6,
   "metadata": {
    "collapsed": true
   },
   "outputs": [],
   "source": [
    "orders_products = pd.merge(orders, orderp, on='order_id')\n",
    "orders_products = pd.merge(orders_products, products, on='product_id')"
   ]
  },
  {
   "cell_type": "code",
   "execution_count": 7,
   "metadata": {
    "scrolled": true
   },
   "outputs": [
    {
     "data": {
      "text/plain": [
       "110"
      ]
     },
     "execution_count": 7,
     "metadata": {},
     "output_type": "execute_result"
    }
   ],
   "source": [
    "del orderp, products\n",
    "gc.collect()"
   ]
  },
  {
   "cell_type": "markdown",
   "metadata": {},
   "source": [
    "###### Product general features"
   ]
  },
  {
   "cell_type": "markdown",
   "metadata": {},
   "source": [
    "for each product:\n",
    "* total number of orders (prod_orders)\n",
    "* sum of reorders (prod_reorders)\n",
    "* number of unique users who buy it (prod_first_orders)\n",
    "* number of unque users who buy it more than 1 time (prod_second_orders)\n",
    "* product reorder probability = prod_second_orders / prod_first_orders\n",
    "* prod_reorder_times = 1 + prod_reorders / prod_first_orders\n",
    "* prod_reorder_ratio = prod_reorders / prod_orders\n",
    "* prod_average_order_hour_of_day (from me)\n",
    "* prod_average_order_dow (from me)\n",
    "* prod_frequency = prod_orders / total number of orders (from me)\n",
    "* prod_reorder_frequency = prod_reorders / sum of total reorders (from me)\n",
    "* prod_most_frequent_reoder_day (from me)\n",
    "* product second reorder probability (from me)\n",
    "* product aisle market share = aisle_orders / total_orders (from me)\n",
    "* product deparment market share = department orders / total orders (from me)\n"
   ]
  },
  {
   "cell_type": "code",
   "execution_count": 8,
   "metadata": {
    "collapsed": true
   },
   "outputs": [],
   "source": [
    "prd = pd.DataFrame()"
   ]
  },
  {
   "cell_type": "code",
   "execution_count": 9,
   "metadata": {
    "collapsed": true
   },
   "outputs": [],
   "source": [
    "prd['prod_orders'] = orders_products.groupby('product_id')['order_id'].size()\n",
    "prd['prod_reorders'] = orders_products.groupby('product_id')['reordered'].sum()\n",
    "prd['prod_first_orders'] = orders_products.groupby('product_id')['user_id'].nunique()"
   ]
  },
  {
   "cell_type": "code",
   "execution_count": 10,
   "metadata": {},
   "outputs": [
    {
     "data": {
      "text/plain": [
       "70"
      ]
     },
     "execution_count": 10,
     "metadata": {},
     "output_type": "execute_result"
    }
   ],
   "source": [
    "temp = pd.DataFrame(orders_products.groupby('product_id')['user_id'].value_counts())\n",
    "temp.rename(columns={'user_id' : 'counts'}, inplace=True)\n",
    "temp.reset_index(inplace=True)\n",
    "temp = temp[temp['counts'] > 1]\n",
    "prd['prod_second_orders'] = temp.groupby('product_id')['counts'].size()\n",
    "del temp\n",
    "gc.collect()"
   ]
  },
  {
   "cell_type": "code",
   "execution_count": 11,
   "metadata": {},
   "outputs": [
    {
     "data": {
      "text/plain": [
       "35"
      ]
     },
     "execution_count": 11,
     "metadata": {},
     "output_type": "execute_result"
    }
   ],
   "source": [
    "temp = pd.DataFrame(orders_products.groupby('product_id')['user_id'].value_counts())\n",
    "temp.rename(columns={'user_id' : 'counts'}, inplace=True)\n",
    "temp.reset_index(inplace=True)\n",
    "temp = temp[temp['counts'] > 2]\n",
    "prd['prod_third_orders'] = temp.groupby('product_id')['counts'].size()\n",
    "del temp\n",
    "gc.collect()"
   ]
  },
  {
   "cell_type": "code",
   "execution_count": 12,
   "metadata": {
    "collapsed": true
   },
   "outputs": [],
   "source": [
    "prd['prod_reorder_probability'] = prd.prod_second_orders / prd.prod_first_orders\n",
    "prd['prod_reorder_times'] = 1 + prd.prod_reorders / prd.prod_first_orders\n",
    "prd['prod_reorder_ratio'] = prd.prod_reorders / prd.prod_orders\n",
    "prd['prod_second_reorder_probability'] = prd.prod_third_orders / prd.prod_second_orders"
   ]
  },
  {
   "cell_type": "code",
   "execution_count": 13,
   "metadata": {
    "collapsed": true
   },
   "outputs": [],
   "source": [
    "prd['prod_average_order_hour_of_day'] = orders_products.groupby('product_id')['order_hour_of_day'].mean()\n",
    "prd['prod_average_order_dow'] = orders_products.groupby('product_id')['order_dow'].mean()\n",
    "prd['prod_frequency'] = prd.prod_orders / len(np.unique(orders_products.order_id.values))\n",
    "prd['prod_reorder_frequency'] = prd.prod_reorders / orders_products.reordered.sum()"
   ]
  },
  {
   "cell_type": "code",
   "execution_count": 14,
   "metadata": {},
   "outputs": [
    {
     "data": {
      "text/plain": [
       "76"
      ]
     },
     "execution_count": 14,
     "metadata": {},
     "output_type": "execute_result"
    }
   ],
   "source": [
    "temp = orders_products[orders_products['reordered'] != 0]\n",
    "temp = pd.DataFrame(temp.groupby('product_id')['order_dow'].value_counts())\n",
    "temp.rename(columns={'order_dow' : 'order_dow_counts'}, inplace=True)\n",
    "temp.reset_index(inplace=True)\n",
    "temp['max'] = temp.groupby(['product_id'])['order_dow_counts'].transform(max)\n",
    "temp['dif'] = temp['max'] - temp['order_dow_counts']\n",
    "temp = temp[temp['dif'] == 0]\n",
    "temp = pd.DataFrame(temp.groupby('product_id')['order_dow'].min())\n",
    "temp.rename(columns={'order_dow' : 'prod_most_frequent_reroder_order_dow'}, inplace=True)\n",
    "\n",
    "prd = prd.join(temp)\n",
    "\n",
    "del temp\n",
    "gc.collect()"
   ]
  },
  {
   "cell_type": "code",
   "execution_count": 15,
   "metadata": {
    "collapsed": true
   },
   "outputs": [],
   "source": [
    "prd['aisle_id'] = orders_products.groupby('product_id')['aisle_id'].min().astype(int)\n",
    "prd['department_id'] = orders_products.groupby('product_id')['department_id'].min().astype(int)"
   ]
  },
  {
   "cell_type": "code",
   "execution_count": 16,
   "metadata": {},
   "outputs": [
    {
     "data": {
      "text/plain": [
       "42"
      ]
     },
     "execution_count": 16,
     "metadata": {},
     "output_type": "execute_result"
    }
   ],
   "source": [
    "temp = pd.DataFrame()\n",
    "temp['aisle_orders'] = orders_products.groupby('aisle_id', as_index=False)['order_id'].size()\n",
    "temp['prod_aisle_market_share'] = temp.aisle_orders / len(np.unique(orders_products.order_id.values))\n",
    "temp.reset_index(inplace = True)\n",
    "temp_temp = pd.DataFrame(orders_products.groupby('product_id')['aisle_id'].min())\n",
    "temp_temp.reset_index(inplace=True)\n",
    "temp_temp = temp_temp.merge(temp, on='aisle_id')\n",
    "\n",
    "prd['prod_aisle_market_share']  = temp_temp.groupby('product_id')['prod_aisle_market_share'].min()\n",
    "prd['aisle_orders']  = temp_temp.groupby('product_id')['aisle_orders'].min()\n",
    "\n",
    "del temp, temp_temp\n",
    "gc.collect()"
   ]
  },
  {
   "cell_type": "code",
   "execution_count": 17,
   "metadata": {},
   "outputs": [
    {
     "data": {
      "text/plain": [
       "84"
      ]
     },
     "execution_count": 17,
     "metadata": {},
     "output_type": "execute_result"
    }
   ],
   "source": [
    "temp = pd.DataFrame()\n",
    "temp['department_orders'] = orders_products.groupby('department_id', as_index=False)['order_id'].size()\n",
    "temp['prod_department_market_share'] = temp.department_orders / len(np.unique(orders_products.order_id.values))\n",
    "temp.reset_index(inplace = True)\n",
    "temp_temp = pd.DataFrame(orders_products.groupby('product_id')['department_id'].min())\n",
    "temp_temp.reset_index(inplace=True)\n",
    "temp_temp = temp_temp.merge(temp, on='department_id')\n",
    "\n",
    "prd['prod_department_market_share']  = temp_temp.groupby('product_id')['prod_department_market_share'].min()\n",
    "prd['department_orders']  = temp_temp.groupby('product_id')['department_orders'].min()\n",
    "\n",
    "\n",
    "del temp, temp_temp\n",
    "gc.collect()"
   ]
  },
  {
   "cell_type": "code",
   "execution_count": 18,
   "metadata": {
    "collapsed": true
   },
   "outputs": [],
   "source": [
    "prd['prod_market_share_in_aisle'] = prd.prod_orders / prd.aisle_orders\n",
    "prd['prod_market_share_in_department'] = prd.prod_orders / prd.department_orders"
   ]
  },
  {
   "cell_type": "code",
   "execution_count": 19,
   "metadata": {},
   "outputs": [
    {
     "data": {
      "text/plain": [
       "21"
      ]
     },
     "execution_count": 19,
     "metadata": {},
     "output_type": "execute_result"
    }
   ],
   "source": [
    "temp = pd.DataFrame(orders_products.groupby(['product_id', 'user_id'], as_index=False)['reordered'].sum())\n",
    "temp = pd.DataFrame(temp.groupby(['product_id'], as_index=False)['reordered'].apply(list))\n",
    "temp.columns = ['reordered']\n",
    "\n",
    "std = []\n",
    "for row in temp.iterrows():\n",
    "    std.append((row[0], np.std(row[1][0])))\n",
    "std = pd.DataFrame(std,columns=['product_id', 'prod_reorder_std'])\n",
    "prd['prod_reorder_std'] = std.groupby('product_id')['prod_reorder_std'].min()\n",
    "\n",
    "del temp, std\n",
    "gc.collect()"
   ]
  },
  {
   "cell_type": "code",
   "execution_count": 20,
   "metadata": {
    "collapsed": true
   },
   "outputs": [],
   "source": []
  },
  {
   "cell_type": "code",
   "execution_count": 21,
   "metadata": {},
   "outputs": [
    {
     "data": {
      "text/plain": [
       "74"
      ]
     },
     "execution_count": 21,
     "metadata": {},
     "output_type": "execute_result"
    }
   ],
   "source": []
  },
  {
   "cell_type": "code",
   "execution_count": 22,
   "metadata": {
    "collapsed": true
   },
   "outputs": [],
   "source": [
    "prd['prod_period'] = orders_products.groupby('product_id')['days_since_prior_order'].sum()"
   ]
  },
  {
   "cell_type": "code",
   "execution_count": 23,
   "metadata": {
    "collapsed": true
   },
   "outputs": [],
   "source": [
    "prd.drop(['prod_reorders', 'prod_first_orders', 'prod_second_orders', 'aisle_orders', 'department_orders'], axis=1, inplace=True)"
   ]
  },
  {
   "cell_type": "markdown",
   "metadata": {},
   "source": [
    "###### User general features"
   ]
  },
  {
   "cell_type": "markdown",
   "metadata": {},
   "source": [
    "for each user:\n",
    "* total number of orders (user_orders)\n",
    "* sum of days_since_prior_order (user_period)\n",
    "* mean of days_since_prior_order (user_mean_days_since_prior)\n",
    "* total number of ordered products (user_total_products)\n",
    "* user_reorder_ratio = sum(user_reordered_products) / (total number of products without first order)\n",
    "* total number of ordered unique products (user_distinct_products)\n",
    "* user max reorder rate (from me)\n",
    "* user mean reorder rate (from me)\n",
    "* user average reorder (from me)\n",
    "* user average hour of order (from me)\n",
    "* user average order dow (from me)\n"
   ]
  },
  {
   "cell_type": "code",
   "execution_count": 24,
   "metadata": {
    "collapsed": true
   },
   "outputs": [],
   "source": [
    "users = pd.DataFrame()"
   ]
  },
  {
   "cell_type": "code",
   "execution_count": 25,
   "metadata": {
    "collapsed": true
   },
   "outputs": [],
   "source": [
    "temp = orders[orders['eval_set'] == 'prior']\n",
    "users['user_orders'] = temp.groupby('user_id')['order_number'].max()\n",
    "users['user_period'] = temp.groupby('user_id')['days_since_prior_order'].sum()\n",
    "users['user_mean_days_since_prior'] = temp.groupby('user_id')['days_since_prior_order'].mean()\n",
    "del temp"
   ]
  },
  {
   "cell_type": "code",
   "execution_count": 26,
   "metadata": {
    "collapsed": true
   },
   "outputs": [],
   "source": [
    "temp = pd.DataFrame(orders_products.groupby(['user_id', 'order_id'])['reordered'].sum())\n",
    "temp.reset_index(inplace=True)"
   ]
  },
  {
   "cell_type": "code",
   "execution_count": 27,
   "metadata": {
    "collapsed": true
   },
   "outputs": [],
   "source": [
    "temp_products = pd.DataFrame(orders_products.groupby('order_id')['product_id'].apply(list))\n",
    "temp_products.reset_index(inplace=True)\n",
    "temp_products.columns = ['order_id', 'products_list']\n",
    "temp_products['order_size'] = temp_products['products_list'].str.len() # defining order size\n",
    "temp_products.drop(['products_list'], axis=1, inplace=True)\n",
    "temp = pd.merge(temp, temp_products, on = 'order_id') \n",
    "temp['reorder_ratio'] = temp.reordered / temp.order_size"
   ]
  },
  {
   "cell_type": "code",
   "execution_count": 28,
   "metadata": {
    "collapsed": true
   },
   "outputs": [],
   "source": [
    "users['user_max_reorder_rate'] = temp.groupby('user_id')['reorder_ratio'].max()\n",
    "users['user_mean_reorder_rate'] = temp.groupby('user_id')['reorder_ratio'].mean()\n",
    "users['user_average_reorder'] = temp.groupby('user_id')['reordered'].mean()\n",
    "users['user_average_order_hour_of_day'] = orders_products.groupby('user_id')['order_hour_of_day'].mean()\n",
    "users['user_average_order_dow'] = orders_products.groupby('user_id')['order_dow'].mean()"
   ]
  },
  {
   "cell_type": "code",
   "execution_count": 29,
   "metadata": {},
   "outputs": [
    {
     "data": {
      "text/plain": [
       "91"
      ]
     },
     "execution_count": 29,
     "metadata": {},
     "output_type": "execute_result"
    }
   ],
   "source": [
    "del temp, temp_products\n",
    "gc.collect()"
   ]
  },
  {
   "cell_type": "code",
   "execution_count": 30,
   "metadata": {
    "collapsed": true
   },
   "outputs": [],
   "source": [
    "us = pd.DataFrame()"
   ]
  },
  {
   "cell_type": "code",
   "execution_count": 31,
   "metadata": {
    "collapsed": true
   },
   "outputs": [],
   "source": [
    "us['user_total_products'] = orders_products.groupby('user_id')['product_id'].size()\n",
    "us['user_distinct_products'] = orders_products.groupby('user_id')['product_id'].nunique()"
   ]
  },
  {
   "cell_type": "code",
   "execution_count": 32,
   "metadata": {
    "collapsed": true
   },
   "outputs": [],
   "source": [
    "temp = orders_products[orders_products['order_number'] > 1]\n",
    "us['user_reorder_ratio'] = (orders_products.groupby('user_id')['reordered'].sum()\n",
    "                           / temp.groupby('user_id')['product_id'].size())"
   ]
  },
  {
   "cell_type": "code",
   "execution_count": 33,
   "metadata": {},
   "outputs": [
    {
     "data": {
      "text/plain": [
       "35"
      ]
     },
     "execution_count": 33,
     "metadata": {},
     "output_type": "execute_result"
    }
   ],
   "source": [
    "del temp\n",
    "gc.collect()"
   ]
  },
  {
   "cell_type": "code",
   "execution_count": 34,
   "metadata": {
    "collapsed": true
   },
   "outputs": [],
   "source": [
    "users = users.join(us)\n",
    "users['user_average_basket'] = users.user_total_products / users.user_orders"
   ]
  },
  {
   "cell_type": "code",
   "execution_count": 35,
   "metadata": {},
   "outputs": [
    {
     "data": {
      "text/plain": [
       "28"
      ]
     },
     "execution_count": 35,
     "metadata": {},
     "output_type": "execute_result"
    }
   ],
   "source": [
    "del us\n",
    "gc.collect()"
   ]
  },
  {
   "cell_type": "code",
   "execution_count": 36,
   "metadata": {
    "collapsed": true
   },
   "outputs": [],
   "source": [
    "users['user_distinct_aisles'] = orders_products.groupby('user_id')['aisle_id'].nunique()\n",
    "users['user_distinct_departments'] = orders_products.groupby('user_id')['department_id'].nunique()"
   ]
  },
  {
   "cell_type": "code",
   "execution_count": 37,
   "metadata": {
    "collapsed": true
   },
   "outputs": [],
   "source": [
    "# f1_score = pd.read_csv('C:/Users/AM000110/Desktop/ML/Kaggle/Instacart_Market_Basket_Analysis/reordered_basket_size_prediction/f1_score.csv')"
   ]
  },
  {
   "cell_type": "code",
   "execution_count": 38,
   "metadata": {
    "collapsed": true
   },
   "outputs": [],
   "source": [
    "# users['user_mean_f1_score'] = f1_score.groupby('user_id')['average_f1_score'].mean()\n",
    "# del f1_score\n",
    "# gc.collect()"
   ]
  },
  {
   "cell_type": "markdown",
   "metadata": {},
   "source": [
    "###### Joining test and train orders data"
   ]
  },
  {
   "cell_type": "code",
   "execution_count": 39,
   "metadata": {
    "collapsed": true
   },
   "outputs": [],
   "source": [
    "temp = orders[orders['eval_set'] != 'prior'][['user_id', 'order_id', 'eval_set', 'days_since_prior_order', 'order_dow', 'order_hour_of_day']]  \n",
    "temp.rename(columns={'days_since_prior_order' : 'time_since_last_order'}, inplace=True)\n",
    "temp.set_index('user_id', inplace=True)"
   ]
  },
  {
   "cell_type": "code",
   "execution_count": 40,
   "metadata": {
    "collapsed": true
   },
   "outputs": [],
   "source": [
    "users = users.join(temp)"
   ]
  },
  {
   "cell_type": "code",
   "execution_count": 41,
   "metadata": {},
   "outputs": [
    {
     "data": {
      "text/plain": [
       "28"
      ]
     },
     "execution_count": 41,
     "metadata": {},
     "output_type": "execute_result"
    }
   ],
   "source": [
    "del temp\n",
    "gc.collect()"
   ]
  },
  {
   "cell_type": "markdown",
   "metadata": {},
   "source": [
    "###### Database for training"
   ]
  },
  {
   "cell_type": "markdown",
   "metadata": {},
   "source": [
    "for each user + product pair:\n",
    "* total number of orders by user ordered the product (up_orders)\n",
    "* first order number of the product for user (up_first_order)\n",
    "* last order number of the product for user (up_last_order)\n",
    "* mean add_to_cart_order of product for user (up_average_cart_position)\n",
    "* up_order_rate = up_orders / user_orders\n",
    "* up_orders_since_last_order = user_orders - up_last_order\n",
    "* up_order_rate_since_first_order = up_orders/(user_orders - up_first_order + 1)\n",
    "* up_sum_cart_position (from me)\n",
    "* up_reoreder_frequency (from me)\n",
    "* up_porduct_score (form me)"
   ]
  },
  {
   "cell_type": "code",
   "execution_count": null,
   "metadata": {
    "collapsed": true
   },
   "outputs": [],
   "source": [
    "data = pd.DataFrame()"
   ]
  },
  {
   "cell_type": "code",
   "execution_count": null,
   "metadata": {
    "collapsed": true
   },
   "outputs": [],
   "source": [
    "data['up_orders'] = orders_products.groupby(['user_id', 'product_id'])['order_number'].size()\n",
    "data['up_first_order'] = orders_products.groupby(['user_id', 'product_id'])['order_number'].min()\n",
    "data['up_last_order'] = orders_products.groupby(['user_id', 'product_id'])['order_number'].max()\n",
    "data['up_average_cart_position'] = orders_products.groupby(['user_id', 'product_id'])['add_to_cart_order'].mean()"
   ]
  },
  {
   "cell_type": "code",
   "execution_count": null,
   "metadata": {
    "collapsed": true
   },
   "outputs": [],
   "source": [
    "data['up_sum_cart_position'] = orders_products.groupby(['user_id', 'product_id'])['add_to_cart_order'].sum()\n",
    "data['up_product_period'] = orders_products.groupby(['user_id', 'product_id'])['days_since_prior_order'].sum()\n",
    "# data['up_product_sum_order_number'] = orders_products.groupby(['user_id', 'product_id'])['order_number'].sum()"
   ]
  },
  {
   "cell_type": "code",
   "execution_count": null,
   "metadata": {
    "collapsed": true
   },
   "outputs": [],
   "source": [
    "temp = pd.DataFrame(orders_products.groupby(['user_id', 'product_id'])['reordered'].sum())\n",
    "temp['total_reordered'] = temp.groupby('user_id')['reordered'].transform(sum)\n",
    "temp['up_reoreder_frequency'] = temp.reordered / temp.total_reordered\n",
    "temp = temp[['up_reoreder_frequency']]\n",
    "data = data.join(temp)\n",
    "del temp\n",
    "gc.collect()"
   ]
  },
  {
   "cell_type": "code",
   "execution_count": null,
   "metadata": {
    "collapsed": true
   },
   "outputs": [],
   "source": [
    "temp = orders_products[['user_id', 'product_id', 'order_number', 'reordered', 'days_since_prior_order', 'add_to_cart_order' ]]\n",
    "temp.fillna(value=1, inplace=True)\n",
    "temp['num_orders'] = temp.groupby(['user_id'])['order_number'].transform(max)\n",
    "temp['days_since_prior_order'] = np.power(temp['days_since_prior_order'], 1/6)\n",
    "temp['add_to_cart_order'] = np.power(temp['add_to_cart_order'], 1/6)\n",
    "temp['up_product_score'] = (temp['reordered'] * temp['order_number'] * temp['days_since_prior_order']\n",
    "                             / (temp['add_to_cart_order'] * temp['num_orders']))"
   ]
  },
  {
   "cell_type": "code",
   "execution_count": null,
   "metadata": {
    "collapsed": true
   },
   "outputs": [],
   "source": [
    "data['up_product_score'] = temp.groupby(['user_id', 'product_id'])['up_product_score'].sum()\n",
    "del temp\n",
    "gc.collect()"
   ]
  },
  {
   "cell_type": "code",
   "execution_count": null,
   "metadata": {
    "collapsed": true
   },
   "outputs": [],
   "source": [
    "temp = pd.DataFrame(orders_products.groupby(['user_id'])['product_id'].size())\n",
    "temp_temp = pd.DataFrame(orders_products.groupby(['user_id', 'product_id'])['order_id'].size())"
   ]
  },
  {
   "cell_type": "code",
   "execution_count": null,
   "metadata": {
    "collapsed": true
   },
   "outputs": [],
   "source": [
    "temp.rename(columns={'product_id' : 'order_size'}, inplace=True)\n",
    "temp_temp.reset_index(inplace=True)\n",
    "temp.reset_index(inplace=True)\n",
    "temp_temp = pd.merge(temp_temp, temp, on = 'user_id')\n",
    "temp_temp['up_product_user_share'] = temp_temp.order_id / temp_temp.order_size\n",
    "data['up_product_user_share'] = temp_temp.groupby(['user_id', 'product_id'])['up_product_user_share'].min()"
   ]
  },
  {
   "cell_type": "code",
   "execution_count": null,
   "metadata": {
    "collapsed": true
   },
   "outputs": [],
   "source": [
    "del temp, temp_temp\n",
    "gc.collect()"
   ]
  },
  {
   "cell_type": "code",
   "execution_count": null,
   "metadata": {
    "collapsed": true
   },
   "outputs": [],
   "source": [
    "del orders_products, orders\n",
    "gc.collect()"
   ]
  },
  {
   "cell_type": "markdown",
   "metadata": {},
   "source": [
    "###### Joining data with prd and users"
   ]
  },
  {
   "cell_type": "code",
   "execution_count": null,
   "metadata": {
    "collapsed": true
   },
   "outputs": [],
   "source": [
    "data.reset_index(inplace=True)\n",
    "prd.reset_index(inplace=True)\n",
    "users.reset_index(inplace=True)"
   ]
  },
  {
   "cell_type": "code",
   "execution_count": null,
   "metadata": {
    "collapsed": true
   },
   "outputs": [],
   "source": [
    "data = pd.merge(data, prd, on='product_id')\n",
    "data = pd.merge(data, users, on='user_id')"
   ]
  },
  {
   "cell_type": "code",
   "execution_count": null,
   "metadata": {
    "collapsed": true
   },
   "outputs": [],
   "source": [
    "data['up_order_rate'] = data.up_orders / data.user_orders\n",
    "data['up_orders_since_last_order'] = data.user_orders - data.up_last_order\n",
    "data['up_order_rate_since_first_order'] = data.up_orders / (data.user_orders - data.up_first_order + 1)"
   ]
  },
  {
   "cell_type": "code",
   "execution_count": null,
   "metadata": {
    "collapsed": true
   },
   "outputs": [],
   "source": [
    "data['up_days_since_last_order'] = data.user_period - data.up_product_period"
   ]
  },
  {
   "cell_type": "code",
   "execution_count": null,
   "metadata": {
    "collapsed": true
   },
   "outputs": [],
   "source": [
    "# data['up_product_aveagre_sum_order_numbers'] = data.up_product_sum_order_number / (data.user_orders * data.up_orders)"
   ]
  },
  {
   "cell_type": "code",
   "execution_count": null,
   "metadata": {
    "collapsed": true
   },
   "outputs": [],
   "source": [
    "temp = ordert[['user_id', 'product_id', 'reordered']]\n",
    "data = pd.merge(data, temp, how='left', on=['user_id', 'product_id'])"
   ]
  },
  {
   "cell_type": "code",
   "execution_count": null,
   "metadata": {
    "collapsed": true
   },
   "outputs": [],
   "source": [
    "del ordert, prd, users, temp\n",
    "gc.collect()"
   ]
  },
  {
   "cell_type": "markdown",
   "metadata": {},
   "source": [
    "###### Train and Test Datasets"
   ]
  },
  {
   "cell_type": "code",
   "execution_count": null,
   "metadata": {
    "collapsed": true
   },
   "outputs": [],
   "source": [
    "train = data[data['eval_set'] == 'train']\n",
    "train = train.drop(['eval_set', 'user_id', 'product_id', 'order_id'], axis=1)\n",
    "train = train.fillna(value=0)"
   ]
  },
  {
   "cell_type": "code",
   "execution_count": null,
   "metadata": {
    "collapsed": true
   },
   "outputs": [],
   "source": [
    "test = data[data['eval_set'] == 'test']\n",
    "test = test.drop(['eval_set', 'user_id', 'reordered'], axis=1)"
   ]
  },
  {
   "cell_type": "code",
   "execution_count": null,
   "metadata": {
    "collapsed": true
   },
   "outputs": [],
   "source": [
    "del data\n",
    "gc.collect()"
   ]
  },
  {
   "cell_type": "markdown",
   "metadata": {},
   "source": [
    "## Model"
   ]
  },
  {
   "cell_type": "code",
   "execution_count": 63,
   "metadata": {
    "collapsed": true
   },
   "outputs": [],
   "source": [
    "import os\n",
    "\n",
    "mingw_path = 'C:\\\\Program Files\\\\mingw-w64\\\\x86_64-7.1.0-posix-seh-rt_v5-rev0\\\\mingw64\\\\bin'\n",
    "os.environ['PATH'] = mingw_path + ';' + os.environ['PATH']\n",
    "\n",
    "import xgboost as xgb\n",
    "from xgboost import XGBRegressor\n",
    "import itertools"
   ]
  },
  {
   "cell_type": "code",
   "execution_count": 64,
   "metadata": {
    "collapsed": true
   },
   "outputs": [],
   "source": [
    "params = {\n",
    "  'objective'           : 'reg:logistic',\n",
    "  'eval_metric\"'        : 'logloss',\n",
    "  'eta'                 : 0.1,\n",
    "  'max_depth'           : 6,\n",
    "  'min_child_weight'    : 10,\n",
    "  'gamma'               : 0.70,\n",
    "  'subsample'           : 0.77,\n",
    "  'colsample_bytree'    : 0.95,\n",
    "  'alpha'               : 2e-05,\n",
    "  'lambda'              : 10\n",
    "}"
   ]
  },
  {
   "cell_type": "code",
   "execution_count": 65,
   "metadata": {
    "collapsed": true
   },
   "outputs": [],
   "source": [
    "train_index = train.index.values\n",
    "\n",
    "subtrain_size = 0.1\n",
    "n = int(len(train_index)* subtrain_size)\n",
    "np.random.shuffle(train_index)\n",
    "\n",
    "idx = train_index[:n]"
   ]
  },
  {
   "cell_type": "code",
   "execution_count": 66,
   "metadata": {
    "collapsed": true
   },
   "outputs": [],
   "source": [
    "subtrain = train.loc[idx] \n",
    "subtrain_labels = subtrain['reordered']\n",
    "subtrain = subtrain.drop('reordered', axis=1)"
   ]
  },
  {
   "cell_type": "code",
   "execution_count": 67,
   "metadata": {
    "collapsed": true
   },
   "outputs": [],
   "source": [
    "X = xgb.DMatrix(data = subtrain, label = subtrain_labels)"
   ]
  },
  {
   "cell_type": "code",
   "execution_count": 68,
   "metadata": {
    "collapsed": true
   },
   "outputs": [],
   "source": [
    "model = xgb.train(params = params, dtrain = X, num_boost_round=90)"
   ]
  },
  {
   "cell_type": "code",
   "execution_count": 69,
   "metadata": {
    "collapsed": true
   },
   "outputs": [],
   "source": [
    "test_data = test.drop(['product_id', 'order_id'], axis=1)\n",
    "test_data = xgb.DMatrix(test_data)\n",
    "prediction = model.predict(test_data)"
   ]
  },
  {
   "cell_type": "code",
   "execution_count": 70,
   "metadata": {
    "collapsed": true
   },
   "outputs": [],
   "source": [
    "test['reordered'] = prediction\n",
    "submission = test[['order_id', 'product_id', 'reordered']]"
   ]
  },
  {
   "cell_type": "code",
   "execution_count": 71,
   "metadata": {
    "collapsed": true
   },
   "outputs": [],
   "source": [
    "submission = submission[submission['reordered'] >= 0.21]\n",
    "submission = pd.DataFrame(submission.groupby('order_id')['product_id'].apply(list))"
   ]
  },
  {
   "cell_type": "code",
   "execution_count": 72,
   "metadata": {
    "collapsed": true
   },
   "outputs": [],
   "source": [
    "test_orders = set(test['order_id'].values)\n",
    "predicted_orders = set(submission.index.values)\n",
    "none_orders = list(test_orders - predicted_orders)\n",
    "none_products = ['None'] *len(none_orders)"
   ]
  },
  {
   "cell_type": "code",
   "execution_count": 75,
   "metadata": {
    "collapsed": true
   },
   "outputs": [],
   "source": [
    "none_submission = pd.DataFrame(index=none_orders, data=none_products, columns=['product_id'])\n",
    "submission = pd.concat([submission, none_submission])"
   ]
  },
  {
   "cell_type": "code",
   "execution_count": 77,
   "metadata": {
    "collapsed": true
   },
   "outputs": [],
   "source": [
    "submission.index.name = 'order_id'\n",
    "submission.rename(columns = {'product_id' : 'products'}, inplace = True)"
   ]
  },
  {
   "cell_type": "code",
   "execution_count": 78,
   "metadata": {
    "collapsed": true
   },
   "outputs": [],
   "source": [
    "submission.to_csv('C:/Users/AM000110/Desktop/ML/Kaggle/Instacart_Market_Basket_Analysis/models/xgb_newf_1_copy.csv')"
   ]
  },
  {
   "cell_type": "code",
   "execution_count": 76,
   "metadata": {},
   "outputs": [
    {
     "data": {
      "text/plain": [
       "<matplotlib.axes._subplots.AxesSubplot at 0x1da9d033898>"
      ]
     },
     "execution_count": 76,
     "metadata": {},
     "output_type": "execute_result"
    },
    {
     "data": {
      "image/png": "[encoded data removed]",
      "text/plain": [
       "<matplotlib.figure.Figure at 0x1da9d033978>"
      ]
     },
     "metadata": {},
     "output_type": "display_data"
    }
   ],
   "source": [
    "fig = plt.figure(figsize=(10,12))\n",
    "ax = fig.add_subplot(1,1,1)\n",
    "xgb.plot_importance(model, height=0.2, ax=ax)"
   ]
  },
  {
   "cell_type": "markdown",
   "metadata": {},
   "source": [
    "### f1 score"
   ]
  },
  {
   "cell_type": "code",
   "execution_count": null,
   "metadata": {
    "collapsed": true
   },
   "outputs": [],
   "source": [
    "def f1_score(y_true, y_pred):\n",
    "\n",
    "    y_true, y_pred = set(y_true), set(y_pred)\n",
    "    \n",
    "    p = sum([1 for i in y_pred if i in y_true]) / len(y_pred)\n",
    "    \n",
    "    r = sum([1 for i in y_true if i in y_pred]) / len(y_true)\n",
    "    \n",
    "    if p + r == 0:\n",
    "        return 0\n",
    "    return (2 * p * r) / (p + r)"
   ]
  }
 ],
 "metadata": {
  "kernelspec": {
   "display_name": "Python 3",
   "language": "python",
   "name": "python3"
  },
  "language_info": {
   "codemirror_mode": {
    "name": "ipython",
    "version": 3
   },
   "file_extension": ".py",
   "mimetype": "text/x-python",
   "name": "python",
   "nbconvert_exporter": "python",
   "pygments_lexer": "ipython3",
   "version": "3.6.1"
  }
 },
 "nbformat": 4,
 "nbformat_minor": 2
}
